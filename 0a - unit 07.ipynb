{
 "cells": [
  {
   "cell_type": "markdown",
   "id": "e3e57e33",
   "metadata": {},
   "source": [
    "# Exercise: Using a trained model on a new dataset\n",
    "\n",
    "Previously, we created a basic model that let us find the relationship between a person's shoe length and their height. We showed how this model could then be used to make a prediction about a new, previously unseen person.\n",
    "\n",
    "Last time, we built, trained, then used our model. Of course, in the real world, we might want to train our model in January in order to use it in March. How can we do this?\n",
    "\n",
    "Here we will:\n",
    "\n",
    "1. Create a basic model\n",
    "2. Save it to disk\n",
    "3. Load it from disk\n",
    "4. Use it to make predictions about a new dataset.\n",
    "\n",
    "## Load the first dataset\n",
    "\n",
    "Let's begin by opening the dataset from file"
   ]
  },
  {
   "cell_type": "code",
   "execution_count": 6,
   "id": "64366eb9",
   "metadata": {},
   "outputs": [
    {
     "output_type": "execute_result",
     "data": {
      "text/plain": [
       "   shoe_length  height\n",
       "0           29   177.6\n",
       "1           32   183.8\n",
       "2           15   159.0\n",
       "3           32   192.8\n",
       "4           24   172.6"
      ],
      "text/html": "<div>\n<style scoped>\n    .dataframe tbody tr th:only-of-type {\n        vertical-align: middle;\n    }\n\n    .dataframe tbody tr th {\n        vertical-align: top;\n    }\n\n    .dataframe thead th {\n        text-align: right;\n    }\n</style>\n<table border=\"1\" class=\"dataframe\">\n  <thead>\n    <tr style=\"text-align: right;\">\n      <th></th>\n      <th>shoe_length</th>\n      <th>height</th>\n    </tr>\n  </thead>\n  <tbody>\n    <tr>\n      <td>0</td>\n      <td>29</td>\n      <td>177.6</td>\n    </tr>\n    <tr>\n      <td>1</td>\n      <td>32</td>\n      <td>183.8</td>\n    </tr>\n    <tr>\n      <td>2</td>\n      <td>15</td>\n      <td>159.0</td>\n    </tr>\n    <tr>\n      <td>3</td>\n      <td>32</td>\n      <td>192.8</td>\n    </tr>\n    <tr>\n      <td>4</td>\n      <td>24</td>\n      <td>172.6</td>\n    </tr>\n  </tbody>\n</table>\n</div>"
     },
     "metadata": {},
     "execution_count": 6
    }
   ],
   "source": [
    "import pandas\n",
    "\n",
    "# Load a file containing people's shoe sizes\n",
    "# and height, both in cm\n",
    "data = pandas.read_csv('shoe-size-height.csv')\n",
    "\n",
    "# Print the first few rows\n",
    "data.head()\n"
   ]
  },
  {
   "cell_type": "markdown",
   "id": "822fff6b",
   "metadata": {},
   "source": [
    "## Create and train a model\n",
    "\n",
    "As we have done before, we will create a simple Linear Regression model and train it on our dataset.\n",
    "\n",
    "This time, for variety, we will use a different python package, scikit-learn, to run our linear regression."
   ]
  },
  {
   "cell_type": "code",
   "execution_count": 7,
   "id": "978d5fe6",
   "metadata": {},
   "outputs": [
    {
     "output_type": "stream",
     "name": "stdout",
     "text": [
      "Model trained!\n"
     ]
    }
   ],
   "source": [
    "from sklearn.linear_model import LinearRegression\n",
    "import numpy as np\n",
    "\n",
    "\n",
    "# For simplicity, we will call shoe_length X and height y. \n",
    "# We will also convert them into numpy arrays, as these\n",
    "# work nicely with our linear regression library \n",
    "X = np.array(data[\"shoe_length\"])\n",
    "y = np.array(data[\"height\"])\n",
    "\n",
    "\n",
    "# Scikitlearn requires that input data looks like it is\n",
    "# 2D, even when it only contains one column. Here, we \n",
    "# slightly reorganise the data to appear 2D.\n",
    "X = X.reshape(-1, 1)\n",
    "y = y.reshape(-1, 1)\n",
    "\n",
    "# Now create the linear regression model and fit it\n",
    "# to our training dataset\n",
    "model = LinearRegression()\n",
    "model = model.fit(X, y)\n",
    "\n",
    "print(\"Model trained!\")"
   ]
  },
  {
   "source": [
    "## Saving and loading a model\n",
    "\n",
    "Our model is ready to use, but we don't need it yet. Let's save it to disk."
   ],
   "cell_type": "markdown",
   "metadata": {}
  },
  {
   "source": [
    "import joblib\n",
    "model_filename = './height_shoes_model.pkl'\n",
    "joblib.dump(model, model_filename)\n",
    "\n",
    "print(\"Model saved!\")"
   ],
   "cell_type": "code",
   "metadata": {},
   "execution_count": 8,
   "outputs": [
    {
     "output_type": "stream",
     "name": "stdout",
     "text": [
      "Model saved!\n"
     ]
    }
   ]
  },
  {
   "source": [
    "Loading our model is just as easy:"
   ],
   "cell_type": "markdown",
   "metadata": {}
  },
  {
   "cell_type": "code",
   "execution_count": 9,
   "metadata": {},
   "outputs": [
    {
     "output_type": "stream",
     "name": "stdout",
     "text": [
      "We have loaded the following: LinearRegression(copy_X=True, fit_intercept=True, n_jobs=None, normalize=False)\n"
     ]
    }
   ],
   "source": [
    "model_loaded = joblib.load(model_filename)\n",
    "\n",
    "print(\"We have loaded the following:\", model_loaded)"
   ]
  },
  {
   "cell_type": "markdown",
   "id": "b732e62b",
   "metadata": {},
   "source": [
    "## Putting it together\n",
    "\n",
    "The normal use-case for saved models is that we we receive new data, and we want to run predictions on it without re-training the model.\n",
    "\n",
    "Let's put everything here together to make a function that loads a model from disk and uses it to make predictions on new data."
   ]
  },
  {
   "cell_type": "code",
   "execution_count": 11,
   "id": "f0c9e8b2",
   "metadata": {},
   "outputs": [
    {
     "output_type": "stream",
     "name": "stdout",
     "text": [
      "We have loaded the following model: LinearRegression(copy_X=True, fit_intercept=True, n_jobs=None, normalize=False)\n\nPredictions:\n    shoe_length (cm)  Predicted height (cm)\n0               31.0             187.689241\n1               19.0             162.434414\n2               34.0             194.002948\n3               15.0             154.016138\n4               31.0             187.689241\n5               24.0             172.957259\n6               33.0             191.898379\n7               24.0             172.957259\n8               16.0             156.120707\n9               19.0             162.434414\n10              15.0             154.016138\n11              28.0             181.375534\n12              35.0             196.107517\n13              28.0             181.375534\n14              25.0             175.061828\n15              20.0             164.538983\n16              21.0             166.643552\n17              24.0             172.957259\n18              25.0             175.061828\n19              35.0             196.107517\n20              34.0             194.002948\n21              25.0             175.061828\n22              28.0             181.375534\n23              24.0             172.957259\n24              34.0             194.002948\n25              15.0             154.016138\n26              35.0             196.107517\n27              28.0             181.375534\n28              15.0             154.016138\n29              29.0             183.480103\n30              34.0             194.002948\n31              16.0             156.120707\n32              24.0             172.957259\n33              24.0             172.957259\n34              18.0             160.329845\n35              15.0             154.016138\n36              17.0             158.225276\n37              34.0             194.002948\n38              23.0             170.852690\n39              25.0             175.061828\n40              17.0             158.225276\n41              30.0             185.584672\n42              21.0             166.643552\n43              33.0             191.898379\n44              28.0             181.375534\n45              18.0             160.329845\n46              32.0             189.793810\n47              30.0             185.584672\n48              29.0             183.480103\n49              32.0             189.793810\n"
     ]
    }
   ],
   "source": [
    "def load_model_and_predict(path_to_model, path_to_data):\n",
    "    '''\n",
    "    This function loads a pretrained model and a dataset of \n",
    "    shoe sizes from disk. It uses the model to predict how \n",
    "    tall the people are, based on their shoe size.\n",
    "    '''\n",
    "\n",
    "    # Load the model and print basic information about it\n",
    "    loaded_model = joblib.load(path_to_model)\n",
    "\n",
    "    print(\"We have loaded the following model:\", loaded_model)\n",
    "\n",
    "    # Load the dataset and prepare it for our model\n",
    "    data = pandas.read_csv(path_to_data)\n",
    "\n",
    "    shoe_lengths = np.array(data[\"shoe_length\"])\n",
    "    shoe_lengths = shoe_lengths.reshape(-1, 1)\n",
    "\n",
    "    # Use the model to make a prediction\n",
    "    predicted_heights = loaded_model.predict(shoe_lengths)\n",
    "\n",
    "    # Print out a table of the shoe sizes and predicted heights\n",
    "    dataframe = pandas.DataFrame({\"shoe_length (cm)\":shoe_lengths[:,0], \"Predicted height (cm)\":predicted_heights[:,0]})\n",
    "    print(\"\\nPredictions:\")\n",
    "    print(dataframe)\n",
    "\n",
    "load_model_and_predict(model_filename, 'shoe-size-and-height-dataset-2.csv')"
   ]
  },
  {
   "source": [
    "\n",
    "## Summary\n",
    "\n",
    "Well done!\n",
    "In this exercise, we practiced:\n",
    "\n",
    "1. Creating basic models\n",
    "2. Training, then saving them to disk\n",
    "3. Loading them from disk\n",
    "4. Making predictions with them using new data sets"
   ],
   "cell_type": "markdown",
   "metadata": {}
  }
 ],
 "metadata": {
  "kernelspec": {
   "name": "python374jvsc74a57bd07995cae578ba42001cb1a73708ba3f8dcdc7bf7a76367f6d865c1b47e25a5300",
   "display_name": "Python 3.7.4 64-bit (conda)"
  },
  "language_info": {
   "codemirror_mode": {
    "name": "ipython",
    "version": 3
   },
   "file_extension": ".py",
   "mimetype": "text/x-python",
   "name": "python",
   "nbconvert_exporter": "python",
   "pygments_lexer": "ipython3",
   "version": "3.7.4-final"
  }
 },
 "nbformat": 4,
 "nbformat_minor": 5
}