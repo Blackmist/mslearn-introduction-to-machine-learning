{
 "cells": [
  {
   "cell_type": "markdown",
   "id": "e3e57e33",
   "metadata": {},
   "source": [
    "# Exercise: Using a trained model on a new dataset\n",
    "\n",
    "Previously, we created a basic model that let us find the relationship between a person's shoe length and their height. We showed how this model could then be used to make a prediction about a new, previously unseen person.\n",
    "\n",
    "It's common to build, train, then use a model while we are just experimenting, but in the real world, we might want to train our model in Seattle in order to use three months later in New York on completely new data. How can we do this?\n",
    "\n",
    "Here we will:\n",
    "\n",
    "1. Create a basic model\n",
    "2. Save it to disk\n",
    "3. Load it from disk\n",
    "4. Use it to make predictions about a new dataset.\n",
    "\n",
    "## Load the first dataset\n",
    "\n",
    "Let's begin by opening the dataset from file"
   ]
  },
  {
   "cell_type": "code",
   "execution_count": 1,
   "id": "64366eb9",
   "metadata": {},
   "outputs": [
    {
     "output_type": "execute_result",
     "data": {
      "text/plain": [
       "   shoe_length  height\n",
       "0           35   170.0\n",
       "1           32   195.0\n",
       "2           15   168.0\n",
       "3           32   190.9\n",
       "4           24   185.0"
      ],
      "text/html": "<div>\n<style scoped>\n    .dataframe tbody tr th:only-of-type {\n        vertical-align: middle;\n    }\n\n    .dataframe tbody tr th {\n        vertical-align: top;\n    }\n\n    .dataframe thead th {\n        text-align: right;\n    }\n</style>\n<table border=\"1\" class=\"dataframe\">\n  <thead>\n    <tr style=\"text-align: right;\">\n      <th></th>\n      <th>shoe_length</th>\n      <th>height</th>\n    </tr>\n  </thead>\n  <tbody>\n    <tr>\n      <th>0</th>\n      <td>35</td>\n      <td>170.0</td>\n    </tr>\n    <tr>\n      <th>1</th>\n      <td>32</td>\n      <td>195.0</td>\n    </tr>\n    <tr>\n      <th>2</th>\n      <td>15</td>\n      <td>168.0</td>\n    </tr>\n    <tr>\n      <th>3</th>\n      <td>32</td>\n      <td>190.9</td>\n    </tr>\n    <tr>\n      <th>4</th>\n      <td>24</td>\n      <td>185.0</td>\n    </tr>\n  </tbody>\n</table>\n</div>"
     },
     "metadata": {},
     "execution_count": 1
    }
   ],
   "source": [
    "import pandas\n",
    "\n",
    "# Load a file containing people's shoe sizes\n",
    "# and height, both in cm\n",
    "data = pandas.read_csv('Data/shoe-size-height.csv')\n",
    "\n",
    "# Print the first few rows\n",
    "data.head()\n"
   ]
  },
  {
   "cell_type": "markdown",
   "id": "822fff6b",
   "metadata": {},
   "source": [
    "## Create and train a model\n",
    "\n",
    "As we have done before, we will create a simple Linear Regression model and train it on our dataset."
   ]
  },
  {
   "cell_type": "code",
   "execution_count": 2,
   "id": "978d5fe6",
   "metadata": {},
   "outputs": [
    {
     "output_type": "stream",
     "name": "stderr",
     "text": [
      "C:\\Users\\leere\\Anaconda3\\envs\\ml_crash_course\\lib\\site-packages\\statsmodels\\tools\\_testing.py:19: FutureWarning: pandas.util.testing is deprecated. Use the functions in the public API at pandas.testing instead.\n",
      "  import pandas.util.testing as tm\n",
      "Model trained!\n"
     ]
    }
   ],
   "source": [
    "import statsmodels.formula.api as smf\n",
    "from scipy import stats\n",
    "\n",
    "# Fit a simple model that finds a linear relationship\n",
    "# between shoe length and height, which we can use later\n",
    "# to predict someone's height based on their shoe length\n",
    "model = smf.ols(formula = \"height ~ shoe_length\", data = data).fit()\n",
    "\n",
    "print(\"Model trained!\")"
   ]
  },
  {
   "source": [
    "## Saving and loading a model\n",
    "\n",
    "Our model is ready to use, but we don't need it yet. Let's save it to disk."
   ],
   "cell_type": "markdown",
   "metadata": {}
  },
  {
   "source": [
    "import joblib\n",
    "model_filename = './height_shoes_model.pkl'\n",
    "joblib.dump(model, model_filename)\n",
    "\n",
    "print(\"Model saved!\")"
   ],
   "cell_type": "code",
   "metadata": {},
   "execution_count": 3,
   "outputs": [
    {
     "output_type": "stream",
     "name": "stdout",
     "text": [
      "Model saved!\n"
     ]
    }
   ]
  },
  {
   "source": [
    "Loading our model is just as easy:"
   ],
   "cell_type": "markdown",
   "metadata": {}
  },
  {
   "cell_type": "code",
   "execution_count": 4,
   "metadata": {},
   "outputs": [
    {
     "output_type": "stream",
     "name": "stdout",
     "text": [
      "We have loaded a model with the following parameters:\nIntercept      158.307560\nshoe_length      1.095146\ndtype: float64\n"
     ]
    }
   ],
   "source": [
    "model_loaded = joblib.load(model_filename)\n",
    "\n",
    "\n",
    "print(\"We have loaded a model with the following parameters:\")\n",
    "print(model_loaded.params)\n"
   ]
  },
  {
   "cell_type": "markdown",
   "id": "b732e62b",
   "metadata": {},
   "source": [
    "## Putting it together\n",
    "\n",
    "The normal use-case for saved models is that we we receive new data, and we want to run predictions on it without re-training the model.\n",
    "\n",
    "Let's put everything here together to make a function that loads a model from disk and uses it to make predictions on new data."
   ]
  },
  {
   "cell_type": "code",
   "execution_count": 5,
   "id": "f0c9e8b2",
   "metadata": {},
   "outputs": [
    {
     "output_type": "stream",
     "name": "stdout",
     "text": [
      "We have loaded a model with the following parameters:\nIntercept      158.307560\nshoe_length      1.095146\ndtype: float64\n\nTop rows of our input data:\n   shoe_length\n0         31.0\n1         19.0\n2         34.0\n3         15.0\n4         31.0\n\nPredictions:\n    shoe_length (cm)  Predicted height (cm)\n0               31.0             192.257091\n1               19.0             179.115337\n2               34.0             195.542530\n3               15.0             174.734752\n4               31.0             192.257091\n5               24.0             184.591068\n6               33.0             194.447383\n7               24.0             184.591068\n8               16.0             175.829898\n9               19.0             179.115337\n10              15.0             174.734752\n11              28.0             188.971653\n12              35.0             196.637676\n13              28.0             188.971653\n14              25.0             185.686214\n15              20.0             180.210483\n16              21.0             181.305629\n17              24.0             184.591068\n18              25.0             185.686214\n19              35.0             196.637676\n20              34.0             195.542530\n21              25.0             185.686214\n22              28.0             188.971653\n23              24.0             184.591068\n24              34.0             195.542530\n25              15.0             174.734752\n26              35.0             196.637676\n27              28.0             188.971653\n28              15.0             174.734752\n29              29.0             190.066799\n30              34.0             195.542530\n31              16.0             175.829898\n32              24.0             184.591068\n33              24.0             184.591068\n34              18.0             178.020191\n35              15.0             174.734752\n36              17.0             176.925045\n37              34.0             195.542530\n38              23.0             183.495922\n39              25.0             185.686214\n40              17.0             176.925045\n41              30.0             191.161945\n42              21.0             181.305629\n43              33.0             194.447383\n44              28.0             188.971653\n45              18.0             178.020191\n46              32.0             193.352237\n47              30.0             191.161945\n48              29.0             190.066799\n49              32.0             193.352237\n"
     ]
    }
   ],
   "source": [
    "def load_model_and_predict(path_to_model, path_to_data):\n",
    "    '''\n",
    "    This function loads a pretrained model and a dataset of \n",
    "    shoe sizes from disk. It uses the model to predict how \n",
    "    tall the people are, based on their shoe size.\n",
    "    '''\n",
    "\n",
    "    # Load the model and print basic information about it\n",
    "    loaded_model = joblib.load(path_to_model)\n",
    "\n",
    "    print(\"We have loaded a model with the following parameters:\")\n",
    "    print(loaded_model.params)\n",
    "\n",
    "    # Load the dataset\n",
    "    data = pandas.read_csv(path_to_data)\n",
    "    print(\"\\nTop rows of our input data:\")\n",
    "    print(data.head())\n",
    "\n",
    "    # Use the model to make a prediction\n",
    "    predicted_heights = loaded_model.predict(data.shoe_length)\n",
    "\n",
    "    # Print out a table of the shoe sizes and predicted heights\n",
    "    dataframe = pandas.DataFrame({\"shoe_length (cm)\":data.shoe_length, \"Predicted height (cm)\":predicted_heights})\n",
    "    print(\"\\nPredictions:\")\n",
    "    print(dataframe)\n",
    "\n",
    "load_model_and_predict(model_filename, 'Data\\shoe-sizes.csv')"
   ]
  },
  {
   "source": [
    "\n",
    "## Summary\n",
    "\n",
    "Well done!\n",
    "In this exercise, we practiced:\n",
    "\n",
    "1. Creating basic models\n",
    "2. Training, then saving them to disk\n",
    "3. Loading them from disk\n",
    "4. Making predictions with them using new data sets"
   ],
   "cell_type": "markdown",
   "metadata": {}
  }
 ],
 "metadata": {
  "kernelspec": {
   "name": "python3710jvsc74a57bd0a970c7e51787c6ef7f3c805442fbb5a30ae2745635e1d2514e62d936ba85c55c",
   "display_name": "Python 3.7.10 64-bit ('ml_crash_course': conda)"
  },
  "language_info": {
   "codemirror_mode": {
    "name": "ipython",
    "version": 3
   },
   "file_extension": ".py",
   "mimetype": "text/x-python",
   "name": "python",
   "nbconvert_exporter": "python",
   "pygments_lexer": "ipython3",
   "version": "3.7.10"
  }
 },
 "nbformat": 4,
 "nbformat_minor": 5
}