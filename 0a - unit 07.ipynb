{
 "cells": [
  {
   "cell_type": "markdown",
   "id": "e3e57e33",
   "metadata": {},
   "source": [
    "# Exercise: Using a trained model on a new data\n",
    "\n",
    "In Unit 3, we created a basic model that let us find the relationship between a person's shoe size and their height. We showed how this model could then be used to make a prediction about a new, previously unseen person.\n",
    "\n",
    "It's common to build, train, then use a model while we are just learning about machine learning, but in the real world we don't want to train the model _every time_ we want to make a prediction.\n",
    "\n",
    "Consider our shoe-store scenario:\n",
    "* We want to train the model just once, then load that model onto the server that runs our online store. \n",
    "* Although the model is _trained_ on a dataset we downloaded from the internet, we actually want to _use_ it to estimate the heights of our customers who are not in this dataset! \n",
    "\n",
    "How can we do this?\n",
    "\n",
    "Here we will:\n",
    "\n",
    "1. Create a basic model\n",
    "2. Save it to disk\n",
    "3. Load it from disk\n",
    "4. Use it to make predictions about a customers who were not in the training dataset.\n",
    "\n",
    "## Load the dataset\n",
    "\n",
    "Let's begin by opening the dataset from file"
   ]
  },
  {
   "cell_type": "code",
   "execution_count": 1,
   "id": "64366eb9",
   "metadata": {},
   "outputs": [
    {
     "output_type": "execute_result",
     "data": {
      "text/plain": [
       "   shoe_size_eu  height     sex  age_years  shoe_size_usa\n",
       "0            39     173    male         60              6\n",
       "1            38     173    male         48              5\n",
       "2            37     157  female         43              4\n",
       "3            39     175    male         51              6\n",
       "4            38     170    male         39              5"
      ],
      "text/html": "<div>\n<style scoped>\n    .dataframe tbody tr th:only-of-type {\n        vertical-align: middle;\n    }\n\n    .dataframe tbody tr th {\n        vertical-align: top;\n    }\n\n    .dataframe thead th {\n        text-align: right;\n    }\n</style>\n<table border=\"1\" class=\"dataframe\">\n  <thead>\n    <tr style=\"text-align: right;\">\n      <th></th>\n      <th>shoe_size_eu</th>\n      <th>height</th>\n      <th>sex</th>\n      <th>age_years</th>\n      <th>shoe_size_usa</th>\n    </tr>\n  </thead>\n  <tbody>\n    <tr>\n      <th>0</th>\n      <td>39</td>\n      <td>173</td>\n      <td>male</td>\n      <td>60</td>\n      <td>6</td>\n    </tr>\n    <tr>\n      <th>1</th>\n      <td>38</td>\n      <td>173</td>\n      <td>male</td>\n      <td>48</td>\n      <td>5</td>\n    </tr>\n    <tr>\n      <th>2</th>\n      <td>37</td>\n      <td>157</td>\n      <td>female</td>\n      <td>43</td>\n      <td>4</td>\n    </tr>\n    <tr>\n      <th>3</th>\n      <td>39</td>\n      <td>175</td>\n      <td>male</td>\n      <td>51</td>\n      <td>6</td>\n    </tr>\n    <tr>\n      <th>4</th>\n      <td>38</td>\n      <td>170</td>\n      <td>male</td>\n      <td>39</td>\n      <td>5</td>\n    </tr>\n  </tbody>\n</table>\n</div>"
     },
     "metadata": {},
     "execution_count": 1
    }
   ],
   "source": [
    "import pandas\n",
    "\n",
    "# Load a file containing people's shoe sizes\n",
    "# and height, both in cm\n",
    "data = pandas.read_csv('Data/shoe-size-height.csv')\n",
    "\n",
    "# Convert EU shoe sizes to the USA shoe sizes\n",
    "# that we sell in our store\n",
    "data[\"shoe_size_usa\"] = data.shoe_size_eu - 33\n",
    "\n",
    "# Print the first few rows\n",
    "data.head()\n"
   ]
  },
  {
   "cell_type": "markdown",
   "id": "822fff6b",
   "metadata": {},
   "source": [
    "## Create and train a model\n",
    "\n",
    "As we have done before, we will create a simple Linear Regression model and train it on our dataset."
   ]
  },
  {
   "cell_type": "code",
   "execution_count": 2,
   "id": "978d5fe6",
   "metadata": {},
   "outputs": [
    {
     "output_type": "stream",
     "name": "stderr",
     "text": [
      "C:\\Users\\leere\\Anaconda3\\envs\\ml_crash_course\\lib\\site-packages\\statsmodels\\tools\\_testing.py:19: FutureWarning: pandas.util.testing is deprecated. Use the functions in the public API at pandas.testing instead.\n",
      "  import pandas.util.testing as tm\n",
      "Model trained!\n"
     ]
    }
   ],
   "source": [
    "import statsmodels.formula.api as smf\n",
    "\n",
    "# Fit a simple model that finds a linear relationship\n",
    "# between shoe size and height, which we can use later\n",
    "# to predict someone's height based on their shoe size\n",
    "model = smf.ols(formula = \"height ~ shoe_size_usa\", data = data).fit()\n",
    "\n",
    "print(\"Model trained!\")"
   ]
  },
  {
   "source": [
    "## Saving and loading a model\n",
    "\n",
    "Our model is ready to use, but we don't need it yet. Let's save it to disk."
   ],
   "cell_type": "markdown",
   "metadata": {}
  },
  {
   "source": [
    "import joblib\n",
    "\n",
    "model_filename = './height_shoes_model.pkl'\n",
    "joblib.dump(model, model_filename)\n",
    "\n",
    "print(\"Model saved!\")"
   ],
   "cell_type": "code",
   "metadata": {},
   "execution_count": 3,
   "outputs": [
    {
     "output_type": "stream",
     "name": "stdout",
     "text": [
      "Model saved!\n"
     ]
    }
   ]
  },
  {
   "source": [
    "Loading our model is just as easy:"
   ],
   "cell_type": "markdown",
   "metadata": {}
  },
  {
   "cell_type": "code",
   "execution_count": 4,
   "metadata": {},
   "outputs": [
    {
     "output_type": "stream",
     "name": "stdout",
     "text": [
      "We have loaded a model with the following parameters:\nIntercept        151.227143\nshoe_size_usa      2.927229\ndtype: float64\n"
     ]
    }
   ],
   "source": [
    "model_loaded = joblib.load(model_filename)\n",
    "\n",
    "print(\"We have loaded a model with the following parameters:\")\n",
    "print(model_loaded.params)"
   ]
  },
  {
   "cell_type": "markdown",
   "id": "b732e62b",
   "metadata": {},
   "source": [
    "## Putting it together\n",
    "\n",
    "On our website, we will want to take the shoe size of our customer, then calculate their height using the model that we've already trained.\n",
    "\n",
    "Let's put everything here together to make a function that loads the model from disk, then uses it to predict our customer's height."
   ]
  },
  {
   "cell_type": "code",
   "execution_count": 5,
   "id": "f0c9e8b2",
   "metadata": {},
   "outputs": [
    {
     "output_type": "stream",
     "name": "stdout",
     "text": [
      "We have loaded a model with the following parameters:\nIntercept        151.227143\nshoe_size_usa      2.927229\ndtype: float64\nPredicted height (cm): 164.3996724579892\n"
     ]
    }
   ],
   "source": [
    "# Let's write a function that loads and uses our model\n",
    "def load_model_and_predict(customer_shoe_size_usa):\n",
    "    '''\n",
    "    This function loads a pretrained model the shoe size\n",
    "    of a customer. It uses the model to predict how \n",
    "    tall the person is.\n",
    "\n",
    "    customer_shoe_size_usa: The shoe size, in USA units \n",
    "    '''\n",
    "\n",
    "    # Load the model from file and print basic information about it\n",
    "    loaded_model = joblib.load(model_filename)\n",
    "\n",
    "    print(\"We have loaded a model with the following parameters:\")\n",
    "    print(loaded_model.params)\n",
    "\n",
    "    # Prepare data for the model\n",
    "    inputs = {\"shoe_size_usa\":[customer_shoe_size_usa]} \n",
    "\n",
    "    # Use the model to make a prediction\n",
    "    predicted_height = loaded_model.predict(inputs)[0]\n",
    "\n",
    "    return predicted_height\n",
    "\n",
    "# Practice using our model\n",
    "predicted_height = load_model_and_predict(4.5)\n",
    "\n",
    "print(\"Predicted height (cm):\", predicted_height)"
   ]
  },
  {
   "source": [
    "## Real world use \n",
    "\n",
    "We've done it - we can predict someone's height based on their shoe size. Our last step is to use this to warn people if their jeans might be the wrong size. \n",
    "\n",
    "As an example, we'll make a function that accepts the shoe size, the size of the jeans selected, and returns a message for the customer. We would integrate this function into our online store."
   ],
   "cell_type": "markdown",
   "metadata": {}
  },
  {
   "cell_type": "code",
   "execution_count": 6,
   "metadata": {},
   "outputs": [
    {
     "output_type": "stream",
     "name": "stdout",
     "text": [
      "We have loaded a model with the following parameters:\nIntercept        151.227143\nshoe_size_usa      2.927229\ndtype: float64\n"
     ]
    },
    {
     "output_type": "execute_result",
     "data": {
      "text/plain": [
       "'The jeans you have selected might be too long for someone of your height. We recommend jeans with an inseam length of 28 inches'"
      ]
     },
     "metadata": {},
     "execution_count": 6
    }
   ],
   "source": [
    "def check_size_of_jeans_and_shoes(customer_shoe_size_usa, jeans_inseam_length):\n",
    "    '''\n",
    "    Calculates whether the customer has chosen a pair of jeans that have\n",
    "    a sensible inseam (leg) length. This works by estimating their height \n",
    "    from their shoe size, then looking up the best jeans inseam length.\n",
    "\n",
    "    This returns a message for the customer that should be shown before\n",
    "    they complete their payment \n",
    "\n",
    "    customer_shoe_size_usa: The customer shoe size, in USA units\n",
    "    jeans_inseam_length: The leg length of the jeans selected, in inches\n",
    "    '''\n",
    "\n",
    "    # Estimate the customer's height, in cm\n",
    "    estimated_height = load_model_and_predict(customer_shoe_size_usa)\n",
    "\n",
    "    # Find the optimum jeans inseam (leg) length for a person of this height\n",
    "    if estimated_height <= 166:\n",
    "        ideal_jeans_inseam_length = 28\n",
    "    elif estimated_height <= 171:\n",
    "        ideal_jeans_inseam_length = 30\n",
    "    elif estimated_height <= 182:\n",
    "        ideal_jeans_inseam_length = 32\n",
    "    elif estimated_height <= 193:\n",
    "        ideal_jeans_inseam_length = 34\n",
    "    elif estimated_height <= 198:\n",
    "        ideal_jeans_inseam_length = 36\n",
    "    else:\n",
    "        ideal_jeans_inseam_length = 38\n",
    "\n",
    "    # Check if the jeans selected are appropriate\n",
    "    if jeans_inseam_length < ideal_jeans_inseam_length:\n",
    "        # Selected jeans might be too small \n",
    "        return \"The jeans you have selected might be too short for someone of \"\\\n",
    "               \"your height. We recommend jeans with an inseam length of \"\\\n",
    "               f\"{ideal_jeans_inseam_length} inches\"\n",
    "\n",
    "    if jeans_inseam_length > ideal_jeans_inseam_length:\n",
    "        # Selected jeans might be too big\n",
    "        return \"The jeans you have selected might be too long for someone of \"\\\n",
    "               \"your height. We recommend jeans with an inseam length of \"\\\n",
    "               f\"{ideal_jeans_inseam_length} inches\"\n",
    "    \n",
    "    # The selected jeans are probably OK\n",
    "    return f\"Great choice! We think these jeans will fit you well\"\n",
    "\n",
    "\n",
    "# Practice using our new warning system\n",
    "check_size_of_jeans_and_shoes(customer_shoe_size_usa=4.5, jeans_inseam_length=30)"
   ]
  },
  {
   "source": [
    "\n",
    "Change `customer_shoe_size_usa` and `jeans_inseam_length` in the example above and re-run to see this in action.\n",
    "\n",
    "## Summary\n",
    "\n",
    "Well done! We've put together a system that can predict if customers are buying jeans that may not fit them, based solely on their shoe size. \n",
    "\n",
    "In this exercise, we practiced:\n",
    "\n",
    "1. Creating basic models\n",
    "2. Training, then saving them to disk\n",
    "3. Loading them from disk\n",
    "4. Making predictions with them using new data sets"
   ],
   "cell_type": "markdown",
   "metadata": {}
  }
 ],
 "metadata": {
  "kernelspec": {
   "name": "python3710jvsc74a57bd0a970c7e51787c6ef7f3c805442fbb5a30ae2745635e1d2514e62d936ba85c55c",
   "display_name": "Python 3.7.10 64-bit ('ml_crash_course': conda)"
  },
  "language_info": {
   "codemirror_mode": {
    "name": "ipython",
    "version": 3
   },
   "file_extension": ".py",
   "mimetype": "text/x-python",
   "name": "python",
   "nbconvert_exporter": "python",
   "pygments_lexer": "ipython3",
   "version": "3.7.10"
  }
 },
 "nbformat": 4,
 "nbformat_minor": 5
}