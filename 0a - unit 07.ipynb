{
 "cells": [
  {
   "cell_type": "markdown",
   "id": "2f5dd645",
   "metadata": {},
   "source": [
    "# Exercise: Using a trained model on a new dataset"
   ]
  },
  {
   "cell_type": "markdown",
   "id": "e3e57e33",
   "metadata": {},
   "source": [
    "In this exercise, we will fit a model to a first dataset, and then use the fitted model to run inference on a second, unseen dataset."
   ]
  },
  {
   "cell_type": "markdown",
   "id": "633f36cb",
   "metadata": {},
   "source": [
    "## Create first dataset"
   ]
  },
  {
   "cell_type": "markdown",
   "id": "b217a116",
   "metadata": {},
   "source": [
    "Let's begin by creating the first dataset"
   ]
  },
  {
   "cell_type": "code",
   "execution_count": 1,
   "id": "64366eb9",
   "metadata": {},
   "outputs": [],
   "source": [
    "\n",
    "# Make a dictionary of data for shoe sizes in cm\n",
    "# and person height in cm\n",
    "\n",
    "data = {\n",
    "    'shoe_length' : [24, 18, 28, 31, 16, 34, 25, 19, 25, 33,\n",
    "                    19, 29, 29, 32, 19, 25, 24, 15, 16, 33,\n",
    "                    28, 18, 15, 19, 26, 24, 28, 16, 22, 31,\n",
    "                    ],\n",
    "    'height': [167, 148, 180, 198, 153, 207, 183, 157, 167, 188,\n",
    "               152, 184, 174, 191, 164, 176, 177, 145, 171, 200,\n",
    "               175, 149, 149, 149, 175, 183, 190, 172, 175, 175]\n",
    "}\n"
   ]
  },
  {
   "cell_type": "markdown",
   "id": "822fff6b",
   "metadata": {},
   "source": [
    "## Split dataset into training and testing sets"
   ]
  },
  {
   "cell_type": "markdown",
   "id": "7d7eedd7",
   "metadata": {},
   "source": [
    "Now, we split the dataset into a training and testing set"
   ]
  },
  {
   "cell_type": "code",
   "execution_count": 2,
   "id": "978d5fe6",
   "metadata": {},
   "outputs": [],
   "source": [
    "import matplotlib.pyplot as graph\n",
    "import statsmodels.formula.api as smf\n",
    "from scipy import stats\n",
    "from sklearn.model_selection import train_test_split\n",
    "from sklearn.linear_model import LinearRegression\n",
    "from sklearn.metrics import mean_squared_error\n",
    "from numpy import reshape,array\n",
    "import numpy as np\n",
    "import joblib\n",
    "\n",
    "X = array(data[\"shoe_length\"])\n",
    "y = array(data[\"height\"])\n",
    "\n",
    " #random_state for reproducibilty\n",
    "X_train, X_test, y_train, y_test = train_test_split(X,y, test_size=0.2, random_state=0)\n",
    "\n",
    "#reshape for use with sklearn LinearRegression()\n",
    "\n",
    "X_train = X_train.reshape(-1,1)\n",
    "y_train = y_train.reshape(-1,1)\n",
    "X_test = X_test.reshape(-1,1)\n",
    "y_test = y_test.reshape(-1,1)"
   ]
  },
  {
   "cell_type": "markdown",
   "id": "b094f322",
   "metadata": {},
   "source": [
    "## Create and test the model"
   ]
  },
  {
   "cell_type": "markdown",
   "id": "b732e62b",
   "metadata": {},
   "source": [
    "Let's create our model using the training data, and visualise its performance as a graph, and in terms of RMSE"
   ]
  },
  {
   "cell_type": "code",
   "execution_count": 3,
   "id": "f0c9e8b2",
   "metadata": {},
   "outputs": [
    {
     "data": {
      "image/png": "[encoded data removed]",
      "text/plain": [
       "<Figure size 432x288 with 1 Axes>"
      ]
     },
     "metadata": {
      "needs_background": "light"
     },
     "output_type": "display_data"
    },
    {
     "name": "stdout",
     "output_type": "stream",
     "text": [
      "RMSE: 9.015360720619682\n"
     ]
    }
   ],
   "source": [
    "# Create linear regression model\n",
    "model = LinearRegression().fit(X_train,y_train)\n",
    "\n",
    "y_train_pred = model.predict(X_train)\n",
    "\n",
    "# Show a graph of the result\n",
    "# Don't worry about how this is done for now\n",
    "%matplotlib inline\n",
    "intercept = model.intercept_\n",
    "slope = model.coef_\n",
    "line = slope * X_train + intercept\n",
    "graph.scatter(X_train, y_train,  color='black')\n",
    "graph.plot(X_train, line, '-', c = 'red')\n",
    "graph.ylabel('Person height')\n",
    "graph.xlabel(\"Shoe length\")\n",
    "graph.title('height as a function of shoe length')\n",
    "graph.show()\n",
    "\n",
    "rms_train = mean_squared_error(y_train,y_train_pred, squared=False)\n",
    "print(f\"RMSE: {rms_train}\")"
   ]
  },
  {
   "cell_type": "markdown",
   "id": "136de026",
   "metadata": {},
   "source": [
    "Now let's test the model's performance on the test data, and visualise its performance as a graph, and in terms of RMSE"
   ]
  },
  {
   "cell_type": "code",
   "execution_count": 4,
   "id": "5f17d257",
   "metadata": {},
   "outputs": [
    {
     "data": {
      "image/png": "[encoded data removed]",
      "text/plain": [
       "<Figure size 432x288 with 1 Axes>"
      ]
     },
     "metadata": {
      "needs_background": "light"
     },
     "output_type": "display_data"
    },
    {
     "name": "stdout",
     "output_type": "stream",
     "text": [
      "RMSE: 5.861052567932772\n"
     ]
    }
   ],
   "source": [
    "y_test_pred = model.predict(X_test)\n",
    "\n",
    "# Show a graph of the result\n",
    "# Don't worry about how this is done for now\n",
    "%matplotlib inline\n",
    "intercept = model.intercept_\n",
    "slope = model.coef_\n",
    "line = slope * X_test + intercept\n",
    "graph.scatter(X_test, y_test,  color='black')\n",
    "graph.plot(X_test, line, '-', c = 'blue')\n",
    "graph.ylabel('Person height')\n",
    "graph.xlabel(\"Shoe length\")\n",
    "graph.title('height as a function of shoe length')\n",
    "graph.show()\n",
    "\n",
    "rms_test = mean_squared_error(y_test,y_test_pred, squared=False)\n",
    "print(f\"RMSE: {rms_test}\")"
   ]
  },
  {
   "cell_type": "markdown",
   "id": "700abfc1",
   "metadata": {},
   "source": [
    "Now let's save the trained model so we can use it later"
   ]
  },
  {
   "cell_type": "code",
   "execution_count": 5,
   "id": "e282c950",
   "metadata": {},
   "outputs": [
    {
     "data": {
      "text/plain": [
       "['./height_shoes_model.pkl']"
      ]
     },
     "execution_count": 5,
     "metadata": {},
     "output_type": "execute_result"
    }
   ],
   "source": [
    "filename = './height_shoes_model.pkl'\n",
    "joblib.dump(model, filename)"
   ]
  },
  {
   "cell_type": "markdown",
   "id": "8cf5dda8",
   "metadata": {},
   "source": [
    "## Create second dataset"
   ]
  },
  {
   "cell_type": "markdown",
   "id": "b915c389",
   "metadata": {},
   "source": [
    "We would like to see how well our trained model performs on a brand new, unseen dataset"
   ]
  },
  {
   "cell_type": "code",
   "execution_count": 6,
   "id": "453835ae",
   "metadata": {},
   "outputs": [],
   "source": [
    "extra_data = {\n",
    "    'shoe_length' : [21, 19, 21, 37, 11, 37, 22, 22, 20, 39,\n",
    "                    11, 33, 26, 38, 12, 29, 21, 19, 15, 37,\n",
    "                    25, 22, 13, 26, 23, 27, 23, 19, 20, 36,\n",
    "                    ],\n",
    "    'height': [164, 150, 175, 199, 150, 200, 177, 167, 160, 190,\n",
    "               149, 188, 170, 198, 179, 179, 173, 149, 168, 207,\n",
    "               173, 149, 148, 149, 173, 187, 188, 177, 187, 178]\n",
    "}\n",
    "\n"
   ]
  },
  {
   "cell_type": "markdown",
   "id": "4a94480f",
   "metadata": {},
   "source": [
    "## Testing second dataset"
   ]
  },
  {
   "cell_type": "markdown",
   "id": "18610ab0",
   "metadata": {},
   "source": [
    "Let's start by loading in that model that we saved earlier"
   ]
  },
  {
   "cell_type": "code",
   "execution_count": 7,
   "id": "1ad936ba",
   "metadata": {},
   "outputs": [],
   "source": [
    "model_loaded = joblib.load(filename)"
   ]
  },
  {
   "cell_type": "markdown",
   "id": "570dc728",
   "metadata": {},
   "source": [
    "We are testing the entire dataset this time, so we don't need to split it into test and train sets"
   ]
  },
  {
   "cell_type": "code",
   "execution_count": 8,
   "id": "c1f76485",
   "metadata": {},
   "outputs": [
    {
     "data": {
      "image/png": "[encoded data removed]",
      "text/plain": [
       "<Figure size 432x288 with 1 Axes>"
      ]
     },
     "metadata": {
      "needs_background": "light"
     },
     "output_type": "display_data"
    },
    {
     "name": "stdout",
     "output_type": "stream",
     "text": [
      "RMSE: 13.468833142938248\n"
     ]
    }
   ],
   "source": [
    "X_new = array(extra_data[\"shoe_length\"])\n",
    "y_new = array(extra_data[\"height\"])\n",
    "\n",
    "X_new = X_new.reshape(-1,1)\n",
    "y_new = y_new.reshape(-1,1)\n",
    "\n",
    "y_new_pred = model_loaded.predict(X_new)\n",
    "\n",
    "# Show a graph of the result\n",
    "# Don't worry about how this is done for now\n",
    "%matplotlib inline\n",
    "intercept = model.intercept_\n",
    "slope = model.coef_\n",
    "line = slope * X_new + intercept\n",
    "graph.scatter(X_new, y_new,  color='black')\n",
    "graph.plot(X_new, line, '-', c = 'green')\n",
    "graph.ylabel('Person height')\n",
    "graph.xlabel(\"Shoe length\")\n",
    "graph.title('height as a function of shoe length')\n",
    "graph.show()\n",
    "\n",
    "rms_new = mean_squared_error(y_new,y_new_pred, squared=False)\n",
    "print(f\"RMSE: {rms_new}\")\n"
   ]
  }
 ],
 "metadata": {
  "kernelspec": {
   "display_name": "Python 3",
   "language": "python",
   "name": "python3"
  },
  "language_info": {
   "codemirror_mode": {
    "name": "ipython",
    "version": 3
   },
   "file_extension": ".py",
   "mimetype": "text/x-python",
   "name": "python",
   "nbconvert_exporter": "python",
   "pygments_lexer": "ipython3",
   "version": "3.7.7"
  }
 },
 "nbformat": 4,
 "nbformat_minor": 5
}
