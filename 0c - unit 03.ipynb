{
 "metadata": {
  "language_info": {
   "codemirror_mode": {
    "name": "ipython",
    "version": 3
   },
   "file_extension": ".py",
   "mimetype": "text/x-python",
   "name": "python",
   "nbconvert_exporter": "python",
   "pygments_lexer": "ipython3",
   "version": "3.8.5"
  },
  "orig_nbformat": 2,
  "kernelspec": {
   "name": "pythonjvsc74a57bd05fd7d2d989b956829c9ad45cc6f2d78f0054d35d23dba8942e8fbd9b2870e6f3",
   "display_name": "Python 3.8.5  ('venv': venv)"
  },
  "metadata": {
   "interpreter": {
    "hash": "5fd7d2d989b956829c9ad45cc6f2d78f0054d35d23dba8942e8fbd9b2870e6f3"
   }
  }
 },
 "nbformat": 4,
 "nbformat_minor": 2,
 "cells": [
  {
   "cell_type": "code",
   "execution_count": null,
   "metadata": {},
   "outputs": [],
   "source": []
  },
  {
   "source": [
    "# Exercise: Titanic Dataset - Find and Visualize Missing Data\n",
    "\n",
    "It is pretty common for datasets to hold data in different formats (such as numbers, characters, meaningful words and even complex data such as images and sound).\n",
    "\n",
    "To complicate things, datasets are not guaranteed to be complete! Missing data can be hard to spot at a first glance.\n",
    "\n",
    "In this exercise we use the dataset of passengers from the Titanic ship to identify any missing data it might have (if you re curious, it can be analized and downloaded from this link: [Titanic - Machine Learning from Disaster](https://www.kaggle.com/c/titanic/overview)).\n",
    "\n",
    "## Preparing data\n",
    "\n",
    "The dataset contains columns describing passenegers from the first (and only) Titanic trip. They are described by fields indicating their socio-economic class, age, gender, whether they had family related travellers on board and if they survived (a full description can be found in the link above).\n",
    "\n",
    "Let's use Pandas to load the dataset and take a cursory look at its columns:\n"
   ],
   "cell_type": "markdown",
   "metadata": {}
  },
  {
   "cell_type": "code",
   "execution_count": 160,
   "metadata": {},
   "outputs": [
    {
     "output_type": "execute_result",
     "data": {
      "text/plain": [
       "   PassengerId  Survived  Pclass  \\\n",
       "0            1         0       3   \n",
       "1            2         1       1   \n",
       "2            3         1       3   \n",
       "3            4         1       1   \n",
       "4            5         0       3   \n",
       "\n",
       "                                                Name     Sex   Age  SibSp  \\\n",
       "0                            Braund, Mr. Owen Harris    male  22.0      1   \n",
       "1  Cumings, Mrs. John Bradley (Florence Briggs Th...  female  38.0      1   \n",
       "2                             Heikkinen, Miss. Laina  female  26.0      0   \n",
       "3       Futrelle, Mrs. Jacques Heath (Lily May Peel)  female  35.0      1   \n",
       "4                           Allen, Mr. William Henry    male  35.0      0   \n",
       "\n",
       "   Parch            Ticket     Fare Cabin Embarked  \n",
       "0      0         A/5 21171   7.2500   NaN        S  \n",
       "1      0          PC 17599  71.2833   C85        C  \n",
       "2      0  STON/O2. 3101282   7.9250   NaN        S  \n",
       "3      0            113803  53.1000  C123        S  \n",
       "4      0            373450   8.0500   NaN        S  "
      ],
      "text/html": "<div>\n<style scoped>\n    .dataframe tbody tr th:only-of-type {\n        vertical-align: middle;\n    }\n\n    .dataframe tbody tr th {\n        vertical-align: top;\n    }\n\n    .dataframe thead th {\n        text-align: right;\n    }\n</style>\n<table border=\"1\" class=\"dataframe\">\n  <thead>\n    <tr style=\"text-align: right;\">\n      <th></th>\n      <th>PassengerId</th>\n      <th>Survived</th>\n      <th>Pclass</th>\n      <th>Name</th>\n      <th>Sex</th>\n      <th>Age</th>\n      <th>SibSp</th>\n      <th>Parch</th>\n      <th>Ticket</th>\n      <th>Fare</th>\n      <th>Cabin</th>\n      <th>Embarked</th>\n    </tr>\n  </thead>\n  <tbody>\n    <tr>\n      <th>0</th>\n      <td>1</td>\n      <td>0</td>\n      <td>3</td>\n      <td>Braund, Mr. Owen Harris</td>\n      <td>male</td>\n      <td>22.0</td>\n      <td>1</td>\n      <td>0</td>\n      <td>A/5 21171</td>\n      <td>7.2500</td>\n      <td>NaN</td>\n      <td>S</td>\n    </tr>\n    <tr>\n      <th>1</th>\n      <td>2</td>\n      <td>1</td>\n      <td>1</td>\n      <td>Cumings, Mrs. John Bradley (Florence Briggs Th...</td>\n      <td>female</td>\n      <td>38.0</td>\n      <td>1</td>\n      <td>0</td>\n      <td>PC 17599</td>\n      <td>71.2833</td>\n      <td>C85</td>\n      <td>C</td>\n    </tr>\n    <tr>\n      <th>2</th>\n      <td>3</td>\n      <td>1</td>\n      <td>3</td>\n      <td>Heikkinen, Miss. Laina</td>\n      <td>female</td>\n      <td>26.0</td>\n      <td>0</td>\n      <td>0</td>\n      <td>STON/O2. 3101282</td>\n      <td>7.9250</td>\n      <td>NaN</td>\n      <td>S</td>\n    </tr>\n    <tr>\n      <th>3</th>\n      <td>4</td>\n      <td>1</td>\n      <td>1</td>\n      <td>Futrelle, Mrs. Jacques Heath (Lily May Peel)</td>\n      <td>female</td>\n      <td>35.0</td>\n      <td>1</td>\n      <td>0</td>\n      <td>113803</td>\n      <td>53.1000</td>\n      <td>C123</td>\n      <td>S</td>\n    </tr>\n    <tr>\n      <th>4</th>\n      <td>5</td>\n      <td>0</td>\n      <td>3</td>\n      <td>Allen, Mr. William Henry</td>\n      <td>male</td>\n      <td>35.0</td>\n      <td>0</td>\n      <td>0</td>\n      <td>373450</td>\n      <td>8.0500</td>\n      <td>NaN</td>\n      <td>S</td>\n    </tr>\n  </tbody>\n</table>\n</div>"
     },
     "metadata": {},
     "execution_count": 160
    }
   ],
   "source": [
    "import pandas as pd\n",
    "\n",
    "# Load data from our dataset file into a pandas dataframe\n",
    "dataset = pd.read_csv('Data/titanic.csv', index_col=False, sep=\",\",header=0)\n",
    "\n",
    "# Let's take a look at the data\n",
    "dataset.head()\n"
   ]
  },
  {
   "source": [
    "Again, we can use `dataset.head()` to quickly examine the data.\n",
    "\n",
    "Using `dataset.shape` let's us know how many samples and columns we have:\n",
    "\n"
   ],
   "cell_type": "markdown",
   "metadata": {}
  },
  {
   "cell_type": "code",
   "execution_count": 161,
   "metadata": {},
   "outputs": [
    {
     "output_type": "stream",
     "name": "stdout",
     "text": [
      "(891, 12)\n"
     ]
    }
   ],
   "source": [
    "print(dataset.shape)"
   ]
  },
  {
   "source": [
    "The `shape` property indicates we have data for 891 passengers, each described by 12 different variables.\n",
    "\n",
    "## Finding Missing Data\n",
    "\n",
    "Unfortunally, we can't tell for sure if there's any data missing just by using `dataset.head()`.\n",
    "\n",
    "We could print the entire dataset, but this would be impractical if you had millions of samples and quite prone to human error too.\n",
    "\n",
    "A better options is to use `pandas` to report rows which have \"empty\" cells:"
   ],
   "cell_type": "markdown",
   "metadata": {}
  },
  {
   "cell_type": "code",
   "execution_count": 162,
   "metadata": {},
   "outputs": [
    {
     "output_type": "stream",
     "name": "stdout",
     "text": [
      "             Empty Cells\nPassengerId            0\nSurvived               0\nPclass                 0\nName                   0\nSex                    0\nAge                  177\nSibSp                  0\nParch                  0\nTicket                 0\nFare                   0\nCabin                687\nEmbarked               2\n"
     ]
    }
   ],
   "source": [
    "# Calculate the number of empty cells in each column\n",
    "# and store it in a new dataframe\n",
    "missing_data = dataset.isnull().sum().to_frame()\n",
    "\n",
    "# Rename column holding the sums\n",
    "missing_data = missing_data.rename(columns={0:'Empty Cells'})\n",
    "\n",
    "# Print the results\n",
    "print(missing_data)"
   ]
  },
  {
   "source": [
    "As suspected, there's a few gaps in the dataset.\n",
    "\n",
    "We don't know the age of 177 passengers and whether 2 of them even embarked.\n",
    "\n",
    "We are also missing the cabin information for a whopping 687 people."
   ],
   "cell_type": "markdown",
   "metadata": {}
  },
  {
   "cell_type": "code",
   "execution_count": 164,
   "metadata": {},
   "outputs": [],
   "source": [
    "# Missing data plot here"
   ]
  },
  {
   "source": [
    "## Identifying Individual Passengers with Missing Information.\n",
    "\n",
    "Let's use pandas to get a list of passengers whose age we don't know:"
   ],
   "cell_type": "markdown",
   "metadata": {}
  },
  {
   "cell_type": "code",
   "execution_count": 165,
   "metadata": {},
   "outputs": [
    {
     "output_type": "stream",
     "name": "stdout",
     "text": [
      "    PassengerId                                            Name  Survived\n5             6                                Moran, Mr. James         0\n17           18                    Williams, Mr. Charles Eugene         1\n19           20                         Masselmani, Mrs. Fatima         1\n26           27                         Emir, Mr. Farred Chehab         0\n28           29                   O'Dwyer, Miss. Ellen \"Nellie\"         1\n29           30                             Todoroff, Mr. Lalio         0\n31           32  Spencer, Mrs. William Augustus (Marie Eugenie)         1\n32           33                        Glynn, Miss. Mary Agatha         1\n36           37                                Mamee, Mr. Hanna         1\n42           43                             Kraeff, Mr. Theodor         0\n45           46                        Rogers, Mr. William John         0\n46           47                               Lennon, Mr. Denis         0\n47           48                       O'Driscoll, Miss. Bridget         1\n48           49                             Samaan, Mr. Youssef         0\n55           56                               Woolner, Mr. Hugh         1\n64           65                           Stewart, Mr. Albert A         0\n65           66                        Moubarek, Master. Gerios         1\n76           77                               Staneff, Mr. Ivan         0\n77           78                        Moutal, Mr. Rahamin Haim         0\n82           83                  McDermott, Miss. Brigdet Delia         1\n"
     ]
    }
   ],
   "source": [
    "# Select Passengers with unknown age\n",
    "unknown_age = dataset[dataset[\"Age\"].isnull()]\n",
    "\n",
    "# Print only the colums we want for the moment (to better fit screen)\n",
    "# limit output to 20 rows\n",
    "print(unknown_age[[\"PassengerId\",\"Name\", \"Survived\"]][:20])\n"
   ]
  },
  {
   "source": [
    "We can use the technique above to list only the passengers with missing \"Cabin\" or \"Embarked\" information as well.\n"
   ],
   "cell_type": "markdown",
   "metadata": {}
  },
  {
   "cell_type": "code",
   "execution_count": 166,
   "metadata": {},
   "outputs": [
    {
     "output_type": "error",
     "ename": "SyntaxError",
     "evalue": "invalid syntax (<ipython-input-166-477682f32ba0>, line 2)",
     "traceback": [
      "\u001b[0;36m  File \u001b[0;32m\"<ipython-input-166-477682f32ba0>\"\u001b[0;36m, line \u001b[0;32m2\u001b[0m\n\u001b[0;31m    .....\u001b[0m\n\u001b[0m        ^\u001b[0m\n\u001b[0;31mSyntaxError\u001b[0m\u001b[0;31m:\u001b[0m invalid syntax\n"
     ]
    }
   ],
   "source": [
    "## Summary\n",
    "....."
   ]
  }
 ]
}