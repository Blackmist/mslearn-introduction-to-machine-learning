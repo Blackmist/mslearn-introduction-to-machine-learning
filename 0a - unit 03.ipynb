{
 "metadata": {
  "language_info": {
   "codemirror_mode": {
    "name": "ipython",
    "version": 3
   },
   "file_extension": ".py",
   "mimetype": "text/x-python",
   "name": "python",
   "nbconvert_exporter": "python",
   "pygments_lexer": "ipython3",
   "version": "3.7.4-final"
  },
  "orig_nbformat": 2,
  "kernelspec": {
   "name": "python3",
   "display_name": "Python 3.7.4 64-bit (conda)",
   "metadata": {
    "interpreter": {
     "hash": "7995cae578ba42001cb1a73708ba3f8dcdc7bf7a76367f6d865c1b47e25a5300"
    }
   }
  }
 },
 "nbformat": 4,
 "nbformat_minor": 2,
 "cells": [
  {
   "source": [
    "# Exercise: Training and Running Your First Model\n",
    "\n",
    "We've learned that models are typically a mixture of mathematics and computer code that tries to process complex information into a form that is easier for us to use. Here we will train a model to guess how tall a person is, based on the size of their feet.\n",
    "\n",
    "In the examples below, there is no need to edit any code. Try to read it, understand it, then press the run button to run it. As always with these notebooks, it is vitally important that these code blocks are run in the correct order, and nothing is missed.\n",
    "\n",
    "## Preparing data\n",
    "\n",
    "The first thing we do with a model is load data. We will cover this in more detail in a later exercise. For now, we will just write our data directly in our code. Review and run the code below to get started \n"
   ],
   "cell_type": "markdown",
   "metadata": {}
  },
  {
   "cell_type": "code",
   "execution_count": 1,
   "metadata": {},
   "outputs": [
    {
     "output_type": "stream",
     "name": "stdout",
     "text": [
      "    shoe_length  height\n0            24     167\n1            18     148\n2            28     180\n3            31     198\n4            16     153\n5            34     207\n6            25     183\n7            19     157\n8            25     167\n9            33     188\n10           19     152\n11           29     184\n12           29     174\n13           32     191\n14           19     164\n15           25     176\n16           24     177\n17           15     145\n18           16     171\n19           33     200\n20           28     175\n21           18     149\n22           15     149\n23           19     149\n24           26     175\n25           24     183\n26           28     190\n27           16     172\n28           22     175\n29           31     175\n"
     ]
    }
   ],
   "source": [
    "import pandas\n",
    "\n",
    "# Make a dictionary of data for shoe sizes in cm\n",
    "# and person height in cm\n",
    "data = {\n",
    "    'shoe_length' : [24, 18, 28, 31, 16, 34, 25, 19, 25, 33,\n",
    "                    19, 29, 29, 32, 19, 25, 24, 15, 16, 33,\n",
    "                    28, 18, 15, 19, 26, 24, 28, 16, 22, 31,\n",
    "                    ],\n",
    "    'height': [167, 148, 180, 198, 153, 207, 183, 157, 167, 188,\n",
    "               152, 184, 174, 191, 164, 176, 177, 145, 171, 200,\n",
    "               175, 149, 149, 149, 175, 183, 190, 172, 175, 175]\n",
    "}\n",
    "\n",
    "# Convert it into a table using pandas\n",
    "dataset = pandas.DataFrame(data)\n",
    "\n",
    "# Print the data\n",
    "print(dataset)"
   ]
  },
  {
   "source": [
    "As you can see, we have the sizes of shoes and heights for 30 people.\n",
    "\n",
    "## Training our model\n",
    "\n",
    "We will now train (fit) our model to predict height based on the size of the shoe. We're just getting started, so we will start with a very simple model - fitting a straight line to the data. \n",
    "\n",
    "The code below:\n",
    "* creates a simple linear regression model\n",
    "* fits this to the data you have now seen\n",
    "* graphs the result."
   ],
   "cell_type": "markdown",
   "metadata": {}
  },
  {
   "cell_type": "code",
   "execution_count": 6,
   "metadata": {},
   "outputs": [
    {
     "output_type": "display_data",
     "data": {
      "text/plain": "<Figure size 432x288 with 1 Axes>",
      "image/png": "[encoded data removed]"
     },
     "metadata": {
      "needs_background": "light"
     }
    }
   ],
   "source": [
    "# Load some libraries to do the hard work for us\n",
    "import matplotlib.pyplot as graph\n",
    "import statsmodels.formula.api as smf\n",
    "from scipy import stats\n",
    "\n",
    "# First, we define our formula using a special syntax\n",
    "# This says that height is explained by shoe length\n",
    "formula = \"height ~ shoe_length\"\n",
    "\n",
    "# Perform linear regression to fit a line to our data\n",
    "model = smf.ols(formula = formula, data = dataset).fit()\n",
    "\n",
    "# Show a graph of the result\n",
    "# Don't worry about how this is done for now\n",
    "%matplotlib inline\n",
    "train_X = dataset[\"shoe_length\"]\n",
    "intercept = model.params[0]\n",
    "slope = model.params[1]\n",
    "line = slope * train_X + intercept\n",
    "graph.plot(train_X, line, '-', c = 'red')\n",
    "graph.scatter(train_X, dataset.height)\n",
    "graph.ylabel('Person height')\n",
    "graph.xlabel(\"Shoe length\")\n",
    "graph.show()"
   ]
  },
  {
   "source": [
    "The graph above shows our original data as circles, with a red line through it. Our red line is our model, which lets us predict a person's height from their shoe size.\n",
    "\n",
    "For example, although we have no person with a shoe length of 20cm, we can predict that they would have a height of approximately 162cm, by looking at the red line.\n",
    "\n",
    "We don't have to do this by eye though. We can use the model in our program to predict any height we like. Run the code below to see how we can use our model now it is trained"
   ],
   "cell_type": "markdown",
   "metadata": {}
  },
  {
   "cell_type": "code",
   "execution_count": 9,
   "metadata": {},
   "outputs": [
    {
     "output_type": "stream",
     "name": "stdout",
     "text": [
      "Estimated Height (cm):\n162.8742170039976\n"
     ]
    }
   ],
   "source": [
    "# shoe_size states the size of the shoe we are interested in \n",
    "shoe_size = { 'shoe_length' : [20] }\n",
    "\n",
    "# Use the model to predict how tall this person is\n",
    "approximate_height = model.predict(shoe_size)\n",
    "\n",
    "# Print the result\n",
    "print(\"Estimated Height (cm):\")\n",
    "print(approximate_height[0])"
   ]
  },
  {
   "source": [
    "If you would like, change the value of `20` in `shoe_size` to a new value and run the block above to see the model in action.\n",
    "\n",
    "## Summary\n",
    "Well done! You've trained your first model. We've demonstrated some topics here without detailed exaplanation in order to just get your feet wet. In later units many of these topics are explained in more detail."
   ],
   "cell_type": "markdown",
   "metadata": {}
  }
 ]
}