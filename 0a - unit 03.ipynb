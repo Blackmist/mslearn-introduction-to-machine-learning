{
 "metadata": {
  "language_info": {
   "codemirror_mode": {
    "name": "ipython",
    "version": 3
   },
   "file_extension": ".py",
   "mimetype": "text/x-python",
   "name": "python",
   "nbconvert_exporter": "python",
   "pygments_lexer": "ipython3",
   "version": "3.7.10"
  },
  "orig_nbformat": 2,
  "kernelspec": {
   "name": "python3710jvsc74a57bd0a970c7e51787c6ef7f3c805442fbb5a30ae2745635e1d2514e62d936ba85c55c",
   "display_name": "Python 3.7.10 64-bit ('ml_crash_course': conda)"
  }
 },
 "nbformat": 4,
 "nbformat_minor": 2,
 "cells": [
  {
   "source": [
    "# Exercise: Training and Running Your First Model\n",
    "\n",
    "We've learned that models are typically a mixture of mathematics and computer code that tries to process complex information into a form that is easier for us to use. Here we will train a model to guess how tall a person is, based on the size of their shoes.\n",
    "\n",
    "In the examples below, there is no need to edit any code. Try to read it, understand it, then press the run button to run it. As always with these notebooks, it is vitally important that these code blocks are run in the correct order, and nothing is missed.\n",
    "\n",
    "## Preparing data\n",
    "\n",
    "The first thing we do with a model is load data. We will cover this in more detail in a later exercise. For now, we will just write our data directly in our code. Review and run the code below to get started \n"
   ],
   "cell_type": "markdown",
   "metadata": {}
  },
  {
   "cell_type": "code",
   "execution_count": 4,
   "metadata": {},
   "outputs": [
    {
     "output_type": "execute_result",
     "data": {
      "text/plain": [
       "    shoe_size  height\n",
       "0          39     173\n",
       "1          38     173\n",
       "2          37     157\n",
       "3          39     175\n",
       "4          38     170\n",
       "5          35     155\n",
       "6          37     166\n",
       "7          36     159\n",
       "8          35     147\n",
       "9          40     162\n",
       "10         40     177\n",
       "11         36     167\n",
       "12         38     158\n",
       "13         39     175\n",
       "14         42     170\n",
       "15         42     173\n",
       "16         36     168\n",
       "17         36     153\n",
       "18         35     149\n",
       "19         41     176\n",
       "20         42     178\n",
       "21         38     176\n",
       "22         37     165\n",
       "23         35     151\n",
       "24         40     166\n",
       "25         36     155\n",
       "26         35     158\n",
       "27         39     163\n",
       "28         41     183\n",
       "29         37     168\n",
       "30         35     165\n",
       "31         41     179\n",
       "32         39     171\n",
       "33         41     167\n",
       "34         42     182\n",
       "35         42     175\n",
       "36         36     160\n",
       "37         37     170\n",
       "38         37     171\n",
       "39         39     165\n",
       "40         42     181\n",
       "41         35     152\n",
       "42         36     156\n",
       "43         41     168\n",
       "44         41     166\n",
       "45         41     170\n",
       "46         39     175\n",
       "47         39     171\n",
       "48         35     154\n",
       "49         39     176"
      ],
      "text/html": "<div>\n<style scoped>\n    .dataframe tbody tr th:only-of-type {\n        vertical-align: middle;\n    }\n\n    .dataframe tbody tr th {\n        vertical-align: top;\n    }\n\n    .dataframe thead th {\n        text-align: right;\n    }\n</style>\n<table border=\"1\" class=\"dataframe\">\n  <thead>\n    <tr style=\"text-align: right;\">\n      <th></th>\n      <th>shoe_size</th>\n      <th>height</th>\n    </tr>\n  </thead>\n  <tbody>\n    <tr>\n      <th>0</th>\n      <td>39</td>\n      <td>173</td>\n    </tr>\n    <tr>\n      <th>1</th>\n      <td>38</td>\n      <td>173</td>\n    </tr>\n    <tr>\n      <th>2</th>\n      <td>37</td>\n      <td>157</td>\n    </tr>\n    <tr>\n      <th>3</th>\n      <td>39</td>\n      <td>175</td>\n    </tr>\n    <tr>\n      <th>4</th>\n      <td>38</td>\n      <td>170</td>\n    </tr>\n    <tr>\n      <th>5</th>\n      <td>35</td>\n      <td>155</td>\n    </tr>\n    <tr>\n      <th>6</th>\n      <td>37</td>\n      <td>166</td>\n    </tr>\n    <tr>\n      <th>7</th>\n      <td>36</td>\n      <td>159</td>\n    </tr>\n    <tr>\n      <th>8</th>\n      <td>35</td>\n      <td>147</td>\n    </tr>\n    <tr>\n      <th>9</th>\n      <td>40</td>\n      <td>162</td>\n    </tr>\n    <tr>\n      <th>10</th>\n      <td>40</td>\n      <td>177</td>\n    </tr>\n    <tr>\n      <th>11</th>\n      <td>36</td>\n      <td>167</td>\n    </tr>\n    <tr>\n      <th>12</th>\n      <td>38</td>\n      <td>158</td>\n    </tr>\n    <tr>\n      <th>13</th>\n      <td>39</td>\n      <td>175</td>\n    </tr>\n    <tr>\n      <th>14</th>\n      <td>42</td>\n      <td>170</td>\n    </tr>\n    <tr>\n      <th>15</th>\n      <td>42</td>\n      <td>173</td>\n    </tr>\n    <tr>\n      <th>16</th>\n      <td>36</td>\n      <td>168</td>\n    </tr>\n    <tr>\n      <th>17</th>\n      <td>36</td>\n      <td>153</td>\n    </tr>\n    <tr>\n      <th>18</th>\n      <td>35</td>\n      <td>149</td>\n    </tr>\n    <tr>\n      <th>19</th>\n      <td>41</td>\n      <td>176</td>\n    </tr>\n    <tr>\n      <th>20</th>\n      <td>42</td>\n      <td>178</td>\n    </tr>\n    <tr>\n      <th>21</th>\n      <td>38</td>\n      <td>176</td>\n    </tr>\n    <tr>\n      <th>22</th>\n      <td>37</td>\n      <td>165</td>\n    </tr>\n    <tr>\n      <th>23</th>\n      <td>35</td>\n      <td>151</td>\n    </tr>\n    <tr>\n      <th>24</th>\n      <td>40</td>\n      <td>166</td>\n    </tr>\n    <tr>\n      <th>25</th>\n      <td>36</td>\n      <td>155</td>\n    </tr>\n    <tr>\n      <th>26</th>\n      <td>35</td>\n      <td>158</td>\n    </tr>\n    <tr>\n      <th>27</th>\n      <td>39</td>\n      <td>163</td>\n    </tr>\n    <tr>\n      <th>28</th>\n      <td>41</td>\n      <td>183</td>\n    </tr>\n    <tr>\n      <th>29</th>\n      <td>37</td>\n      <td>168</td>\n    </tr>\n    <tr>\n      <th>30</th>\n      <td>35</td>\n      <td>165</td>\n    </tr>\n    <tr>\n      <th>31</th>\n      <td>41</td>\n      <td>179</td>\n    </tr>\n    <tr>\n      <th>32</th>\n      <td>39</td>\n      <td>171</td>\n    </tr>\n    <tr>\n      <th>33</th>\n      <td>41</td>\n      <td>167</td>\n    </tr>\n    <tr>\n      <th>34</th>\n      <td>42</td>\n      <td>182</td>\n    </tr>\n    <tr>\n      <th>35</th>\n      <td>42</td>\n      <td>175</td>\n    </tr>\n    <tr>\n      <th>36</th>\n      <td>36</td>\n      <td>160</td>\n    </tr>\n    <tr>\n      <th>37</th>\n      <td>37</td>\n      <td>170</td>\n    </tr>\n    <tr>\n      <th>38</th>\n      <td>37</td>\n      <td>171</td>\n    </tr>\n    <tr>\n      <th>39</th>\n      <td>39</td>\n      <td>165</td>\n    </tr>\n    <tr>\n      <th>40</th>\n      <td>42</td>\n      <td>181</td>\n    </tr>\n    <tr>\n      <th>41</th>\n      <td>35</td>\n      <td>152</td>\n    </tr>\n    <tr>\n      <th>42</th>\n      <td>36</td>\n      <td>156</td>\n    </tr>\n    <tr>\n      <th>43</th>\n      <td>41</td>\n      <td>168</td>\n    </tr>\n    <tr>\n      <th>44</th>\n      <td>41</td>\n      <td>166</td>\n    </tr>\n    <tr>\n      <th>45</th>\n      <td>41</td>\n      <td>170</td>\n    </tr>\n    <tr>\n      <th>46</th>\n      <td>39</td>\n      <td>175</td>\n    </tr>\n    <tr>\n      <th>47</th>\n      <td>39</td>\n      <td>171</td>\n    </tr>\n    <tr>\n      <th>48</th>\n      <td>35</td>\n      <td>154</td>\n    </tr>\n    <tr>\n      <th>49</th>\n      <td>39</td>\n      <td>176</td>\n    </tr>\n  </tbody>\n</table>\n</div>"
     },
     "metadata": {},
     "execution_count": 4
    }
   ],
   "source": [
    "import pandas\n",
    "\n",
    "# Make a dictionary of data for shoe sizes in EU units\n",
    "# and person height in cm\n",
    "data = {\n",
    "    'shoe_size' : [39, 38, 37, 39, 38, 35, 37, 36, \n",
    "                    35, 40, 40, 36, 38, 39, 42, 42,\n",
    "                    36, 36, 35, 41, 42, 38, 37, 35,\n",
    "                    40, 36, 35, 39, 41, 37, 35, 41,\n",
    "                    39, 41, 42, 42, 36, 37, 37, 39,\n",
    "                    42, 35, 36, 41, 41, 41, 39, 39,\n",
    "                    35, 39 ],\n",
    "    'height': [ 173, 173, 157, 175, 170, 155, 166, 159,\n",
    "                147, 162, 177, 167, 158, 175, 170, 173,\n",
    "                168, 153, 149, 176, 178, 176, 165, 151,\n",
    "                166, 155, 158, 163, 183, 168, 165, 179,\n",
    "                171, 167, 182, 175, 160, 170, 171, 165,\n",
    "                181, 152, 156, 168, 166, 170, 175, 171,\n",
    "                154, 176 ]\n",
    "}\n",
    "\n",
    "# Convert it into a table using pandas\n",
    "dataset = pandas.DataFrame(data)\n",
    "\n",
    "# Print the data\n",
    "# In normal python we would write\n",
    "# print(dataset)\n",
    "# but in Jupyter notebooks, if we simple write the name\n",
    "# of the variable and it is printed nicely \n",
    "dataset"
   ]
  },
  {
   "source": [
    "As you can see, we have the sizes of shoes and heights for 50 people.\n",
    "\n",
    "## Training our model\n",
    "\n",
    "We will now _train_ (_fit_) our model to predict height based on the size of the shoe. We're just getting started, so we will start with a very simple model - fitting a straight line to the data. \n",
    "\n",
    "The code below:\n",
    "* creates a simple linear regression model\n",
    "* fits this to the data you have now seen\n",
    "* graphs the result."
   ],
   "cell_type": "markdown",
   "metadata": {}
  },
  {
   "cell_type": "code",
   "execution_count": 6,
   "metadata": {},
   "outputs": [
    {
     "output_type": "display_data",
     "data": {
      "application/vnd.plotly.v1+json": {
       "config": {
        "plotlyServerURL": "https://plot.ly"
       },
       "data": [
        {
         "hovertemplate": "shoe size=%{x}<br>height=%{y}<extra></extra>",
         "legendgroup": "",
         "marker": {
          "color": "#636efa",
          "size": 19,
          "symbol": "circle"
         },
         "mode": "markers",
         "name": "",
         "orientation": "v",
         "showlegend": false,
         "type": "scatter",
         "x": [
          39,
          38,
          37,
          39,
          38,
          35,
          37,
          36,
          35,
          40,
          40,
          36,
          38,
          39,
          42,
          42,
          36,
          36,
          35,
          41,
          42,
          38,
          37,
          35,
          40,
          36,
          35,
          39,
          41,
          37,
          35,
          41,
          39,
          41,
          42,
          42,
          36,
          37,
          37,
          39,
          42,
          35,
          36,
          41,
          41,
          41,
          39,
          39,
          35,
          39
         ],
         "xaxis": "x",
         "y": [
          173,
          173,
          157,
          175,
          170,
          155,
          166,
          159,
          147,
          162,
          177,
          167,
          158,
          175,
          170,
          173,
          168,
          153,
          149,
          176,
          178,
          176,
          165,
          151,
          166,
          155,
          158,
          163,
          183,
          168,
          165,
          179,
          171,
          167,
          182,
          175,
          160,
          170,
          171,
          165,
          181,
          152,
          156,
          168,
          166,
          170,
          175,
          171,
          154,
          176
         ],
         "yaxis": "y"
        }
       ],
       "layout": {
        "legend": {
         "tracegroupgap": 0
        },
        "shapes": [
         {
          "line": {
           "color": "Crimson"
          },
          "path": "M35.0 157.08160068356585 L 35.03517587939699 157.18456852762813 L 35.07035175879397 157.28753637169035 L 35.10552763819096 157.39050421575257 L 35.14070351758794 157.4934720598148 L 35.175879396984925 157.59643990387707 L 35.21105527638191 157.6994077479393 L 35.246231155778894 157.8023755920015 L 35.28140703517588 157.90534343606376 L 35.31658291457286 158.008311280126 L 35.35175879396985 158.11127912418823 L 35.38693467336683 158.21424696825045 L 35.42211055276382 158.3172148123127 L 35.45728643216081 158.42018265637495 L 35.49246231155779 158.52315050043717 L 35.527638190954775 158.62611834449942 L 35.562814070351756 158.72908618856164 L 35.597989949748744 158.8320540326239 L 35.63316582914573 158.93502187668614 L 35.66834170854271 159.03798972074836 L 35.7035175879397 159.1409575648106 L 35.73869346733668 159.24392540887283 L 35.77386934673367 159.34689325293508 L 35.80904522613066 159.44986109699732 L 35.84422110552764 159.55282894105954 L 35.879396984924625 159.65579678512177 L 35.914572864321606 159.758764629184 L 35.949748743718594 159.86173247324626 L 35.984924623115575 159.96470031730848 L 36.02010050251256 160.0676681613707 L 36.05527638190955 160.17063600543298 L 36.09045226130653 160.2736038494952 L 36.12562814070352 160.37657169355742 L 36.1608040201005 160.47953953761964 L 36.19597989949749 160.58250738168192 L 36.231155778894475 160.68547522574414 L 36.266331658291456 160.78844306980636 L 36.301507537688444 160.8914109138686 L 36.336683417085425 160.99437875793086 L 36.37185929648241 161.09734660199308 L 36.4070351758794 161.20031444605533 L 36.44221105527638 161.30328229011755 L 36.47738693467337 161.4062501341798 L 36.51256281407035 161.50921797824202 L 36.54773869346734 161.61218582230427 L 36.58291457286432 161.7151536663665 L 36.618090452261306 161.81812151042874 L 36.653266331658294 161.921089354491 L 36.688442211055275 162.0240571985532 L 36.72361809045226 162.12702504261546 L 36.75879396984924 162.22999288667768 L 36.79396984924623 162.33296073073993 L 36.82914572864322 162.43592857480218 L 36.8643216080402 162.5388964188644 L 36.89949748743719 162.64186426292662 L 36.93467336683417 162.74483210698887 L 36.969849246231156 162.84779995105112 L 37.00502512562814 162.95076779511334 L 37.040201005025125 163.05373563917556 L 37.07537688442211 163.15670348323783 L 37.11055276381909 163.25967132730005 L 37.14572864321608 163.36263917136228 L 37.18090452261306 163.4656070154245 L 37.21608040201005 163.56857485948677 L 37.25125628140704 163.671542703549 L 37.28643216080402 163.77451054761121 L 37.321608040201006 163.8774783916735 L 37.35678391959799 163.9804462357357 L 37.391959798994975 164.08341407979793 L 37.42713567839196 164.18638192386018 L 37.462311557788944 164.28934976792243 L 37.49748743718593 164.39231761198465 L 37.53266331658291 164.49528545604687 L 37.5678391959799 164.59825330010912 L 37.60301507537689 164.70122114417137 L 37.63819095477387 164.8041889882336 L 37.67336683417086 164.90715683229584 L 37.70854271356784 165.01012467635806 L 37.743718592964825 165.1130925204203 L 37.778894472361806 165.21606036448253 L 37.814070351758794 165.31902820854478 L 37.84924623115578 165.42199605260703 L 37.88442211055276 165.52496389666925 L 37.91959798994975 165.62793174073147 L 37.95477386934673 165.73089958479372 L 37.98994974874372 165.83386742885597 L 38.02512562814071 165.9368352729182 L 38.06030150753769 166.0398031169804 L 38.095477386934675 166.1427709610427 L 38.130653266331656 166.2457388051049 L 38.165829145728644 166.34870664916713 L 38.201005025125625 166.45167449322935 L 38.23618090452261 166.55464233729163 L 38.2713567839196 166.65761018135385 L 38.30653266331658 166.76057802541607 L 38.34170854271357 166.86354586947834 L 38.37688442211055 166.96651371354056 L 38.41206030150754 167.06948155760278 L 38.447236180904525 167.17244940166503 L 38.482412060301506 167.27541724572728 L 38.517587939698494 167.3783850897895 L 38.552763819095475 167.48135293385172 L 38.58793969849246 167.58432077791397 L 38.62311557788945 167.68728862197622 L 38.65829145728643 167.79025646603844 L 38.69346733668342 167.8932243101007 L 38.7286432160804 167.9961921541629 L 38.76381909547739 168.09915999822516 L 38.798994974874375 168.2021278422874 L 38.834170854271356 168.30509568634963 L 38.869346733668344 168.40806353041188 L 38.904522613065325 168.5110313744741 L 38.93969849246231 168.61399921853635 L 38.97487437185929 168.71696706259857 L 39.01005025125628 168.81993490666082 L 39.04522613065327 168.92290275072304 L 39.08040201005025 169.02587059478526 L 39.11557788944724 169.12883843884754 L 39.15075376884422 169.23180628290976 L 39.185929648241206 169.33477412697198 L 39.22110552763819 169.4377419710342 L 39.256281407035175 169.54070981509648 L 39.29145728643216 169.6436776591587 L 39.32663316582914 169.74664550322092 L 39.36180904522613 169.8496133472832 L 39.39698492462311 169.95258119134542 L 39.4321608040201 170.05554903540764 L 39.46733668341709 170.1585168794699 L 39.50251256281407 170.26148472353213 L 39.537688442211056 170.36445256759436 L 39.57286432160804 170.46742041165658 L 39.608040201005025 170.57038825571883 L 39.64321608040201 170.67335609978107 L 39.678391959798994 170.7763239438433 L 39.71356783919598 170.87929178790554 L 39.74874371859296 170.98225963196776 L 39.78391959798995 171.08522747603 L 39.81909547738694 171.18819532009226 L 39.85427135678392 171.29116316415448 L 39.88944723618091 171.39413100821673 L 39.92462311557789 171.49709885227895 L 39.959798994974875 171.6000666963412 L 39.99497487437186 171.70303454040345 L 40.030150753768844 171.80600238446567 L 40.06532663316583 171.9089702285279 L 40.10050251256281 172.01193807259014 L 40.1356783919598 172.1149059166524 L 40.17085427135678 172.2178737607146 L 40.20603015075377 172.32084160477683 L 40.24120603015076 172.4238094488391 L 40.27638190954774 172.52677729290133 L 40.311557788944725 172.62974513696355 L 40.346733668341706 172.73271298102577 L 40.381909547738694 172.83568082508805 L 40.417085427135675 172.93864866915027 L 40.45226130653266 173.0416165132125 L 40.48743718592965 173.14458435727477 L 40.52261306532663 173.247552201337 L 40.55778894472362 173.3505200453992 L 40.5929648241206 173.45348788946143 L 40.62814070351759 173.55645573352368 L 40.663316582914575 173.65942357758593 L 40.698492462311556 173.76239142164815 L 40.733668341708544 173.8653592657104 L 40.768844221105525 173.96832710977262 L 40.80402010050251 174.07129495383487 L 40.8391959798995 174.17426279789711 L 40.87437185929648 174.27723064195933 L 40.90954773869347 174.38019848602158 L 40.94472361809045 174.4831663300838 L 40.97989949748744 174.58613417414605 L 41.015075376884425 174.6891020182083 L 41.050251256281406 174.79206986227052 L 41.085427135678394 174.89503770633274 L 41.120603015075375 174.998005550395 L 41.15577889447236 175.10097339445724 L 41.19095477386935 175.20394123851946 L 41.22613065326633 175.30690908258168 L 41.26130653266332 175.40987692664396 L 41.2964824120603 175.51284477070618 L 41.33165829145729 175.6158126147684 L 41.36683417085427 175.71878045883062 L 41.402010050251256 175.8217483028929 L 41.437185929648244 175.92471614695512 L 41.472361809045225 176.02768399101734 L 41.50753768844221 176.13065183507962 L 41.54271356783919 176.23361967914184 L 41.57788944723618 176.33658752320406 L 41.61306532663316 176.43955536726628 L 41.64824120603015 176.54252321132856 L 41.68341708542714 176.64549105539078 L 41.71859296482412 176.748458899453 L 41.753768844221106 176.85142674351525 L 41.78894472361809 176.9543945875775 L 41.824120603015075 177.05736243163972 L 41.85929648241206 177.16033027570197 L 41.89447236180904 177.2632981197642 L 41.92964824120603 177.36626596382644 L 41.96482412060301 177.46923380788866 L 42.0 177.5722016519509",
          "type": "path"
         }
        ],
        "template": {
         "data": {
          "bar": [
           {
            "error_x": {
             "color": "#2a3f5f"
            },
            "error_y": {
             "color": "#2a3f5f"
            },
            "marker": {
             "line": {
              "color": "white",
              "width": 0.5
             }
            },
            "type": "bar"
           }
          ],
          "barpolar": [
           {
            "marker": {
             "line": {
              "color": "white",
              "width": 0.5
             }
            },
            "type": "barpolar"
           }
          ],
          "box": [
           {
            "boxpoints": "outliers",
            "notched": false,
            "type": "box"
           }
          ],
          "carpet": [
           {
            "aaxis": {
             "endlinecolor": "#2a3f5f",
             "gridcolor": "#C8D4E3",
             "linecolor": "#C8D4E3",
             "minorgridcolor": "#C8D4E3",
             "startlinecolor": "#2a3f5f"
            },
            "baxis": {
             "endlinecolor": "#2a3f5f",
             "gridcolor": "#C8D4E3",
             "linecolor": "#C8D4E3",
             "minorgridcolor": "#C8D4E3",
             "startlinecolor": "#2a3f5f"
            },
            "type": "carpet"
           }
          ],
          "choropleth": [
           {
            "colorbar": {
             "outlinewidth": 0,
             "ticks": ""
            },
            "type": "choropleth"
           }
          ],
          "contour": [
           {
            "colorbar": {
             "outlinewidth": 0,
             "ticks": ""
            },
            "colorscale": [
             [
              0,
              "#0d0887"
             ],
             [
              0.1111111111111111,
              "#46039f"
             ],
             [
              0.2222222222222222,
              "#7201a8"
             ],
             [
              0.3333333333333333,
              "#9c179e"
             ],
             [
              0.4444444444444444,
              "#bd3786"
             ],
             [
              0.5555555555555556,
              "#d8576b"
             ],
             [
              0.6666666666666666,
              "#ed7953"
             ],
             [
              0.7777777777777778,
              "#fb9f3a"
             ],
             [
              0.8888888888888888,
              "#fdca26"
             ],
             [
              1,
              "#f0f921"
             ]
            ],
            "type": "contour"
           }
          ],
          "contourcarpet": [
           {
            "colorbar": {
             "outlinewidth": 0,
             "ticks": ""
            },
            "type": "contourcarpet"
           }
          ],
          "heatmap": [
           {
            "colorbar": {
             "outlinewidth": 0,
             "ticks": ""
            },
            "colorscale": [
             [
              0,
              "#0d0887"
             ],
             [
              0.1111111111111111,
              "#46039f"
             ],
             [
              0.2222222222222222,
              "#7201a8"
             ],
             [
              0.3333333333333333,
              "#9c179e"
             ],
             [
              0.4444444444444444,
              "#bd3786"
             ],
             [
              0.5555555555555556,
              "#d8576b"
             ],
             [
              0.6666666666666666,
              "#ed7953"
             ],
             [
              0.7777777777777778,
              "#fb9f3a"
             ],
             [
              0.8888888888888888,
              "#fdca26"
             ],
             [
              1,
              "#f0f921"
             ]
            ],
            "type": "heatmap"
           }
          ],
          "heatmapgl": [
           {
            "colorbar": {
             "outlinewidth": 0,
             "ticks": ""
            },
            "colorscale": [
             [
              0,
              "#0d0887"
             ],
             [
              0.1111111111111111,
              "#46039f"
             ],
             [
              0.2222222222222222,
              "#7201a8"
             ],
             [
              0.3333333333333333,
              "#9c179e"
             ],
             [
              0.4444444444444444,
              "#bd3786"
             ],
             [
              0.5555555555555556,
              "#d8576b"
             ],
             [
              0.6666666666666666,
              "#ed7953"
             ],
             [
              0.7777777777777778,
              "#fb9f3a"
             ],
             [
              0.8888888888888888,
              "#fdca26"
             ],
             [
              1,
              "#f0f921"
             ]
            ],
            "type": "heatmapgl"
           }
          ],
          "histogram": [
           {
            "marker": {
             "colorbar": {
              "outlinewidth": 0,
              "ticks": ""
             },
             "line": {
              "width": 1
             }
            },
            "type": "histogram"
           }
          ],
          "histogram2d": [
           {
            "colorbar": {
             "outlinewidth": 0,
             "ticks": ""
            },
            "colorscale": [
             [
              0,
              "#0d0887"
             ],
             [
              0.1111111111111111,
              "#46039f"
             ],
             [
              0.2222222222222222,
              "#7201a8"
             ],
             [
              0.3333333333333333,
              "#9c179e"
             ],
             [
              0.4444444444444444,
              "#bd3786"
             ],
             [
              0.5555555555555556,
              "#d8576b"
             ],
             [
              0.6666666666666666,
              "#ed7953"
             ],
             [
              0.7777777777777778,
              "#fb9f3a"
             ],
             [
              0.8888888888888888,
              "#fdca26"
             ],
             [
              1,
              "#f0f921"
             ]
            ],
            "type": "histogram2d"
           }
          ],
          "histogram2dcontour": [
           {
            "colorbar": {
             "outlinewidth": 0,
             "ticks": ""
            },
            "colorscale": [
             [
              0,
              "#0d0887"
             ],
             [
              0.1111111111111111,
              "#46039f"
             ],
             [
              0.2222222222222222,
              "#7201a8"
             ],
             [
              0.3333333333333333,
              "#9c179e"
             ],
             [
              0.4444444444444444,
              "#bd3786"
             ],
             [
              0.5555555555555556,
              "#d8576b"
             ],
             [
              0.6666666666666666,
              "#ed7953"
             ],
             [
              0.7777777777777778,
              "#fb9f3a"
             ],
             [
              0.8888888888888888,
              "#fdca26"
             ],
             [
              1,
              "#f0f921"
             ]
            ],
            "type": "histogram2dcontour"
           }
          ],
          "mesh3d": [
           {
            "colorbar": {
             "outlinewidth": 0,
             "ticks": ""
            },
            "type": "mesh3d"
           }
          ],
          "parcoords": [
           {
            "line": {
             "colorbar": {
              "outlinewidth": 0,
              "ticks": ""
             }
            },
            "type": "parcoords"
           }
          ],
          "pie": [
           {
            "automargin": true,
            "type": "pie"
           }
          ],
          "scatter": [
           {
            "marker": {
             "colorbar": {
              "outlinewidth": 0,
              "ticks": ""
             },
             "opacity": 0.8
            },
            "type": "scatter"
           }
          ],
          "scatter3d": [
           {
            "line": {
             "colorbar": {
              "outlinewidth": 0,
              "ticks": ""
             }
            },
            "marker": {
             "colorbar": {
              "outlinewidth": 0,
              "ticks": ""
             },
             "opacity": 0.8
            },
            "type": "scatter3d"
           }
          ],
          "scattercarpet": [
           {
            "marker": {
             "colorbar": {
              "outlinewidth": 0,
              "ticks": ""
             }
            },
            "type": "scattercarpet"
           }
          ],
          "scattergeo": [
           {
            "marker": {
             "colorbar": {
              "outlinewidth": 0,
              "ticks": ""
             }
            },
            "type": "scattergeo"
           }
          ],
          "scattergl": [
           {
            "marker": {
             "colorbar": {
              "outlinewidth": 0,
              "ticks": ""
             }
            },
            "type": "scattergl"
           }
          ],
          "scattermapbox": [
           {
            "marker": {
             "colorbar": {
              "outlinewidth": 0,
              "ticks": ""
             }
            },
            "type": "scattermapbox"
           }
          ],
          "scatterpolar": [
           {
            "marker": {
             "colorbar": {
              "outlinewidth": 0,
              "ticks": ""
             }
            },
            "type": "scatterpolar"
           }
          ],
          "scatterpolargl": [
           {
            "marker": {
             "colorbar": {
              "outlinewidth": 0,
              "ticks": ""
             }
            },
            "type": "scatterpolargl"
           }
          ],
          "scatterternary": [
           {
            "marker": {
             "colorbar": {
              "outlinewidth": 0,
              "ticks": ""
             }
            },
            "type": "scatterternary"
           }
          ],
          "surface": [
           {
            "colorbar": {
             "outlinewidth": 0,
             "ticks": ""
            },
            "colorscale": [
             [
              0,
              "#0d0887"
             ],
             [
              0.1111111111111111,
              "#46039f"
             ],
             [
              0.2222222222222222,
              "#7201a8"
             ],
             [
              0.3333333333333333,
              "#9c179e"
             ],
             [
              0.4444444444444444,
              "#bd3786"
             ],
             [
              0.5555555555555556,
              "#d8576b"
             ],
             [
              0.6666666666666666,
              "#ed7953"
             ],
             [
              0.7777777777777778,
              "#fb9f3a"
             ],
             [
              0.8888888888888888,
              "#fdca26"
             ],
             [
              1,
              "#f0f921"
             ]
            ],
            "type": "surface"
           }
          ],
          "table": [
           {
            "cells": {
             "fill": {
              "color": "#EBF0F8"
             },
             "line": {
              "color": "white"
             }
            },
            "header": {
             "fill": {
              "color": "#C8D4E3"
             },
             "line": {
              "color": "white"
             }
            },
            "type": "table"
           }
          ]
         },
         "layout": {
          "annotationdefaults": {
           "arrowcolor": "#2a3f5f",
           "arrowhead": 0,
           "arrowwidth": 1
          },
          "autotypenumbers": "strict",
          "coloraxis": {
           "colorbar": {
            "outlinewidth": 0,
            "ticks": ""
           }
          },
          "colorscale": {
           "diverging": [
            [
             0,
             "#8e0152"
            ],
            [
             0.1,
             "#c51b7d"
            ],
            [
             0.2,
             "#de77ae"
            ],
            [
             0.3,
             "#f1b6da"
            ],
            [
             0.4,
             "#fde0ef"
            ],
            [
             0.5,
             "#f7f7f7"
            ],
            [
             0.6,
             "#e6f5d0"
            ],
            [
             0.7,
             "#b8e186"
            ],
            [
             0.8,
             "#7fbc41"
            ],
            [
             0.9,
             "#4d9221"
            ],
            [
             1,
             "#276419"
            ]
           ],
           "sequential": [
            [
             0,
             "#0d0887"
            ],
            [
             0.1111111111111111,
             "#46039f"
            ],
            [
             0.2222222222222222,
             "#7201a8"
            ],
            [
             0.3333333333333333,
             "#9c179e"
            ],
            [
             0.4444444444444444,
             "#bd3786"
            ],
            [
             0.5555555555555556,
             "#d8576b"
            ],
            [
             0.6666666666666666,
             "#ed7953"
            ],
            [
             0.7777777777777778,
             "#fb9f3a"
            ],
            [
             0.8888888888888888,
             "#fdca26"
            ],
            [
             1,
             "#f0f921"
            ]
           ],
           "sequentialminus": [
            [
             0,
             "#0d0887"
            ],
            [
             0.1111111111111111,
             "#46039f"
            ],
            [
             0.2222222222222222,
             "#7201a8"
            ],
            [
             0.3333333333333333,
             "#9c179e"
            ],
            [
             0.4444444444444444,
             "#bd3786"
            ],
            [
             0.5555555555555556,
             "#d8576b"
            ],
            [
             0.6666666666666666,
             "#ed7953"
            ],
            [
             0.7777777777777778,
             "#fb9f3a"
            ],
            [
             0.8888888888888888,
             "#fdca26"
            ],
            [
             1,
             "#f0f921"
            ]
           ]
          },
          "colorway": [
           "#636efa",
           "#EF553B",
           "#00cc96",
           "#ab63fa",
           "#FFA15A",
           "#19d3f3",
           "#FF6692",
           "#B6E880",
           "#FF97FF",
           "#FECB52"
          ],
          "font": {
           "color": "#2a3f5f"
          },
          "geo": {
           "bgcolor": "white",
           "lakecolor": "white",
           "landcolor": "white",
           "showlakes": true,
           "showland": true,
           "subunitcolor": "#C8D4E3"
          },
          "height": 400,
          "hoverlabel": {
           "align": "left"
          },
          "hovermode": "closest",
          "mapbox": {
           "style": "light"
          },
          "margin": {
           "b": 2,
           "l": 2,
           "r": 2,
           "t": 30
          },
          "paper_bgcolor": "white",
          "plot_bgcolor": "white",
          "polar": {
           "angularaxis": {
            "gridcolor": "#EBF0F8",
            "linecolor": "#EBF0F8",
            "ticks": ""
           },
           "bgcolor": "white",
           "radialaxis": {
            "gridcolor": "#EBF0F8",
            "linecolor": "#EBF0F8",
            "ticks": ""
           }
          },
          "scene": {
           "camera": {
            "eye": {
             "x": 1.5,
             "y": 1.5,
             "z": 0.1
            }
           },
           "xaxis": {
            "backgroundcolor": "white",
            "gridcolor": "#DFE8F3",
            "gridwidth": 2,
            "linecolor": "#EBF0F8",
            "showbackground": true,
            "ticks": "",
            "zerolinecolor": "#EBF0F8"
           },
           "yaxis": {
            "backgroundcolor": "white",
            "gridcolor": "#DFE8F3",
            "gridwidth": 2,
            "linecolor": "#EBF0F8",
            "showbackground": true,
            "ticks": "",
            "zerolinecolor": "#EBF0F8"
           },
           "zaxis": {
            "backgroundcolor": "white",
            "gridcolor": "#DFE8F3",
            "gridwidth": 2,
            "linecolor": "#EBF0F8",
            "showbackground": true,
            "ticks": "",
            "zerolinecolor": "#EBF0F8"
           }
          },
          "shapedefaults": {
           "line": {
            "color": "#2a3f5f"
           }
          },
          "ternary": {
           "aaxis": {
            "gridcolor": "#DFE8F3",
            "linecolor": "#A2B1C6",
            "ticks": ""
           },
           "baxis": {
            "gridcolor": "#DFE8F3",
            "linecolor": "#A2B1C6",
            "ticks": ""
           },
           "bgcolor": "white",
           "caxis": {
            "gridcolor": "#DFE8F3",
            "linecolor": "#A2B1C6",
            "ticks": ""
           }
          },
          "title": {
           "x": 0.5
          },
          "xaxis": {
           "automargin": true,
           "gridcolor": "#EBF0F8",
           "linecolor": "#EBF0F8",
           "linewidth": 2,
           "showline": true,
           "ticks": "",
           "title": {
            "standoff": 15
           },
           "zerolinecolor": "#EBF0F8",
           "zerolinewidth": 2
          },
          "yaxis": {
           "automargin": true,
           "gridcolor": "#EBF0F8",
           "linecolor": "#EBF0F8",
           "linewidth": 2,
           "showline": true,
           "ticks": "",
           "title": {
            "standoff": 15
           },
           "zerolinecolor": "#EBF0F8",
           "zerolinewidth": 2
          }
         }
        },
        "xaxis": {
         "anchor": "y",
         "domain": [
          0,
          1
         ],
         "title": {
          "text": "shoe size"
         }
        },
        "yaxis": {
         "anchor": "x",
         "domain": [
          0,
          1
         ],
         "title": {
          "text": "height"
         }
        }
       }
      }
     },
     "metadata": {}
    }
   ],
   "source": [
    "# Load some libraries to do the hard work for us\n",
    "import graphing \n",
    "import statsmodels.formula.api as smf\n",
    "\n",
    "# First, we define our formula using a special syntax\n",
    "# This says that height is explained by shoe size\n",
    "formula = \"height ~ shoe_size\"\n",
    "\n",
    "# Perform linear regression (a kind of learning) to fit a \n",
    "# line to our data. This method does the hard work for\n",
    "# us. We will look at how this method words in a later unit.\n",
    "model = smf.ols(formula = formula, data = dataset).fit()\n",
    "\n",
    "# Show a graph of the result\n",
    "# Don't worry about how this works for now\n",
    "graphing.scatter_2D(dataset,    label_x=\"shoe_size\", \n",
    "                                label_y=\"height\",\n",
    "                                trendline=lambda x: model.params[1] * x + model.params[0]\n",
    "                                )"
   ]
  },
  {
   "source": [
    "The graph above shows our original data as circles, with a red line through it. The red line shows our _model_, which lets us predict a person's height from their shoe size.\n",
    "\n",
    "For example, although we have no person with an EU shoe size of 38.5, we can predict that they would have a height of slightly more than 165cm, by looking at the red line.\n",
    "\n",
    "We don't have to do this by eye though. We can use the model in our program to predict any height we like. Run the code below to see how we can use our model now it is trained"
   ],
   "cell_type": "markdown",
   "metadata": {}
  },
  {
   "cell_type": "code",
   "execution_count": 7,
   "metadata": {},
   "outputs": [
    {
     "output_type": "stream",
     "name": "stdout",
     "text": [
      "Estimated Height (cm):\n167.32690116775836\n"
     ]
    }
   ],
   "source": [
    "# shoe_size states the size of the shoe we are interested in\n",
    "# This is in EU shoe sizes, which normally are about 35 - 42 \n",
    "shoe_size = { 'shoe_size' : [38.5] }\n",
    "\n",
    "# Use the model to predict how tall this person is\n",
    "approximate_height = model.predict(shoe_size)\n",
    "\n",
    "# Print the result\n",
    "print(\"Estimated Height (cm):\")\n",
    "print(approximate_height[0])"
   ]
  },
  {
   "source": [
    "If you would like, change the value of `38.5` in `shoe_size` to a new value and run the block above to see the model in action.\n",
    "\n",
    "## Summary\n",
    "Well done! You've trained your first model. We've demonstrated some topics here without detailed exaplanation in order to just get your feet wet. In later units many of these topics are explained in more detail."
   ],
   "cell_type": "markdown",
   "metadata": {}
  }
 ]
}