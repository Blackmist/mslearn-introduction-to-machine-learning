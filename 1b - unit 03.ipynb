{
 "metadata": {
  "language_info": {
   "codemirror_mode": {
    "name": "ipython",
    "version": 3
   },
   "file_extension": ".py",
   "mimetype": "text/x-python",
   "name": "python",
   "nbconvert_exporter": "python",
   "pygments_lexer": "ipython3",
   "version": "3.8.5"
  },
  "orig_nbformat": 2,
  "kernelspec": {
   "name": "python385jvsc74a57bd05fd7d2d989b956829c9ad45cc6f2d78f0054d35d23dba8942e8fbd9b2870e6f3",
   "display_name": "Python 3.8.5 64-bit ('venv')"
  },
  "metadata": {
   "interpreter": {
    "hash": "5fd7d2d989b956829c9ad45cc6f2d78f0054d35d23dba8942e8fbd9b2870e6f3"
   }
  }
 },
 "nbformat": 4,
 "nbformat_minor": 2,
 "cells": [
  {
   "source": [
    "# Exercise: Hyperparameters\n",
    "\n",
    "what are hyperparemeters.\n",
    "\n",
    "what we are doing in this Exercise\n",
    "\n",
    "We have to talk about the importance of cost AND iterations BEFORE starting to talk about learning rate:\n",
    "\n",
    "Gist is:\n",
    "High learning rate, may overshoot option weights and increase cost with moe iterations\n",
    "\n",
    "Low learning rate: typically decrease cost for each iteration but may be too slow\n",
    "\n",
    "Plot cost as a funciton of iterations\n",
    "\n",
    "\n",
    "## Preparing data\n",
    "\n",
    "\n"
   ],
   "cell_type": "markdown",
   "metadata": {}
  },
  {
   "cell_type": "code",
   "execution_count": 1,
   "metadata": {},
   "outputs": [],
   "source": [
    "import pandas as pd\n",
    "\n"
   ]
  },
  {
   "source": [
    "## Summary\n",
    "\n",
    "Recall what hyperparams are and how they influenced the results.\n"
   ],
   "cell_type": "markdown",
   "metadata": {}
  }
 ]
}