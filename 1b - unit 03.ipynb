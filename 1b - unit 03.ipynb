{
 "metadata": {
  "language_info": {
   "codemirror_mode": {
    "name": "ipython",
    "version": 3
   },
   "file_extension": ".py",
   "mimetype": "text/x-python",
   "name": "python",
   "nbconvert_exporter": "python",
   "pygments_lexer": "ipython3",
   "version": "3.8.5"
  },
  "orig_nbformat": 2,
  "kernelspec": {
   "name": "python385jvsc74a57bd05fd7d2d989b956829c9ad45cc6f2d78f0054d35d23dba8942e8fbd9b2870e6f3",
   "display_name": "Python 3.8.5 64-bit ('venv')"
  },
  "metadata": {
   "interpreter": {
    "hash": "5fd7d2d989b956829c9ad45cc6f2d78f0054d35d23dba8942e8fbd9b2870e6f3"
   }
  }
 },
 "nbformat": 4,
 "nbformat_minor": 2,
 "cells": [
  {
   "source": [
    "# Exercise: Polynomial Regression and Hyperparameters\n",
    "\n",
    "\n",
    "\n",
    "Briefly explain polynomial regression + Compare hypotesis using regular linear regression with Polynomial regression to illustrate why we need the latter\n",
    "\n",
    "What are hyperparemeters.\n",
    "\n",
    "what we are doing in this Exercise\n",
    "\n",
    "Mention metrics\n",
    "\n",
    "\n",
    "\n",
    "\n",
    "## Preparing data\n",
    "Explain the dataset we are using (should plot something similar to an exponential curve)\n",
    "\n"
   ],
   "cell_type": "markdown",
   "metadata": {}
  },
  {
   "cell_type": "code",
   "execution_count": 1,
   "metadata": {},
   "outputs": [],
   "source": [
    "import pandas as pd\n",
    "\n",
    "# Print dataset head\n",
    "\n",
    "# Plot dataset points"
   ]
  },
  {
   "source": [
    "## Polynomial Regression\n",
    "- Show formula\n",
    "- \n",
    "\n",
    "- Use Sklearn polynomial + linear to train/test\n",
    "\n",
    "## Metrics\n",
    "Use metrics such as RMSE/R2/Accuracy to evaluate the model\n"
   ],
   "cell_type": "markdown",
   "metadata": {}
  },
  {
   "source": [
    "## Hyperparameters\n",
    "- Briefly explain LR and num of iterations and tradeofs (when using gradient descent)\n",
    "- Build a custom Class LinearRegressionWithGD that accepts hyperparams (explain why we have to) (sklearn does it automatically for us)\n",
    "- Train model with a different number of iterations, ploting cost X iteration (use something too low, too high and something optimal)\n",
    "- Gather metricts for best model, compare with the previous\n",
    "\n",
    "- Animations showing the effects of learning rate on taining time go on next Unit"
   ],
   "cell_type": "markdown",
   "metadata": {}
  },
  {
   "source": [
    "## Summary\n",
    "\n",
    "- Recall what Polynomial Regression is and why we need it\n",
    "- Recall what hyperparams are and how they influenced the model.\n"
   ],
   "cell_type": "markdown",
   "metadata": {}
  }
 ]
}