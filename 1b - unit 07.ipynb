{
 "metadata": {
  "language_info": {
   "codemirror_mode": {
    "name": "ipython",
    "version": 3
   },
   "file_extension": ".py",
   "mimetype": "text/x-python",
   "name": "python",
   "nbconvert_exporter": "python",
   "pygments_lexer": "ipython3",
   "version": "3.8.5"
  },
  "orig_nbformat": 2,
  "kernelspec": {
   "name": "python385jvsc74a57bd05fd7d2d989b956829c9ad45cc6f2d78f0054d35d23dba8942e8fbd9b2870e6f3",
   "display_name": "Python 3.8.5 64-bit ('venv')"
  },
  "metadata": {
   "interpreter": {
    "hash": "5fd7d2d989b956829c9ad45cc6f2d78f0054d35d23dba8942e8fbd9b2870e6f3"
   }
  }
 },
 "nbformat": 4,
 "nbformat_minor": 2,
 "cells": [
  {
   "source": [
    "# Exercise: Feature Scaling\n",
    "\n",
    "Datasets often have **numerical** data expressed in different units and ranges (i.e.: weight in Kilograms but height in Meters).\n",
    "\n",
    "Feature Scaling is a technique that scales our numeric features, so they are all expressed in a similar range, which is a requirement for some algorithms to work properly and **may** even improve performance in models where it is not a mandatory (it can help some Gradient Descent models to converge faster).\n",
    "\n",
    "\n",
    "Is this unit we will look at a dataset that has features in different units and ranges, apply feature scaling and analyze the results.\n",
    "\n",
    "We will also compare models trained with and without feature scaling.\n",
    "\n",
    "## Preparing data\n",
    "We will use a dataset that correlates automobile engine features to fuel efficiency:\n",
    "\n"
   ],
   "cell_type": "markdown",
   "metadata": {}
  },
  {
   "cell_type": "code",
   "execution_count": 29,
   "metadata": {},
   "outputs": [
    {
     "output_type": "execute_result",
     "data": {
      "text/plain": [
       "      mpg  cylinders  displacement  horsepower  weight  acceleration  \\\n",
       "0    27.0          4          97.0          88    2130          14.5   \n",
       "1    26.0          4         121.0         113    2234          12.5   \n",
       "2    26.0          4          97.0          46    1835          20.5   \n",
       "3    25.0          4         110.0          87    2672          17.5   \n",
       "4    25.0          4         104.0          95    2375          17.5   \n",
       "..    ...        ...           ...         ...     ...           ...   \n",
       "387  27.0          4         112.0          88    2640          18.6   \n",
       "388  26.0          4         156.0          92    2585          14.5   \n",
       "389  25.0          6         181.0         110    2945          16.4   \n",
       "390  24.0          4         140.0          92    2865          16.4   \n",
       "391  22.0          6         232.0         112    2835          14.7   \n",
       "\n",
       "     model year  origin                      car name  \n",
       "0            70       3                  datsun pl510  \n",
       "1            70       2                      bmw 2002  \n",
       "2            70       2  volkswagen 1131 deluxe sedan  \n",
       "3            70       2                   peugeot 504  \n",
       "4            70       2                      saab 99e  \n",
       "..          ...     ...                           ...  \n",
       "387          82       1      chevrolet cavalier wagon  \n",
       "388          82       1    chrysler lebaron medallion  \n",
       "389          82       1         buick century limited  \n",
       "390          82       1          ford fairmont futura  \n",
       "391          82       1                ford granada l  \n",
       "\n",
       "[392 rows x 9 columns]"
      ],
      "text/html": "<div>\n<style scoped>\n    .dataframe tbody tr th:only-of-type {\n        vertical-align: middle;\n    }\n\n    .dataframe tbody tr th {\n        vertical-align: top;\n    }\n\n    .dataframe thead th {\n        text-align: right;\n    }\n</style>\n<table border=\"1\" class=\"dataframe\">\n  <thead>\n    <tr style=\"text-align: right;\">\n      <th></th>\n      <th>mpg</th>\n      <th>cylinders</th>\n      <th>displacement</th>\n      <th>horsepower</th>\n      <th>weight</th>\n      <th>acceleration</th>\n      <th>model year</th>\n      <th>origin</th>\n      <th>car name</th>\n    </tr>\n  </thead>\n  <tbody>\n    <tr>\n      <th>0</th>\n      <td>27.0</td>\n      <td>4</td>\n      <td>97.0</td>\n      <td>88</td>\n      <td>2130</td>\n      <td>14.5</td>\n      <td>70</td>\n      <td>3</td>\n      <td>datsun pl510</td>\n    </tr>\n    <tr>\n      <th>1</th>\n      <td>26.0</td>\n      <td>4</td>\n      <td>121.0</td>\n      <td>113</td>\n      <td>2234</td>\n      <td>12.5</td>\n      <td>70</td>\n      <td>2</td>\n      <td>bmw 2002</td>\n    </tr>\n    <tr>\n      <th>2</th>\n      <td>26.0</td>\n      <td>4</td>\n      <td>97.0</td>\n      <td>46</td>\n      <td>1835</td>\n      <td>20.5</td>\n      <td>70</td>\n      <td>2</td>\n      <td>volkswagen 1131 deluxe sedan</td>\n    </tr>\n    <tr>\n      <th>3</th>\n      <td>25.0</td>\n      <td>4</td>\n      <td>110.0</td>\n      <td>87</td>\n      <td>2672</td>\n      <td>17.5</td>\n      <td>70</td>\n      <td>2</td>\n      <td>peugeot 504</td>\n    </tr>\n    <tr>\n      <th>4</th>\n      <td>25.0</td>\n      <td>4</td>\n      <td>104.0</td>\n      <td>95</td>\n      <td>2375</td>\n      <td>17.5</td>\n      <td>70</td>\n      <td>2</td>\n      <td>saab 99e</td>\n    </tr>\n    <tr>\n      <th>...</th>\n      <td>...</td>\n      <td>...</td>\n      <td>...</td>\n      <td>...</td>\n      <td>...</td>\n      <td>...</td>\n      <td>...</td>\n      <td>...</td>\n      <td>...</td>\n    </tr>\n    <tr>\n      <th>387</th>\n      <td>27.0</td>\n      <td>4</td>\n      <td>112.0</td>\n      <td>88</td>\n      <td>2640</td>\n      <td>18.6</td>\n      <td>82</td>\n      <td>1</td>\n      <td>chevrolet cavalier wagon</td>\n    </tr>\n    <tr>\n      <th>388</th>\n      <td>26.0</td>\n      <td>4</td>\n      <td>156.0</td>\n      <td>92</td>\n      <td>2585</td>\n      <td>14.5</td>\n      <td>82</td>\n      <td>1</td>\n      <td>chrysler lebaron medallion</td>\n    </tr>\n    <tr>\n      <th>389</th>\n      <td>25.0</td>\n      <td>6</td>\n      <td>181.0</td>\n      <td>110</td>\n      <td>2945</td>\n      <td>16.4</td>\n      <td>82</td>\n      <td>1</td>\n      <td>buick century limited</td>\n    </tr>\n    <tr>\n      <th>390</th>\n      <td>24.0</td>\n      <td>4</td>\n      <td>140.0</td>\n      <td>92</td>\n      <td>2865</td>\n      <td>16.4</td>\n      <td>82</td>\n      <td>1</td>\n      <td>ford fairmont futura</td>\n    </tr>\n    <tr>\n      <th>391</th>\n      <td>22.0</td>\n      <td>6</td>\n      <td>232.0</td>\n      <td>112</td>\n      <td>2835</td>\n      <td>14.7</td>\n      <td>82</td>\n      <td>1</td>\n      <td>ford granada l</td>\n    </tr>\n  </tbody>\n</table>\n<p>392 rows × 9 columns</p>\n</div>"
     },
     "metadata": {},
     "execution_count": 29
    }
   ],
   "source": [
    "# Import everything we will need for this unit\n",
    "import pandas as pd\n",
    "import numpy as np\n",
    "import operator\n",
    "import matplotlib.pyplot as plt\n",
    "from sklearn.linear_model import LinearRegression\n",
    "from sklearn.model_selection import train_test_split\n",
    "from sklearn.metrics import mean_squared_error, r2_score\n",
    "from sklearn.preprocessing import StandardScaler\n",
    "\n",
    "# Load data from our dataset file into a pandas dataframe\n",
    "dataset = pd.read_csv('Data/auto-mpg-cleaned.csv')\n",
    "\n",
    "# Check what's in the dataset\n",
    "dataset\n",
    "\n"
   ]
  },
  {
   "source": [
    "The numerical features above are represented by different units (e.g., miles per gallon, horsepower, pounds, meters per seconds squared) and as such are distributed in different ranges.\n",
    "\n",
    "We will build models that try to predict fuel efficiency based on a selection of numerical features from this dataset:"
   ],
   "cell_type": "markdown",
   "metadata": {}
  },
  {
   "cell_type": "code",
   "execution_count": 30,
   "metadata": {
    "tags": []
   },
   "outputs": [
    {
     "output_type": "execute_result",
     "data": {
      "text/plain": [
       "     displacement  horsepower  weight  acceleration\n",
       "218          98.0          63    2051          17.0\n",
       "254         119.0          97    2405          14.9\n",
       "299         267.0         125    3605          15.0\n",
       "191         116.0          81    2220          16.9\n",
       "56           98.0          80    2164          15.0"
      ],
      "text/html": "<div>\n<style scoped>\n    .dataframe tbody tr th:only-of-type {\n        vertical-align: middle;\n    }\n\n    .dataframe tbody tr th {\n        vertical-align: top;\n    }\n\n    .dataframe thead th {\n        text-align: right;\n    }\n</style>\n<table border=\"1\" class=\"dataframe\">\n  <thead>\n    <tr style=\"text-align: right;\">\n      <th></th>\n      <th>displacement</th>\n      <th>horsepower</th>\n      <th>weight</th>\n      <th>acceleration</th>\n    </tr>\n  </thead>\n  <tbody>\n    <tr>\n      <th>218</th>\n      <td>98.0</td>\n      <td>63</td>\n      <td>2051</td>\n      <td>17.0</td>\n    </tr>\n    <tr>\n      <th>254</th>\n      <td>119.0</td>\n      <td>97</td>\n      <td>2405</td>\n      <td>14.9</td>\n    </tr>\n    <tr>\n      <th>299</th>\n      <td>267.0</td>\n      <td>125</td>\n      <td>3605</td>\n      <td>15.0</td>\n    </tr>\n    <tr>\n      <th>191</th>\n      <td>116.0</td>\n      <td>81</td>\n      <td>2220</td>\n      <td>16.9</td>\n    </tr>\n    <tr>\n      <th>56</th>\n      <td>98.0</td>\n      <td>80</td>\n      <td>2164</td>\n      <td>15.0</td>\n    </tr>\n  </tbody>\n</table>\n</div>"
     },
     "metadata": {},
     "execution_count": 30
    }
   ],
   "source": [
    "# Select only numerical features for training and testing\n",
    "# Convert both X and y to numpy arrays for processing\n",
    "X = dataset[['displacement', 'horsepower', 'weight', 'acceleration']]\n",
    "y = dataset['mpg'].to_numpy()\n",
    "\n",
    "# Split test and Train sets\n",
    "X_train, X_test, y_train, y_test = train_test_split(X,y, test_size=0.2, random_state=0)\n",
    "\n",
    "# Display first values in training set\n",
    "X_train[:5]"
   ]
  },
  {
   "cell_type": "code",
   "execution_count": 31,
   "metadata": {},
   "outputs": [
    {
     "output_type": "stream",
     "name": "stdout",
     "text": [
      "RMSE metrics: 5.026357848273459\nR2 metrics: 0.6334075027239533\n"
     ]
    }
   ],
   "source": [
    "# Train model with unscaled features\n",
    "# We have to set normalize to False\n",
    "# to disable automatic scaling and centering\n",
    "model = LinearRegression(normalize=False,)\n",
    "model.fit(X_train,y_train)\n",
    "\n",
    "# Evaluate using test set\n",
    "y_hat = model.predict(X_test)\n",
    "\n",
    "# Calculate metrics\n",
    "rmse = np.sqrt(mean_squared_error(y_test,y_hat))\n",
    "r2 = r2_score(y_test,y_hat)\n",
    "\n",
    "print(f\"RMSE metrics: {rmse}\")\n",
    "print(f\"R2 metrics: {r2}\")\n"
   ]
  },
  {
   "source": [
    "Notice that after training and evaluation we save the model's metrics."
   ],
   "cell_type": "markdown",
   "metadata": {}
  },
  {
   "source": [
    "### Scaling\n",
    "\n",
    "There are several different techniques used to scale data, but we will focus on one of the most commonly used -  *Standardisation*.\n",
    "\n",
    "Standardisation will scale features so they follow a *normal distribution*: the mean becomes **0** and the standard deviation **1**.\n",
    "\n",
    "Here’s the formula for standardization:\n",
    "\n",
    "```\n",
    "X_scaled = X - μ / σ\n",
    "```\n",
    "\n",
    "(where `μ` is the mean `σ` is the standard deviation)\n",
    "\n",
    "\n",
    "\n",
    "\n",
    "\n",
    "\n",
    "\n"
   ],
   "cell_type": "markdown",
   "metadata": {}
  },
  {
   "source": [
    "Let's apply feature scaling to our feature matrices using `sklearn's` `StandardScaler`:"
   ],
   "cell_type": "markdown",
   "metadata": {}
  },
  {
   "cell_type": "code",
   "execution_count": 32,
   "metadata": {
    "tags": []
   },
   "outputs": [
    {
     "output_type": "execute_result",
     "data": {
      "text/plain": [
       "   displacement  horsepower    weight  acceleration\n",
       "0     -0.923086   -1.083538 -1.100844      0.496798\n",
       "1     -0.720932   -0.196196 -0.683408     -0.246702\n",
       "2      0.703771    0.534557  0.731631     -0.211297\n",
       "3     -0.749811   -0.613769 -0.901560      0.461393\n",
       "4     -0.923086   -0.639867 -0.967595     -0.211297"
      ],
      "text/html": "<div>\n<style scoped>\n    .dataframe tbody tr th:only-of-type {\n        vertical-align: middle;\n    }\n\n    .dataframe tbody tr th {\n        vertical-align: top;\n    }\n\n    .dataframe thead th {\n        text-align: right;\n    }\n</style>\n<table border=\"1\" class=\"dataframe\">\n  <thead>\n    <tr style=\"text-align: right;\">\n      <th></th>\n      <th>displacement</th>\n      <th>horsepower</th>\n      <th>weight</th>\n      <th>acceleration</th>\n    </tr>\n  </thead>\n  <tbody>\n    <tr>\n      <th>0</th>\n      <td>-0.923086</td>\n      <td>-1.083538</td>\n      <td>-1.100844</td>\n      <td>0.496798</td>\n    </tr>\n    <tr>\n      <th>1</th>\n      <td>-0.720932</td>\n      <td>-0.196196</td>\n      <td>-0.683408</td>\n      <td>-0.246702</td>\n    </tr>\n    <tr>\n      <th>2</th>\n      <td>0.703771</td>\n      <td>0.534557</td>\n      <td>0.731631</td>\n      <td>-0.211297</td>\n    </tr>\n    <tr>\n      <th>3</th>\n      <td>-0.749811</td>\n      <td>-0.613769</td>\n      <td>-0.901560</td>\n      <td>0.461393</td>\n    </tr>\n    <tr>\n      <th>4</th>\n      <td>-0.923086</td>\n      <td>-0.639867</td>\n      <td>-0.967595</td>\n      <td>-0.211297</td>\n    </tr>\n  </tbody>\n</table>\n</div>"
     },
     "metadata": {},
     "execution_count": 32
    }
   ],
   "source": [
    "\n",
    "# Split test and Train sets\n",
    "X_train2, X_test2, y_train2, y_test2 = train_test_split(X, y, test_size=0.2, random_state=0)\n",
    "\n",
    "# Instantiate scaler, get fit from training feature set\n",
    "scaler = StandardScaler().fit(X_train2)\n",
    "\n",
    "# Scale both training and test sets\n",
    "X_train2_scaled = scaler.transform(X_train2)\n",
    "X_test2_scaled = scaler.transform(X_test2)\n",
    "\n",
    "# Display first values in scaled training set nalyze the result of scaling\n",
    "scaled_features = pd.DataFrame(data=X_train2_scaled, index=None, columns=['displacement', 'horsepower', 'weight', 'acceleration'])\n",
    "scaled_features[:5]\n",
    "\n"
   ]
  },
  {
   "source": [
    "Notice how all features are evenly distributed across the same range now (we will plot a comparison with the original features ahead).\n",
    "\n",
    "\n",
    "### Important Insights:\n",
    "\n",
    "1- You don't need to scale the target values.\n",
    "\n",
    "2- We fit the `scaler` using the training data, then use that same `scaler` transform the test data."
   ],
   "cell_type": "markdown",
   "metadata": {}
  },
  {
   "source": [
    "## Comparing the Feature Matrix Before and After Scaling\n",
    "\n",
    "Let's use `boxplots` to understand the results of applying standardization to the feature matrix:"
   ],
   "cell_type": "markdown",
   "metadata": {}
  },
  {
   "cell_type": "code",
   "execution_count": 33,
   "metadata": {},
   "outputs": [
    {
     "output_type": "display_data",
     "data": {
      "text/plain": "<Figure size 864x360 with 2 Axes>",
      "image/svg+xml": "<?xml version=\"1.0\" encoding=\"utf-8\" standalone=\"no\"?>\n<!DOCTYPE svg PUBLIC \"-//W3C//DTD SVG 1.1//EN\"\n  \"http://www.w3.org/Graphics/SVG/1.1/DTD/svg11.dtd\">\n<svg height=\"317.99625pt\" version=\"1.1\" viewBox=\"0 0 716.45 317.99625\" width=\"716.45pt\" xmlns=\"http://www.w3.org/2000/svg\" xmlns:xlink=\"http://www.w3.org/1999/xlink\">\n <metadata>\n  <rdf:RDF xmlns:cc=\"http://creativecommons.org/ns#\" xmlns:dc=\"http://purl.org/dc/elements/1.1/\" xmlns:rdf=\"http://www.w3.org/1999/02/22-rdf-syntax-ns#\">\n   <cc:Work>\n    <dc:type rdf:resource=\"http://purl.org/dc/dcmitype/StillImage\"/>\n    <dc:date>2021-05-08T17:57:31.215935</dc:date>\n    <dc:format>image/svg+xml</dc:format>\n    <dc:creator>\n     <cc:Agent>\n      <dc:title>Matplotlib v3.4.1, https://matplotlib.org/</dc:title>\n     </cc:Agent>\n    </dc:creator>\n   </cc:Work>\n  </rdf:RDF>\n </metadata>\n <defs>\n  <style type=\"text/css\">*{stroke-linecap:butt;stroke-linejoin:round;}</style>\n </defs>\n <g id=\"figure_1\">\n  <g id=\"patch_1\">\n   <path d=\"M 0 317.99625 \nL 716.45 317.99625 \nL 716.45 0 \nL 0 0 \nz\n\" style=\"fill:none;\"/>\n  </g>\n  <g id=\"axes_1\">\n   <g id=\"patch_2\">\n    <path d=\"M 39.65 294.118125 \nL 344.013636 294.118125 \nL 344.013636 22.318125 \nL 39.65 22.318125 \nz\n\" style=\"fill:#ffffff;\"/>\n   </g>\n   <g id=\"matplotlib.axis_1\">\n    <g id=\"xtick_1\">\n     <g id=\"line2d_1\">\n      <defs>\n       <path d=\"M 0 0 \nL 0 3.5 \n\" id=\"m6521271ff4\" style=\"stroke:#000000;stroke-width:0.8;\"/>\n      </defs>\n      <g>\n       <use style=\"stroke:#000000;stroke-width:0.8;\" x=\"77.695455\" xlink:href=\"#m6521271ff4\" y=\"294.118125\"/>\n      </g>\n     </g>\n     <g id=\"text_1\">\n      <!-- displacement -->\n      <g transform=\"translate(43.99858 308.716563)scale(0.1 -0.1)\">\n       <defs>\n        <path d=\"M 2906 2969 \nL 2906 4863 \nL 3481 4863 \nL 3481 0 \nL 2906 0 \nL 2906 525 \nQ 2725 213 2448 61 \nQ 2172 -91 1784 -91 \nQ 1150 -91 751 415 \nQ 353 922 353 1747 \nQ 353 2572 751 3078 \nQ 1150 3584 1784 3584 \nQ 2172 3584 2448 3432 \nQ 2725 3281 2906 2969 \nz\nM 947 1747 \nQ 947 1113 1208 752 \nQ 1469 391 1925 391 \nQ 2381 391 2643 752 \nQ 2906 1113 2906 1747 \nQ 2906 2381 2643 2742 \nQ 2381 3103 1925 3103 \nQ 1469 3103 1208 2742 \nQ 947 2381 947 1747 \nz\n\" id=\"DejaVuSans-64\" transform=\"scale(0.015625)\"/>\n        <path d=\"M 603 3500 \nL 1178 3500 \nL 1178 0 \nL 603 0 \nL 603 3500 \nz\nM 603 4863 \nL 1178 4863 \nL 1178 4134 \nL 603 4134 \nL 603 4863 \nz\n\" id=\"DejaVuSans-69\" transform=\"scale(0.015625)\"/>\n        <path d=\"M 2834 3397 \nL 2834 2853 \nQ 2591 2978 2328 3040 \nQ 2066 3103 1784 3103 \nQ 1356 3103 1142 2972 \nQ 928 2841 928 2578 \nQ 928 2378 1081 2264 \nQ 1234 2150 1697 2047 \nL 1894 2003 \nQ 2506 1872 2764 1633 \nQ 3022 1394 3022 966 \nQ 3022 478 2636 193 \nQ 2250 -91 1575 -91 \nQ 1294 -91 989 -36 \nQ 684 19 347 128 \nL 347 722 \nQ 666 556 975 473 \nQ 1284 391 1588 391 \nQ 1994 391 2212 530 \nQ 2431 669 2431 922 \nQ 2431 1156 2273 1281 \nQ 2116 1406 1581 1522 \nL 1381 1569 \nQ 847 1681 609 1914 \nQ 372 2147 372 2553 \nQ 372 3047 722 3315 \nQ 1072 3584 1716 3584 \nQ 2034 3584 2315 3537 \nQ 2597 3491 2834 3397 \nz\n\" id=\"DejaVuSans-73\" transform=\"scale(0.015625)\"/>\n        <path d=\"M 1159 525 \nL 1159 -1331 \nL 581 -1331 \nL 581 3500 \nL 1159 3500 \nL 1159 2969 \nQ 1341 3281 1617 3432 \nQ 1894 3584 2278 3584 \nQ 2916 3584 3314 3078 \nQ 3713 2572 3713 1747 \nQ 3713 922 3314 415 \nQ 2916 -91 2278 -91 \nQ 1894 -91 1617 61 \nQ 1341 213 1159 525 \nz\nM 3116 1747 \nQ 3116 2381 2855 2742 \nQ 2594 3103 2138 3103 \nQ 1681 3103 1420 2742 \nQ 1159 2381 1159 1747 \nQ 1159 1113 1420 752 \nQ 1681 391 2138 391 \nQ 2594 391 2855 752 \nQ 3116 1113 3116 1747 \nz\n\" id=\"DejaVuSans-70\" transform=\"scale(0.015625)\"/>\n        <path d=\"M 603 4863 \nL 1178 4863 \nL 1178 0 \nL 603 0 \nL 603 4863 \nz\n\" id=\"DejaVuSans-6c\" transform=\"scale(0.015625)\"/>\n        <path d=\"M 2194 1759 \nQ 1497 1759 1228 1600 \nQ 959 1441 959 1056 \nQ 959 750 1161 570 \nQ 1363 391 1709 391 \nQ 2188 391 2477 730 \nQ 2766 1069 2766 1631 \nL 2766 1759 \nL 2194 1759 \nz\nM 3341 1997 \nL 3341 0 \nL 2766 0 \nL 2766 531 \nQ 2569 213 2275 61 \nQ 1981 -91 1556 -91 \nQ 1019 -91 701 211 \nQ 384 513 384 1019 \nQ 384 1609 779 1909 \nQ 1175 2209 1959 2209 \nL 2766 2209 \nL 2766 2266 \nQ 2766 2663 2505 2880 \nQ 2244 3097 1772 3097 \nQ 1472 3097 1187 3025 \nQ 903 2953 641 2809 \nL 641 3341 \nQ 956 3463 1253 3523 \nQ 1550 3584 1831 3584 \nQ 2591 3584 2966 3190 \nQ 3341 2797 3341 1997 \nz\n\" id=\"DejaVuSans-61\" transform=\"scale(0.015625)\"/>\n        <path d=\"M 3122 3366 \nL 3122 2828 \nQ 2878 2963 2633 3030 \nQ 2388 3097 2138 3097 \nQ 1578 3097 1268 2742 \nQ 959 2388 959 1747 \nQ 959 1106 1268 751 \nQ 1578 397 2138 397 \nQ 2388 397 2633 464 \nQ 2878 531 3122 666 \nL 3122 134 \nQ 2881 22 2623 -34 \nQ 2366 -91 2075 -91 \nQ 1284 -91 818 406 \nQ 353 903 353 1747 \nQ 353 2603 823 3093 \nQ 1294 3584 2113 3584 \nQ 2378 3584 2631 3529 \nQ 2884 3475 3122 3366 \nz\n\" id=\"DejaVuSans-63\" transform=\"scale(0.015625)\"/>\n        <path d=\"M 3597 1894 \nL 3597 1613 \nL 953 1613 \nQ 991 1019 1311 708 \nQ 1631 397 2203 397 \nQ 2534 397 2845 478 \nQ 3156 559 3463 722 \nL 3463 178 \nQ 3153 47 2828 -22 \nQ 2503 -91 2169 -91 \nQ 1331 -91 842 396 \nQ 353 884 353 1716 \nQ 353 2575 817 3079 \nQ 1281 3584 2069 3584 \nQ 2775 3584 3186 3129 \nQ 3597 2675 3597 1894 \nz\nM 3022 2063 \nQ 3016 2534 2758 2815 \nQ 2500 3097 2075 3097 \nQ 1594 3097 1305 2825 \nQ 1016 2553 972 2059 \nL 3022 2063 \nz\n\" id=\"DejaVuSans-65\" transform=\"scale(0.015625)\"/>\n        <path d=\"M 3328 2828 \nQ 3544 3216 3844 3400 \nQ 4144 3584 4550 3584 \nQ 5097 3584 5394 3201 \nQ 5691 2819 5691 2113 \nL 5691 0 \nL 5113 0 \nL 5113 2094 \nQ 5113 2597 4934 2840 \nQ 4756 3084 4391 3084 \nQ 3944 3084 3684 2787 \nQ 3425 2491 3425 1978 \nL 3425 0 \nL 2847 0 \nL 2847 2094 \nQ 2847 2600 2669 2842 \nQ 2491 3084 2119 3084 \nQ 1678 3084 1418 2786 \nQ 1159 2488 1159 1978 \nL 1159 0 \nL 581 0 \nL 581 3500 \nL 1159 3500 \nL 1159 2956 \nQ 1356 3278 1631 3431 \nQ 1906 3584 2284 3584 \nQ 2666 3584 2933 3390 \nQ 3200 3197 3328 2828 \nz\n\" id=\"DejaVuSans-6d\" transform=\"scale(0.015625)\"/>\n        <path d=\"M 3513 2113 \nL 3513 0 \nL 2938 0 \nL 2938 2094 \nQ 2938 2591 2744 2837 \nQ 2550 3084 2163 3084 \nQ 1697 3084 1428 2787 \nQ 1159 2491 1159 1978 \nL 1159 0 \nL 581 0 \nL 581 3500 \nL 1159 3500 \nL 1159 2956 \nQ 1366 3272 1645 3428 \nQ 1925 3584 2291 3584 \nQ 2894 3584 3203 3211 \nQ 3513 2838 3513 2113 \nz\n\" id=\"DejaVuSans-6e\" transform=\"scale(0.015625)\"/>\n        <path d=\"M 1172 4494 \nL 1172 3500 \nL 2356 3500 \nL 2356 3053 \nL 1172 3053 \nL 1172 1153 \nQ 1172 725 1289 603 \nQ 1406 481 1766 481 \nL 2356 481 \nL 2356 0 \nL 1766 0 \nQ 1100 0 847 248 \nQ 594 497 594 1153 \nL 594 3053 \nL 172 3053 \nL 172 3500 \nL 594 3500 \nL 594 4494 \nL 1172 4494 \nz\n\" id=\"DejaVuSans-74\" transform=\"scale(0.015625)\"/>\n       </defs>\n       <use xlink:href=\"#DejaVuSans-64\"/>\n       <use x=\"63.476562\" xlink:href=\"#DejaVuSans-69\"/>\n       <use x=\"91.259766\" xlink:href=\"#DejaVuSans-73\"/>\n       <use x=\"143.359375\" xlink:href=\"#DejaVuSans-70\"/>\n       <use x=\"206.835938\" xlink:href=\"#DejaVuSans-6c\"/>\n       <use x=\"234.619141\" xlink:href=\"#DejaVuSans-61\"/>\n       <use x=\"295.898438\" xlink:href=\"#DejaVuSans-63\"/>\n       <use x=\"350.878906\" xlink:href=\"#DejaVuSans-65\"/>\n       <use x=\"412.402344\" xlink:href=\"#DejaVuSans-6d\"/>\n       <use x=\"509.814453\" xlink:href=\"#DejaVuSans-65\"/>\n       <use x=\"571.337891\" xlink:href=\"#DejaVuSans-6e\"/>\n       <use x=\"634.716797\" xlink:href=\"#DejaVuSans-74\"/>\n      </g>\n     </g>\n    </g>\n    <g id=\"xtick_2\">\n     <g id=\"line2d_2\">\n      <g>\n       <use style=\"stroke:#000000;stroke-width:0.8;\" x=\"153.786364\" xlink:href=\"#m6521271ff4\" y=\"294.118125\"/>\n      </g>\n     </g>\n     <g id=\"text_2\">\n      <!-- horsepower -->\n      <g transform=\"translate(124.366832 308.716563)scale(0.1 -0.1)\">\n       <defs>\n        <path d=\"M 3513 2113 \nL 3513 0 \nL 2938 0 \nL 2938 2094 \nQ 2938 2591 2744 2837 \nQ 2550 3084 2163 3084 \nQ 1697 3084 1428 2787 \nQ 1159 2491 1159 1978 \nL 1159 0 \nL 581 0 \nL 581 4863 \nL 1159 4863 \nL 1159 2956 \nQ 1366 3272 1645 3428 \nQ 1925 3584 2291 3584 \nQ 2894 3584 3203 3211 \nQ 3513 2838 3513 2113 \nz\n\" id=\"DejaVuSans-68\" transform=\"scale(0.015625)\"/>\n        <path d=\"M 1959 3097 \nQ 1497 3097 1228 2736 \nQ 959 2375 959 1747 \nQ 959 1119 1226 758 \nQ 1494 397 1959 397 \nQ 2419 397 2687 759 \nQ 2956 1122 2956 1747 \nQ 2956 2369 2687 2733 \nQ 2419 3097 1959 3097 \nz\nM 1959 3584 \nQ 2709 3584 3137 3096 \nQ 3566 2609 3566 1747 \nQ 3566 888 3137 398 \nQ 2709 -91 1959 -91 \nQ 1206 -91 779 398 \nQ 353 888 353 1747 \nQ 353 2609 779 3096 \nQ 1206 3584 1959 3584 \nz\n\" id=\"DejaVuSans-6f\" transform=\"scale(0.015625)\"/>\n        <path d=\"M 2631 2963 \nQ 2534 3019 2420 3045 \nQ 2306 3072 2169 3072 \nQ 1681 3072 1420 2755 \nQ 1159 2438 1159 1844 \nL 1159 0 \nL 581 0 \nL 581 3500 \nL 1159 3500 \nL 1159 2956 \nQ 1341 3275 1631 3429 \nQ 1922 3584 2338 3584 \nQ 2397 3584 2469 3576 \nQ 2541 3569 2628 3553 \nL 2631 2963 \nz\n\" id=\"DejaVuSans-72\" transform=\"scale(0.015625)\"/>\n        <path d=\"M 269 3500 \nL 844 3500 \nL 1563 769 \nL 2278 3500 \nL 2956 3500 \nL 3675 769 \nL 4391 3500 \nL 4966 3500 \nL 4050 0 \nL 3372 0 \nL 2619 2869 \nL 1863 0 \nL 1184 0 \nL 269 3500 \nz\n\" id=\"DejaVuSans-77\" transform=\"scale(0.015625)\"/>\n       </defs>\n       <use xlink:href=\"#DejaVuSans-68\"/>\n       <use x=\"63.378906\" xlink:href=\"#DejaVuSans-6f\"/>\n       <use x=\"124.560547\" xlink:href=\"#DejaVuSans-72\"/>\n       <use x=\"165.673828\" xlink:href=\"#DejaVuSans-73\"/>\n       <use x=\"217.773438\" xlink:href=\"#DejaVuSans-65\"/>\n       <use x=\"279.296875\" xlink:href=\"#DejaVuSans-70\"/>\n       <use x=\"342.773438\" xlink:href=\"#DejaVuSans-6f\"/>\n       <use x=\"403.955078\" xlink:href=\"#DejaVuSans-77\"/>\n       <use x=\"485.742188\" xlink:href=\"#DejaVuSans-65\"/>\n       <use x=\"547.265625\" xlink:href=\"#DejaVuSans-72\"/>\n      </g>\n     </g>\n    </g>\n    <g id=\"xtick_3\">\n     <g id=\"line2d_3\">\n      <g>\n       <use style=\"stroke:#000000;stroke-width:0.8;\" x=\"229.877273\" xlink:href=\"#m6521271ff4\" y=\"294.118125\"/>\n      </g>\n     </g>\n     <g id=\"text_3\">\n      <!-- weight -->\n      <g transform=\"translate(213.01946 308.716563)scale(0.1 -0.1)\">\n       <defs>\n        <path d=\"M 2906 1791 \nQ 2906 2416 2648 2759 \nQ 2391 3103 1925 3103 \nQ 1463 3103 1205 2759 \nQ 947 2416 947 1791 \nQ 947 1169 1205 825 \nQ 1463 481 1925 481 \nQ 2391 481 2648 825 \nQ 2906 1169 2906 1791 \nz\nM 3481 434 \nQ 3481 -459 3084 -895 \nQ 2688 -1331 1869 -1331 \nQ 1566 -1331 1297 -1286 \nQ 1028 -1241 775 -1147 \nL 775 -588 \nQ 1028 -725 1275 -790 \nQ 1522 -856 1778 -856 \nQ 2344 -856 2625 -561 \nQ 2906 -266 2906 331 \nL 2906 616 \nQ 2728 306 2450 153 \nQ 2172 0 1784 0 \nQ 1141 0 747 490 \nQ 353 981 353 1791 \nQ 353 2603 747 3093 \nQ 1141 3584 1784 3584 \nQ 2172 3584 2450 3431 \nQ 2728 3278 2906 2969 \nL 2906 3500 \nL 3481 3500 \nL 3481 434 \nz\n\" id=\"DejaVuSans-67\" transform=\"scale(0.015625)\"/>\n       </defs>\n       <use xlink:href=\"#DejaVuSans-77\"/>\n       <use x=\"81.787109\" xlink:href=\"#DejaVuSans-65\"/>\n       <use x=\"143.310547\" xlink:href=\"#DejaVuSans-69\"/>\n       <use x=\"171.09375\" xlink:href=\"#DejaVuSans-67\"/>\n       <use x=\"234.570312\" xlink:href=\"#DejaVuSans-68\"/>\n       <use x=\"297.949219\" xlink:href=\"#DejaVuSans-74\"/>\n      </g>\n     </g>\n    </g>\n    <g id=\"xtick_4\">\n     <g id=\"line2d_4\">\n      <g>\n       <use style=\"stroke:#000000;stroke-width:0.8;\" x=\"305.968182\" xlink:href=\"#m6521271ff4\" y=\"294.118125\"/>\n      </g>\n     </g>\n     <g id=\"text_4\">\n      <!-- acceleration -->\n      <g transform=\"translate(275.166619 308.716563)scale(0.1 -0.1)\">\n       <use xlink:href=\"#DejaVuSans-61\"/>\n       <use x=\"61.279297\" xlink:href=\"#DejaVuSans-63\"/>\n       <use x=\"116.259766\" xlink:href=\"#DejaVuSans-63\"/>\n       <use x=\"171.240234\" xlink:href=\"#DejaVuSans-65\"/>\n       <use x=\"232.763672\" xlink:href=\"#DejaVuSans-6c\"/>\n       <use x=\"260.546875\" xlink:href=\"#DejaVuSans-65\"/>\n       <use x=\"322.070312\" xlink:href=\"#DejaVuSans-72\"/>\n       <use x=\"363.183594\" xlink:href=\"#DejaVuSans-61\"/>\n       <use x=\"424.462891\" xlink:href=\"#DejaVuSans-74\"/>\n       <use x=\"463.671875\" xlink:href=\"#DejaVuSans-69\"/>\n       <use x=\"491.455078\" xlink:href=\"#DejaVuSans-6f\"/>\n       <use x=\"552.636719\" xlink:href=\"#DejaVuSans-6e\"/>\n      </g>\n     </g>\n    </g>\n   </g>\n   <g id=\"matplotlib.axis_2\">\n    <g id=\"ytick_1\">\n     <g id=\"line2d_5\">\n      <defs>\n       <path d=\"M 0 0 \nL -3.5 0 \n\" id=\"mfd92a52441\" style=\"stroke:#000000;stroke-width:0.8;\"/>\n      </defs>\n      <g>\n       <use style=\"stroke:#000000;stroke-width:0.8;\" x=\"39.65\" xlink:href=\"#mfd92a52441\" y=\"282.148756\"/>\n      </g>\n     </g>\n     <g id=\"text_5\">\n      <!-- 0 -->\n      <g transform=\"translate(26.2875 285.947975)scale(0.1 -0.1)\">\n       <defs>\n        <path d=\"M 2034 4250 \nQ 1547 4250 1301 3770 \nQ 1056 3291 1056 2328 \nQ 1056 1369 1301 889 \nQ 1547 409 2034 409 \nQ 2525 409 2770 889 \nQ 3016 1369 3016 2328 \nQ 3016 3291 2770 3770 \nQ 2525 4250 2034 4250 \nz\nM 2034 4750 \nQ 2819 4750 3233 4129 \nQ 3647 3509 3647 2328 \nQ 3647 1150 3233 529 \nQ 2819 -91 2034 -91 \nQ 1250 -91 836 529 \nQ 422 1150 422 2328 \nQ 422 3509 836 4129 \nQ 1250 4750 2034 4750 \nz\n\" id=\"DejaVuSans-30\" transform=\"scale(0.015625)\"/>\n       </defs>\n       <use xlink:href=\"#DejaVuSans-30\"/>\n      </g>\n     </g>\n    </g>\n    <g id=\"ytick_2\">\n     <g id=\"line2d_6\">\n      <g>\n       <use style=\"stroke:#000000;stroke-width:0.8;\" x=\"39.65\" xlink:href=\"#mfd92a52441\" y=\"234.001658\"/>\n      </g>\n     </g>\n     <g id=\"text_6\">\n      <!-- 1000 -->\n      <g transform=\"translate(7.2 237.800877)scale(0.1 -0.1)\">\n       <defs>\n        <path d=\"M 794 531 \nL 1825 531 \nL 1825 4091 \nL 703 3866 \nL 703 4441 \nL 1819 4666 \nL 2450 4666 \nL 2450 531 \nL 3481 531 \nL 3481 0 \nL 794 0 \nL 794 531 \nz\n\" id=\"DejaVuSans-31\" transform=\"scale(0.015625)\"/>\n       </defs>\n       <use xlink:href=\"#DejaVuSans-31\"/>\n       <use x=\"63.623047\" xlink:href=\"#DejaVuSans-30\"/>\n       <use x=\"127.246094\" xlink:href=\"#DejaVuSans-30\"/>\n       <use x=\"190.869141\" xlink:href=\"#DejaVuSans-30\"/>\n      </g>\n     </g>\n    </g>\n    <g id=\"ytick_3\">\n     <g id=\"line2d_7\">\n      <g>\n       <use style=\"stroke:#000000;stroke-width:0.8;\" x=\"39.65\" xlink:href=\"#mfd92a52441\" y=\"185.854559\"/>\n      </g>\n     </g>\n     <g id=\"text_7\">\n      <!-- 2000 -->\n      <g transform=\"translate(7.2 189.653778)scale(0.1 -0.1)\">\n       <defs>\n        <path d=\"M 1228 531 \nL 3431 531 \nL 3431 0 \nL 469 0 \nL 469 531 \nQ 828 903 1448 1529 \nQ 2069 2156 2228 2338 \nQ 2531 2678 2651 2914 \nQ 2772 3150 2772 3378 \nQ 2772 3750 2511 3984 \nQ 2250 4219 1831 4219 \nQ 1534 4219 1204 4116 \nQ 875 4013 500 3803 \nL 500 4441 \nQ 881 4594 1212 4672 \nQ 1544 4750 1819 4750 \nQ 2544 4750 2975 4387 \nQ 3406 4025 3406 3419 \nQ 3406 3131 3298 2873 \nQ 3191 2616 2906 2266 \nQ 2828 2175 2409 1742 \nQ 1991 1309 1228 531 \nz\n\" id=\"DejaVuSans-32\" transform=\"scale(0.015625)\"/>\n       </defs>\n       <use xlink:href=\"#DejaVuSans-32\"/>\n       <use x=\"63.623047\" xlink:href=\"#DejaVuSans-30\"/>\n       <use x=\"127.246094\" xlink:href=\"#DejaVuSans-30\"/>\n       <use x=\"190.869141\" xlink:href=\"#DejaVuSans-30\"/>\n      </g>\n     </g>\n    </g>\n    <g id=\"ytick_4\">\n     <g id=\"line2d_8\">\n      <g>\n       <use style=\"stroke:#000000;stroke-width:0.8;\" x=\"39.65\" xlink:href=\"#mfd92a52441\" y=\"137.707461\"/>\n      </g>\n     </g>\n     <g id=\"text_8\">\n      <!-- 3000 -->\n      <g transform=\"translate(7.2 141.50668)scale(0.1 -0.1)\">\n       <defs>\n        <path d=\"M 2597 2516 \nQ 3050 2419 3304 2112 \nQ 3559 1806 3559 1356 \nQ 3559 666 3084 287 \nQ 2609 -91 1734 -91 \nQ 1441 -91 1130 -33 \nQ 819 25 488 141 \nL 488 750 \nQ 750 597 1062 519 \nQ 1375 441 1716 441 \nQ 2309 441 2620 675 \nQ 2931 909 2931 1356 \nQ 2931 1769 2642 2001 \nQ 2353 2234 1838 2234 \nL 1294 2234 \nL 1294 2753 \nL 1863 2753 \nQ 2328 2753 2575 2939 \nQ 2822 3125 2822 3475 \nQ 2822 3834 2567 4026 \nQ 2313 4219 1838 4219 \nQ 1578 4219 1281 4162 \nQ 984 4106 628 3988 \nL 628 4550 \nQ 988 4650 1302 4700 \nQ 1616 4750 1894 4750 \nQ 2613 4750 3031 4423 \nQ 3450 4097 3450 3541 \nQ 3450 3153 3228 2886 \nQ 3006 2619 2597 2516 \nz\n\" id=\"DejaVuSans-33\" transform=\"scale(0.015625)\"/>\n       </defs>\n       <use xlink:href=\"#DejaVuSans-33\"/>\n       <use x=\"63.623047\" xlink:href=\"#DejaVuSans-30\"/>\n       <use x=\"127.246094\" xlink:href=\"#DejaVuSans-30\"/>\n       <use x=\"190.869141\" xlink:href=\"#DejaVuSans-30\"/>\n      </g>\n     </g>\n    </g>\n    <g id=\"ytick_5\">\n     <g id=\"line2d_9\">\n      <g>\n       <use style=\"stroke:#000000;stroke-width:0.8;\" x=\"39.65\" xlink:href=\"#mfd92a52441\" y=\"89.560363\"/>\n      </g>\n     </g>\n     <g id=\"text_9\">\n      <!-- 4000 -->\n      <g transform=\"translate(7.2 93.359581)scale(0.1 -0.1)\">\n       <defs>\n        <path d=\"M 2419 4116 \nL 825 1625 \nL 2419 1625 \nL 2419 4116 \nz\nM 2253 4666 \nL 3047 4666 \nL 3047 1625 \nL 3713 1625 \nL 3713 1100 \nL 3047 1100 \nL 3047 0 \nL 2419 0 \nL 2419 1100 \nL 313 1100 \nL 313 1709 \nL 2253 4666 \nz\n\" id=\"DejaVuSans-34\" transform=\"scale(0.015625)\"/>\n       </defs>\n       <use xlink:href=\"#DejaVuSans-34\"/>\n       <use x=\"63.623047\" xlink:href=\"#DejaVuSans-30\"/>\n       <use x=\"127.246094\" xlink:href=\"#DejaVuSans-30\"/>\n       <use x=\"190.869141\" xlink:href=\"#DejaVuSans-30\"/>\n      </g>\n     </g>\n    </g>\n    <g id=\"ytick_6\">\n     <g id=\"line2d_10\">\n      <g>\n       <use style=\"stroke:#000000;stroke-width:0.8;\" x=\"39.65\" xlink:href=\"#mfd92a52441\" y=\"41.413264\"/>\n      </g>\n     </g>\n     <g id=\"text_10\">\n      <!-- 5000 -->\n      <g transform=\"translate(7.2 45.212483)scale(0.1 -0.1)\">\n       <defs>\n        <path d=\"M 691 4666 \nL 3169 4666 \nL 3169 4134 \nL 1269 4134 \nL 1269 2991 \nQ 1406 3038 1543 3061 \nQ 1681 3084 1819 3084 \nQ 2600 3084 3056 2656 \nQ 3513 2228 3513 1497 \nQ 3513 744 3044 326 \nQ 2575 -91 1722 -91 \nQ 1428 -91 1123 -41 \nQ 819 9 494 109 \nL 494 744 \nQ 775 591 1075 516 \nQ 1375 441 1709 441 \nQ 2250 441 2565 725 \nQ 2881 1009 2881 1497 \nQ 2881 1984 2565 2268 \nQ 2250 2553 1709 2553 \nQ 1456 2553 1204 2497 \nQ 953 2441 691 2322 \nL 691 4666 \nz\n\" id=\"DejaVuSans-35\" transform=\"scale(0.015625)\"/>\n       </defs>\n       <use xlink:href=\"#DejaVuSans-35\"/>\n       <use x=\"63.623047\" xlink:href=\"#DejaVuSans-30\"/>\n       <use x=\"127.246094\" xlink:href=\"#DejaVuSans-30\"/>\n       <use x=\"190.869141\" xlink:href=\"#DejaVuSans-30\"/>\n      </g>\n     </g>\n    </g>\n   </g>\n   <g id=\"line2d_11\">\n    <path clip-path=\"url(#p40eb54e74d)\" d=\"M 60.575 277.093311 \nL 94.815909 277.093311 \nL 94.815909 269.293481 \nL 60.575 269.293481 \nL 60.575 277.093311 \n\" style=\"fill:none;stroke:#000000;stroke-linecap:square;\"/>\n   </g>\n   <g id=\"line2d_12\">\n    <path clip-path=\"url(#p40eb54e74d)\" d=\"M 77.695455 277.093311 \nL 77.695455 278.874754 \n\" style=\"fill:none;stroke:#000000;stroke-linecap:square;\"/>\n   </g>\n   <g id=\"line2d_13\">\n    <path clip-path=\"url(#p40eb54e74d)\" d=\"M 77.695455 269.293481 \nL 77.695455 260.241827 \n\" style=\"fill:none;stroke:#000000;stroke-linecap:square;\"/>\n   </g>\n   <g id=\"line2d_14\">\n    <path clip-path=\"url(#p40eb54e74d)\" d=\"M 69.135227 278.874754 \nL 86.255682 278.874754 \n\" style=\"fill:none;stroke:#000000;stroke-linecap:square;\"/>\n   </g>\n   <g id=\"line2d_15\">\n    <path clip-path=\"url(#p40eb54e74d)\" d=\"M 69.135227 260.241827 \nL 86.255682 260.241827 \n\" style=\"fill:none;stroke:#000000;stroke-linecap:square;\"/>\n   </g>\n   <g id=\"line2d_16\"/>\n   <g id=\"line2d_17\">\n    <path clip-path=\"url(#p40eb54e74d)\" d=\"M 136.665909 278.489577 \nL 170.906818 278.489577 \nL 170.906818 276.130369 \nL 136.665909 276.130369 \nL 136.665909 278.489577 \n\" style=\"fill:none;stroke:#000000;stroke-linecap:square;\"/>\n   </g>\n   <g id=\"line2d_18\">\n    <path clip-path=\"url(#p40eb54e74d)\" d=\"M 153.786364 278.489577 \nL 153.786364 279.93399 \n\" style=\"fill:none;stroke:#000000;stroke-linecap:square;\"/>\n   </g>\n   <g id=\"line2d_19\">\n    <path clip-path=\"url(#p40eb54e74d)\" d=\"M 153.786364 276.130369 \nL 153.786364 272.615631 \n\" style=\"fill:none;stroke:#000000;stroke-linecap:square;\"/>\n   </g>\n   <g id=\"line2d_20\">\n    <path clip-path=\"url(#p40eb54e74d)\" d=\"M 145.226136 279.93399 \nL 162.346591 279.93399 \n\" style=\"fill:none;stroke:#000000;stroke-linecap:square;\"/>\n   </g>\n   <g id=\"line2d_21\">\n    <path clip-path=\"url(#p40eb54e74d)\" d=\"M 145.226136 272.615631 \nL 162.346591 272.615631 \n\" style=\"fill:none;stroke:#000000;stroke-linecap:square;\"/>\n   </g>\n   <g id=\"line2d_22\">\n    <defs>\n     <path d=\"M 0 3 \nC 0.795609 3 1.55874 2.683901 2.12132 2.12132 \nC 2.683901 1.55874 3 0.795609 3 0 \nC 3 -0.795609 2.683901 -1.55874 2.12132 -2.12132 \nC 1.55874 -2.683901 0.795609 -3 0 -3 \nC -0.795609 -3 -1.55874 -2.683901 -2.12132 -2.12132 \nC -2.683901 -1.55874 -3 -0.795609 -3 0 \nC -3 0.795609 -2.683901 1.55874 -2.12132 2.12132 \nC -1.55874 2.683901 -0.795609 3 0 3 \nz\n\" id=\"mfda524e539\" style=\"stroke:#000000;\"/>\n    </defs>\n    <g clip-path=\"url(#p40eb54e74d)\">\n     <use style=\"fill-opacity:0;stroke:#000000;\" x=\"153.786364\" xlink:href=\"#mfda524e539\" y=\"271.315659\"/>\n     <use style=\"fill-opacity:0;stroke:#000000;\" x=\"153.786364\" xlink:href=\"#mfda524e539\" y=\"271.556395\"/>\n     <use style=\"fill-opacity:0;stroke:#000000;\" x=\"153.786364\" xlink:href=\"#mfda524e539\" y=\"271.074924\"/>\n     <use style=\"fill-opacity:0;stroke:#000000;\" x=\"153.786364\" xlink:href=\"#mfda524e539\" y=\"272.519337\"/>\n     <use style=\"fill-opacity:0;stroke:#000000;\" x=\"153.786364\" xlink:href=\"#mfda524e539\" y=\"271.79713\"/>\n     <use style=\"fill-opacity:0;stroke:#000000;\" x=\"153.786364\" xlink:href=\"#mfda524e539\" y=\"272.13416\"/>\n     <use style=\"fill-opacity:0;stroke:#000000;\" x=\"153.786364\" xlink:href=\"#mfda524e539\" y=\"271.315659\"/>\n     <use style=\"fill-opacity:0;stroke:#000000;\" x=\"153.786364\" xlink:href=\"#mfda524e539\" y=\"271.79713\"/>\n     <use style=\"fill-opacity:0;stroke:#000000;\" x=\"153.786364\" xlink:href=\"#mfda524e539\" y=\"272.037866\"/>\n    </g>\n   </g>\n   <g id=\"line2d_23\">\n    <path clip-path=\"url(#p40eb54e74d)\" d=\"M 212.756818 174.973315 \nL 246.997727 174.973315 \nL 246.997727 107.278495 \nL 212.756818 107.278495 \nL 212.756818 174.973315 \n\" style=\"fill:none;stroke:#000000;stroke-linecap:square;\"/>\n   </g>\n   <g id=\"line2d_24\">\n    <path clip-path=\"url(#p40eb54e74d)\" d=\"M 229.877273 174.973315 \nL 229.877273 204.487487 \n\" style=\"fill:none;stroke:#000000;stroke-linecap:square;\"/>\n   </g>\n   <g id=\"line2d_25\">\n    <path clip-path=\"url(#p40eb54e74d)\" d=\"M 229.877273 107.278495 \nL 229.877273 34.67267 \n\" style=\"fill:none;stroke:#000000;stroke-linecap:square;\"/>\n   </g>\n   <g id=\"line2d_26\">\n    <path clip-path=\"url(#p40eb54e74d)\" d=\"M 221.317045 204.487487 \nL 238.4375 204.487487 \n\" style=\"fill:none;stroke:#000000;stroke-linecap:square;\"/>\n   </g>\n   <g id=\"line2d_27\">\n    <path clip-path=\"url(#p40eb54e74d)\" d=\"M 221.317045 34.67267 \nL 238.4375 34.67267 \n\" style=\"fill:none;stroke:#000000;stroke-linecap:square;\"/>\n   </g>\n   <g id=\"line2d_28\"/>\n   <g id=\"line2d_29\">\n    <path clip-path=\"url(#p40eb54e74d)\" d=\"M 288.847727 281.489141 \nL 323.088636 281.489141 \nL 323.088636 281.320626 \nL 288.847727 281.320626 \nL 288.847727 281.489141 \n\" style=\"fill:none;stroke:#000000;stroke-linecap:square;\"/>\n   </g>\n   <g id=\"line2d_30\">\n    <path clip-path=\"url(#p40eb54e74d)\" d=\"M 305.968182 281.489141 \nL 305.968182 281.739506 \n\" style=\"fill:none;stroke:#000000;stroke-linecap:square;\"/>\n   </g>\n   <g id=\"line2d_31\">\n    <path clip-path=\"url(#p40eb54e74d)\" d=\"M 305.968182 281.320626 \nL 305.968182 281.079891 \n\" style=\"fill:none;stroke:#000000;stroke-linecap:square;\"/>\n   </g>\n   <g id=\"line2d_32\">\n    <path clip-path=\"url(#p40eb54e74d)\" d=\"M 297.407955 281.739506 \nL 314.528409 281.739506 \n\" style=\"fill:none;stroke:#000000;stroke-linecap:square;\"/>\n   </g>\n   <g id=\"line2d_33\">\n    <path clip-path=\"url(#p40eb54e74d)\" d=\"M 297.407955 281.079891 \nL 314.528409 281.079891 \n\" style=\"fill:none;stroke:#000000;stroke-linecap:square;\"/>\n   </g>\n   <g id=\"line2d_34\">\n    <g clip-path=\"url(#p40eb54e74d)\">\n     <use style=\"fill-opacity:0;stroke:#000000;\" x=\"305.968182\" xlink:href=\"#mfda524e539\" y=\"281.76358\"/>\n     <use style=\"fill-opacity:0;stroke:#000000;\" x=\"305.968182\" xlink:href=\"#mfda524e539\" y=\"281.0173\"/>\n     <use style=\"fill-opacity:0;stroke:#000000;\" x=\"305.968182\" xlink:href=\"#mfda524e539\" y=\"280.954708\"/>\n     <use style=\"fill-opacity:0;stroke:#000000;\" x=\"305.968182\" xlink:href=\"#mfda524e539\" y=\"281.00767\"/>\n     <use style=\"fill-opacity:0;stroke:#000000;\" x=\"305.968182\" xlink:href=\"#mfda524e539\" y=\"280.964338\"/>\n    </g>\n   </g>\n   <g id=\"line2d_35\">\n    <path clip-path=\"url(#p40eb54e74d)\" d=\"M 60.575 275.11928 \nL 94.815909 275.11928 \n\" style=\"fill:none;stroke:#ff7f0e;stroke-linecap:square;\"/>\n   </g>\n   <g id=\"line2d_36\">\n    <defs>\n     <path d=\"M 0 -3 \nL -3 3 \nL 3 3 \nz\n\" id=\"md94aa5cca5\" style=\"stroke:#2ca02c;stroke-linejoin:miter;\"/>\n    </defs>\n    <g clip-path=\"url(#p40eb54e74d)\">\n     <use style=\"fill:#2ca02c;stroke:#2ca02c;stroke-linejoin:miter;\" x=\"77.695455\" xlink:href=\"#md94aa5cca5\" y=\"272.813449\"/>\n    </g>\n   </g>\n   <g id=\"line2d_37\">\n    <path clip-path=\"url(#p40eb54e74d)\" d=\"M 136.665909 277.574782 \nL 170.906818 277.574782 \n\" style=\"fill:none;stroke:#ff7f0e;stroke-linecap:square;\"/>\n   </g>\n   <g id=\"line2d_38\">\n    <g clip-path=\"url(#p40eb54e74d)\">\n     <use style=\"fill:#2ca02c;stroke:#2ca02c;stroke-linejoin:miter;\" x=\"153.786364\" xlink:href=\"#md94aa5cca5\" y=\"277.116539\"/>\n    </g>\n   </g>\n   <g id=\"line2d_39\">\n    <path clip-path=\"url(#p40eb54e74d)\" d=\"M 212.756818 146.999851 \nL 246.997727 146.999851 \n\" style=\"fill:none;stroke:#ff7f0e;stroke-linecap:square;\"/>\n   </g>\n   <g id=\"line2d_40\">\n    <g clip-path=\"url(#p40eb54e74d)\">\n     <use style=\"fill:#2ca02c;stroke:#2ca02c;stroke-linejoin:miter;\" x=\"229.877273\" xlink:href=\"#md94aa5cca5\" y=\"138.451203\"/>\n    </g>\n   </g>\n   <g id=\"line2d_41\">\n    <path clip-path=\"url(#p40eb54e74d)\" d=\"M 288.847727 281.402476 \nL 323.088636 281.402476 \n\" style=\"fill:none;stroke:#ff7f0e;stroke-linecap:square;\"/>\n   </g>\n   <g id=\"line2d_42\">\n    <g clip-path=\"url(#p40eb54e74d)\">\n     <use style=\"fill:#2ca02c;stroke:#2ca02c;stroke-linejoin:miter;\" x=\"305.968182\" xlink:href=\"#md94aa5cca5\" y=\"281.397815\"/>\n    </g>\n   </g>\n   <g id=\"patch_3\">\n    <path d=\"M 39.65 294.118125 \nL 39.65 22.318125 \n\" style=\"fill:none;stroke:#000000;stroke-linecap:square;stroke-linejoin:miter;stroke-width:0.8;\"/>\n   </g>\n   <g id=\"patch_4\">\n    <path d=\"M 344.013636 294.118125 \nL 344.013636 22.318125 \n\" style=\"fill:none;stroke:#000000;stroke-linecap:square;stroke-linejoin:miter;stroke-width:0.8;\"/>\n   </g>\n   <g id=\"patch_5\">\n    <path d=\"M 39.65 294.118125 \nL 344.013636 294.118125 \n\" style=\"fill:none;stroke:#000000;stroke-linecap:square;stroke-linejoin:miter;stroke-width:0.8;\"/>\n   </g>\n   <g id=\"patch_6\">\n    <path d=\"M 39.65 22.318125 \nL 344.013636 22.318125 \n\" style=\"fill:none;stroke:#000000;stroke-linecap:square;stroke-linejoin:miter;stroke-width:0.8;\"/>\n   </g>\n   <g id=\"text_11\">\n    <!-- Unscaled Features -->\n    <g transform=\"translate(136.668381 16.318125)scale(0.12 -0.12)\">\n     <defs>\n      <path d=\"M 556 4666 \nL 1191 4666 \nL 1191 1831 \nQ 1191 1081 1462 751 \nQ 1734 422 2344 422 \nQ 2950 422 3222 751 \nQ 3494 1081 3494 1831 \nL 3494 4666 \nL 4128 4666 \nL 4128 1753 \nQ 4128 841 3676 375 \nQ 3225 -91 2344 -91 \nQ 1459 -91 1007 375 \nQ 556 841 556 1753 \nL 556 4666 \nz\n\" id=\"DejaVuSans-55\" transform=\"scale(0.015625)\"/>\n      <path id=\"DejaVuSans-20\" transform=\"scale(0.015625)\"/>\n      <path d=\"M 628 4666 \nL 3309 4666 \nL 3309 4134 \nL 1259 4134 \nL 1259 2759 \nL 3109 2759 \nL 3109 2228 \nL 1259 2228 \nL 1259 0 \nL 628 0 \nL 628 4666 \nz\n\" id=\"DejaVuSans-46\" transform=\"scale(0.015625)\"/>\n      <path d=\"M 544 1381 \nL 544 3500 \nL 1119 3500 \nL 1119 1403 \nQ 1119 906 1312 657 \nQ 1506 409 1894 409 \nQ 2359 409 2629 706 \nQ 2900 1003 2900 1516 \nL 2900 3500 \nL 3475 3500 \nL 3475 0 \nL 2900 0 \nL 2900 538 \nQ 2691 219 2414 64 \nQ 2138 -91 1772 -91 \nQ 1169 -91 856 284 \nQ 544 659 544 1381 \nz\nM 1991 3584 \nL 1991 3584 \nz\n\" id=\"DejaVuSans-75\" transform=\"scale(0.015625)\"/>\n     </defs>\n     <use xlink:href=\"#DejaVuSans-55\"/>\n     <use x=\"73.193359\" xlink:href=\"#DejaVuSans-6e\"/>\n     <use x=\"136.572266\" xlink:href=\"#DejaVuSans-73\"/>\n     <use x=\"188.671875\" xlink:href=\"#DejaVuSans-63\"/>\n     <use x=\"243.652344\" xlink:href=\"#DejaVuSans-61\"/>\n     <use x=\"304.931641\" xlink:href=\"#DejaVuSans-6c\"/>\n     <use x=\"332.714844\" xlink:href=\"#DejaVuSans-65\"/>\n     <use x=\"394.238281\" xlink:href=\"#DejaVuSans-64\"/>\n     <use x=\"457.714844\" xlink:href=\"#DejaVuSans-20\"/>\n     <use x=\"489.501953\" xlink:href=\"#DejaVuSans-46\"/>\n     <use x=\"541.521484\" xlink:href=\"#DejaVuSans-65\"/>\n     <use x=\"603.044922\" xlink:href=\"#DejaVuSans-61\"/>\n     <use x=\"664.324219\" xlink:href=\"#DejaVuSans-74\"/>\n     <use x=\"703.533203\" xlink:href=\"#DejaVuSans-75\"/>\n     <use x=\"766.912109\" xlink:href=\"#DejaVuSans-72\"/>\n     <use x=\"805.775391\" xlink:href=\"#DejaVuSans-65\"/>\n     <use x=\"867.298828\" xlink:href=\"#DejaVuSans-73\"/>\n    </g>\n   </g>\n  </g>\n  <g id=\"axes_2\">\n   <g id=\"patch_7\">\n    <path d=\"M 404.886364 294.118125 \nL 709.25 294.118125 \nL 709.25 22.318125 \nL 404.886364 22.318125 \nz\n\" style=\"fill:#ffffff;\"/>\n   </g>\n   <g id=\"matplotlib.axis_3\">\n    <g id=\"xtick_5\">\n     <g id=\"line2d_43\">\n      <g>\n       <use style=\"stroke:#000000;stroke-width:0.8;\" x=\"442.931818\" xlink:href=\"#m6521271ff4\" y=\"294.118125\"/>\n      </g>\n     </g>\n     <g id=\"text_12\">\n      <!-- displacement -->\n      <g transform=\"translate(409.234943 308.716563)scale(0.1 -0.1)\">\n       <use xlink:href=\"#DejaVuSans-64\"/>\n       <use x=\"63.476562\" xlink:href=\"#DejaVuSans-69\"/>\n       <use x=\"91.259766\" xlink:href=\"#DejaVuSans-73\"/>\n       <use x=\"143.359375\" xlink:href=\"#DejaVuSans-70\"/>\n       <use x=\"206.835938\" xlink:href=\"#DejaVuSans-6c\"/>\n       <use x=\"234.619141\" xlink:href=\"#DejaVuSans-61\"/>\n       <use x=\"295.898438\" xlink:href=\"#DejaVuSans-63\"/>\n       <use x=\"350.878906\" xlink:href=\"#DejaVuSans-65\"/>\n       <use x=\"412.402344\" xlink:href=\"#DejaVuSans-6d\"/>\n       <use x=\"509.814453\" xlink:href=\"#DejaVuSans-65\"/>\n       <use x=\"571.337891\" xlink:href=\"#DejaVuSans-6e\"/>\n       <use x=\"634.716797\" xlink:href=\"#DejaVuSans-74\"/>\n      </g>\n     </g>\n    </g>\n    <g id=\"xtick_6\">\n     <g id=\"line2d_44\">\n      <g>\n       <use style=\"stroke:#000000;stroke-width:0.8;\" x=\"519.022727\" xlink:href=\"#m6521271ff4\" y=\"294.118125\"/>\n      </g>\n     </g>\n     <g id=\"text_13\">\n      <!-- horsepower -->\n      <g transform=\"translate(489.603196 308.716563)scale(0.1 -0.1)\">\n       <use xlink:href=\"#DejaVuSans-68\"/>\n       <use x=\"63.378906\" xlink:href=\"#DejaVuSans-6f\"/>\n       <use x=\"124.560547\" xlink:href=\"#DejaVuSans-72\"/>\n       <use x=\"165.673828\" xlink:href=\"#DejaVuSans-73\"/>\n       <use x=\"217.773438\" xlink:href=\"#DejaVuSans-65\"/>\n       <use x=\"279.296875\" xlink:href=\"#DejaVuSans-70\"/>\n       <use x=\"342.773438\" xlink:href=\"#DejaVuSans-6f\"/>\n       <use x=\"403.955078\" xlink:href=\"#DejaVuSans-77\"/>\n       <use x=\"485.742188\" xlink:href=\"#DejaVuSans-65\"/>\n       <use x=\"547.265625\" xlink:href=\"#DejaVuSans-72\"/>\n      </g>\n     </g>\n    </g>\n    <g id=\"xtick_7\">\n     <g id=\"line2d_45\">\n      <g>\n       <use style=\"stroke:#000000;stroke-width:0.8;\" x=\"595.113636\" xlink:href=\"#m6521271ff4\" y=\"294.118125\"/>\n      </g>\n     </g>\n     <g id=\"text_14\">\n      <!-- weight -->\n      <g transform=\"translate(578.255824 308.716563)scale(0.1 -0.1)\">\n       <use xlink:href=\"#DejaVuSans-77\"/>\n       <use x=\"81.787109\" xlink:href=\"#DejaVuSans-65\"/>\n       <use x=\"143.310547\" xlink:href=\"#DejaVuSans-69\"/>\n       <use x=\"171.09375\" xlink:href=\"#DejaVuSans-67\"/>\n       <use x=\"234.570312\" xlink:href=\"#DejaVuSans-68\"/>\n       <use x=\"297.949219\" xlink:href=\"#DejaVuSans-74\"/>\n      </g>\n     </g>\n    </g>\n    <g id=\"xtick_8\">\n     <g id=\"line2d_46\">\n      <g>\n       <use style=\"stroke:#000000;stroke-width:0.8;\" x=\"671.204545\" xlink:href=\"#m6521271ff4\" y=\"294.118125\"/>\n      </g>\n     </g>\n     <g id=\"text_15\">\n      <!-- acceleration -->\n      <g transform=\"translate(640.402983 308.716563)scale(0.1 -0.1)\">\n       <use xlink:href=\"#DejaVuSans-61\"/>\n       <use x=\"61.279297\" xlink:href=\"#DejaVuSans-63\"/>\n       <use x=\"116.259766\" xlink:href=\"#DejaVuSans-63\"/>\n       <use x=\"171.240234\" xlink:href=\"#DejaVuSans-65\"/>\n       <use x=\"232.763672\" xlink:href=\"#DejaVuSans-6c\"/>\n       <use x=\"260.546875\" xlink:href=\"#DejaVuSans-65\"/>\n       <use x=\"322.070312\" xlink:href=\"#DejaVuSans-72\"/>\n       <use x=\"363.183594\" xlink:href=\"#DejaVuSans-61\"/>\n       <use x=\"424.462891\" xlink:href=\"#DejaVuSans-74\"/>\n       <use x=\"463.671875\" xlink:href=\"#DejaVuSans-69\"/>\n       <use x=\"491.455078\" xlink:href=\"#DejaVuSans-6f\"/>\n       <use x=\"552.636719\" xlink:href=\"#DejaVuSans-6e\"/>\n      </g>\n     </g>\n    </g>\n   </g>\n   <g id=\"matplotlib.axis_4\">\n    <g id=\"ytick_7\">\n     <g id=\"line2d_47\">\n      <g>\n       <use style=\"stroke:#000000;stroke-width:0.8;\" x=\"404.886364\" xlink:href=\"#mfd92a52441\" y=\"253.194397\"/>\n      </g>\n     </g>\n     <g id=\"text_16\">\n      <!-- −2 -->\n      <g transform=\"translate(383.144176 256.993616)scale(0.1 -0.1)\">\n       <defs>\n        <path d=\"M 678 2272 \nL 4684 2272 \nL 4684 1741 \nL 678 1741 \nL 678 2272 \nz\n\" id=\"DejaVuSans-2212\" transform=\"scale(0.015625)\"/>\n       </defs>\n       <use xlink:href=\"#DejaVuSans-2212\"/>\n       <use x=\"83.789062\" xlink:href=\"#DejaVuSans-32\"/>\n      </g>\n     </g>\n    </g>\n    <g id=\"ytick_8\">\n     <g id=\"line2d_48\">\n      <g>\n       <use style=\"stroke:#000000;stroke-width:0.8;\" x=\"404.886364\" xlink:href=\"#mfd92a52441\" y=\"211.767526\"/>\n      </g>\n     </g>\n     <g id=\"text_17\">\n      <!-- −1 -->\n      <g transform=\"translate(383.144176 215.566745)scale(0.1 -0.1)\">\n       <use xlink:href=\"#DejaVuSans-2212\"/>\n       <use x=\"83.789062\" xlink:href=\"#DejaVuSans-31\"/>\n      </g>\n     </g>\n    </g>\n    <g id=\"ytick_9\">\n     <g id=\"line2d_49\">\n      <g>\n       <use style=\"stroke:#000000;stroke-width:0.8;\" x=\"404.886364\" xlink:href=\"#mfd92a52441\" y=\"170.340655\"/>\n      </g>\n     </g>\n     <g id=\"text_18\">\n      <!-- 0 -->\n      <g transform=\"translate(391.523864 174.139874)scale(0.1 -0.1)\">\n       <use xlink:href=\"#DejaVuSans-30\"/>\n      </g>\n     </g>\n    </g>\n    <g id=\"ytick_10\">\n     <g id=\"line2d_50\">\n      <g>\n       <use style=\"stroke:#000000;stroke-width:0.8;\" x=\"404.886364\" xlink:href=\"#mfd92a52441\" y=\"128.913784\"/>\n      </g>\n     </g>\n     <g id=\"text_19\">\n      <!-- 1 -->\n      <g transform=\"translate(391.523864 132.713003)scale(0.1 -0.1)\">\n       <use xlink:href=\"#DejaVuSans-31\"/>\n      </g>\n     </g>\n    </g>\n    <g id=\"ytick_11\">\n     <g id=\"line2d_51\">\n      <g>\n       <use style=\"stroke:#000000;stroke-width:0.8;\" x=\"404.886364\" xlink:href=\"#mfd92a52441\" y=\"87.486913\"/>\n      </g>\n     </g>\n     <g id=\"text_20\">\n      <!-- 2 -->\n      <g transform=\"translate(391.523864 91.286132)scale(0.1 -0.1)\">\n       <use xlink:href=\"#DejaVuSans-32\"/>\n      </g>\n     </g>\n    </g>\n    <g id=\"ytick_12\">\n     <g id=\"line2d_52\">\n      <g>\n       <use style=\"stroke:#000000;stroke-width:0.8;\" x=\"404.886364\" xlink:href=\"#mfd92a52441\" y=\"46.060042\"/>\n      </g>\n     </g>\n     <g id=\"text_21\">\n      <!-- 3 -->\n      <g transform=\"translate(391.523864 49.85926)scale(0.1 -0.1)\">\n       <use xlink:href=\"#DejaVuSans-33\"/>\n      </g>\n     </g>\n    </g>\n   </g>\n   <g id=\"line2d_53\">\n    <path clip-path=\"url(#p0bb3a0bd2a)\" d=\"M 425.811364 205.789677 \nL 460.052273 205.789677 \nL 460.052273 141.18564 \nL 425.811364 141.18564 \nL 425.811364 205.789677 \n\" style=\"fill:none;stroke:#000000;stroke-linecap:square;\"/>\n   </g>\n   <g id=\"line2d_54\">\n    <path clip-path=\"url(#p0bb3a0bd2a)\" d=\"M 442.931818 205.789677 \nL 442.931818 220.54492 \n\" style=\"fill:none;stroke:#000000;stroke-linecap:square;\"/>\n   </g>\n   <g id=\"line2d_55\">\n    <path clip-path=\"url(#p0bb3a0bd2a)\" d=\"M 442.931818 141.18564 \nL 442.931818 66.213053 \n\" style=\"fill:none;stroke:#000000;stroke-linecap:square;\"/>\n   </g>\n   <g id=\"line2d_56\">\n    <path clip-path=\"url(#p0bb3a0bd2a)\" d=\"M 434.371591 220.54492 \nL 451.492045 220.54492 \n\" style=\"fill:none;stroke:#000000;stroke-linecap:square;\"/>\n   </g>\n   <g id=\"line2d_57\">\n    <path clip-path=\"url(#p0bb3a0bd2a)\" d=\"M 434.371591 66.213053 \nL 451.492045 66.213053 \n\" style=\"fill:none;stroke:#000000;stroke-linecap:square;\"/>\n   </g>\n   <g id=\"line2d_58\"/>\n   <g id=\"line2d_59\">\n    <path clip-path=\"url(#p0bb3a0bd2a)\" d=\"M 501.902273 201.173032 \nL 536.143182 201.173032 \nL 536.143182 148.195644 \nL 501.902273 148.195644 \nL 501.902273 201.173032 \n\" style=\"fill:none;stroke:#000000;stroke-linecap:square;\"/>\n   </g>\n   <g id=\"line2d_60\">\n    <path clip-path=\"url(#p0bb3a0bd2a)\" d=\"M 519.022727 201.173032 \nL 519.022727 233.608167 \n\" style=\"fill:none;stroke:#000000;stroke-linecap:square;\"/>\n   </g>\n   <g id=\"line2d_61\">\n    <path clip-path=\"url(#p0bb3a0bd2a)\" d=\"M 519.022727 148.195644 \nL 519.022727 69.270148 \n\" style=\"fill:none;stroke:#000000;stroke-linecap:square;\"/>\n   </g>\n   <g id=\"line2d_62\">\n    <path clip-path=\"url(#p0bb3a0bd2a)\" d=\"M 510.4625 233.608167 \nL 527.582955 233.608167 \n\" style=\"fill:none;stroke:#000000;stroke-linecap:square;\"/>\n   </g>\n   <g id=\"line2d_63\">\n    <path clip-path=\"url(#p0bb3a0bd2a)\" d=\"M 510.4625 69.270148 \nL 527.582955 69.270148 \n\" style=\"fill:none;stroke:#000000;stroke-linecap:square;\"/>\n   </g>\n   <g id=\"line2d_64\">\n    <g clip-path=\"url(#p0bb3a0bd2a)\">\n     <use style=\"fill-opacity:0;stroke:#000000;\" x=\"519.022727\" xlink:href=\"#mfda524e539\" y=\"40.078526\"/>\n     <use style=\"fill-opacity:0;stroke:#000000;\" x=\"519.022727\" xlink:href=\"#mfda524e539\" y=\"45.484382\"/>\n     <use style=\"fill-opacity:0;stroke:#000000;\" x=\"519.022727\" xlink:href=\"#mfda524e539\" y=\"34.67267\"/>\n     <use style=\"fill-opacity:0;stroke:#000000;\" x=\"519.022727\" xlink:href=\"#mfda524e539\" y=\"67.107806\"/>\n     <use style=\"fill-opacity:0;stroke:#000000;\" x=\"519.022727\" xlink:href=\"#mfda524e539\" y=\"50.890238\"/>\n     <use style=\"fill-opacity:0;stroke:#000000;\" x=\"519.022727\" xlink:href=\"#mfda524e539\" y=\"58.458436\"/>\n     <use style=\"fill-opacity:0;stroke:#000000;\" x=\"519.022727\" xlink:href=\"#mfda524e539\" y=\"40.078526\"/>\n     <use style=\"fill-opacity:0;stroke:#000000;\" x=\"519.022727\" xlink:href=\"#mfda524e539\" y=\"50.890238\"/>\n     <use style=\"fill-opacity:0;stroke:#000000;\" x=\"519.022727\" xlink:href=\"#mfda524e539\" y=\"56.296094\"/>\n    </g>\n   </g>\n   <g id=\"line2d_65\">\n    <path clip-path=\"url(#p0bb3a0bd2a)\" d=\"M 577.993182 207.396352 \nL 612.234091 207.396352 \nL 612.234091 138.712516 \nL 577.993182 138.712516 \nL 577.993182 207.396352 \n\" style=\"fill:none;stroke:#000000;stroke-linecap:square;\"/>\n   </g>\n   <g id=\"line2d_66\">\n    <path clip-path=\"url(#p0bb3a0bd2a)\" d=\"M 595.113636 207.396352 \nL 595.113636 237.341723 \n\" style=\"fill:none;stroke:#000000;stroke-linecap:square;\"/>\n   </g>\n   <g id=\"line2d_67\">\n    <path clip-path=\"url(#p0bb3a0bd2a)\" d=\"M 595.113636 138.712516 \nL 595.113636 65.045927 \n\" style=\"fill:none;stroke:#000000;stroke-linecap:square;\"/>\n   </g>\n   <g id=\"line2d_68\">\n    <path clip-path=\"url(#p0bb3a0bd2a)\" d=\"M 586.553409 237.341723 \nL 603.673864 237.341723 \n\" style=\"fill:none;stroke:#000000;stroke-linecap:square;\"/>\n   </g>\n   <g id=\"line2d_69\">\n    <path clip-path=\"url(#p0bb3a0bd2a)\" d=\"M 586.553409 65.045927 \nL 603.673864 65.045927 \n\" style=\"fill:none;stroke:#000000;stroke-linecap:square;\"/>\n   </g>\n   <g id=\"line2d_70\"/>\n   <g id=\"line2d_71\">\n    <path clip-path=\"url(#p0bb3a0bd2a)\" d=\"M 654.084091 198.161241 \nL 688.325 198.161241 \nL 688.325 146.826472 \nL 654.084091 146.826472 \nL 654.084091 198.161241 \n\" style=\"fill:none;stroke:#000000;stroke-linecap:square;\"/>\n   </g>\n   <g id=\"line2d_72\">\n    <path clip-path=\"url(#p0bb3a0bd2a)\" d=\"M 671.204545 198.161241 \nL 671.204545 274.430041 \n\" style=\"fill:none;stroke:#000000;stroke-linecap:square;\"/>\n   </g>\n   <g id=\"line2d_73\">\n    <path clip-path=\"url(#p0bb3a0bd2a)\" d=\"M 671.204545 146.826472 \nL 671.204545 73.491088 \n\" style=\"fill:none;stroke:#000000;stroke-linecap:square;\"/>\n   </g>\n   <g id=\"line2d_74\">\n    <path clip-path=\"url(#p0bb3a0bd2a)\" d=\"M 662.644318 274.430041 \nL 679.764773 274.430041 \n\" style=\"fill:none;stroke:#000000;stroke-linecap:square;\"/>\n   </g>\n   <g id=\"line2d_75\">\n    <path clip-path=\"url(#p0bb3a0bd2a)\" d=\"M 662.644318 73.491088 \nL 679.764773 73.491088 \n\" style=\"fill:none;stroke:#000000;stroke-linecap:square;\"/>\n   </g>\n   <g id=\"line2d_76\">\n    <g clip-path=\"url(#p0bb3a0bd2a)\">\n     <use style=\"fill-opacity:0;stroke:#000000;\" x=\"671.204545\" xlink:href=\"#mfda524e539\" y=\"281.76358\"/>\n     <use style=\"fill-opacity:0;stroke:#000000;\" x=\"671.204545\" xlink:href=\"#mfda524e539\" y=\"54.423888\"/>\n     <use style=\"fill-opacity:0;stroke:#000000;\" x=\"671.204545\" xlink:href=\"#mfda524e539\" y=\"35.356688\"/>\n     <use style=\"fill-opacity:0;stroke:#000000;\" x=\"671.204545\" xlink:href=\"#mfda524e539\" y=\"51.490472\"/>\n     <use style=\"fill-opacity:0;stroke:#000000;\" x=\"671.204545\" xlink:href=\"#mfda524e539\" y=\"38.290103\"/>\n    </g>\n   </g>\n   <g id=\"line2d_77\">\n    <path clip-path=\"url(#p0bb3a0bd2a)\" d=\"M 425.811364 189.439273 \nL 460.052273 189.439273 \n\" style=\"fill:none;stroke:#ff7f0e;stroke-linecap:square;\"/>\n   </g>\n   <g id=\"line2d_78\">\n    <g clip-path=\"url(#p0bb3a0bd2a)\">\n     <use style=\"fill:#2ca02c;stroke:#2ca02c;stroke-linejoin:miter;\" x=\"442.931818\" xlink:href=\"#md94aa5cca5\" y=\"170.340655\"/>\n    </g>\n   </g>\n   <g id=\"line2d_79\">\n    <path clip-path=\"url(#p0bb3a0bd2a)\" d=\"M 501.902273 180.630779 \nL 536.143182 180.630779 \n\" style=\"fill:none;stroke:#ff7f0e;stroke-linecap:square;\"/>\n   </g>\n   <g id=\"line2d_80\">\n    <g clip-path=\"url(#p0bb3a0bd2a)\">\n     <use style=\"fill:#2ca02c;stroke:#2ca02c;stroke-linejoin:miter;\" x=\"519.022727\" xlink:href=\"#md94aa5cca5\" y=\"170.340655\"/>\n    </g>\n   </g>\n   <g id=\"line2d_81\">\n    <path clip-path=\"url(#p0bb3a0bd2a)\" d=\"M 577.993182 179.014198 \nL 612.234091 179.014198 \n\" style=\"fill:none;stroke:#ff7f0e;stroke-linecap:square;\"/>\n   </g>\n   <g id=\"line2d_82\">\n    <g clip-path=\"url(#p0bb3a0bd2a)\">\n     <use style=\"fill:#2ca02c;stroke:#2ca02c;stroke-linejoin:miter;\" x=\"595.113636\" xlink:href=\"#md94aa5cca5\" y=\"170.340655\"/>\n    </g>\n   </g>\n   <g id=\"line2d_83\">\n    <path clip-path=\"url(#p0bb3a0bd2a)\" d=\"M 654.084091 171.760503 \nL 688.325 171.760503 \n\" style=\"fill:none;stroke:#ff7f0e;stroke-linecap:square;\"/>\n   </g>\n   <g id=\"line2d_84\">\n    <g clip-path=\"url(#p0bb3a0bd2a)\">\n     <use style=\"fill:#2ca02c;stroke:#2ca02c;stroke-linejoin:miter;\" x=\"671.204545\" xlink:href=\"#md94aa5cca5\" y=\"170.340655\"/>\n    </g>\n   </g>\n   <g id=\"patch_8\">\n    <path d=\"M 404.886364 294.118125 \nL 404.886364 22.318125 \n\" style=\"fill:none;stroke:#000000;stroke-linecap:square;stroke-linejoin:miter;stroke-width:0.8;\"/>\n   </g>\n   <g id=\"patch_9\">\n    <path d=\"M 709.25 294.118125 \nL 709.25 22.318125 \n\" style=\"fill:none;stroke:#000000;stroke-linecap:square;stroke-linejoin:miter;stroke-width:0.8;\"/>\n   </g>\n   <g id=\"patch_10\">\n    <path d=\"M 404.886364 294.118125 \nL 709.25 294.118125 \n\" style=\"fill:none;stroke:#000000;stroke-linecap:square;stroke-linejoin:miter;stroke-width:0.8;\"/>\n   </g>\n   <g id=\"patch_11\">\n    <path d=\"M 404.886364 22.318125 \nL 709.25 22.318125 \n\" style=\"fill:none;stroke:#000000;stroke-linecap:square;stroke-linejoin:miter;stroke-width:0.8;\"/>\n   </g>\n   <g id=\"text_22\">\n    <!-- Scaled features -->\n    <g transform=\"translate(510.423807 16.318125)scale(0.12 -0.12)\">\n     <defs>\n      <path d=\"M 3425 4513 \nL 3425 3897 \nQ 3066 4069 2747 4153 \nQ 2428 4238 2131 4238 \nQ 1616 4238 1336 4038 \nQ 1056 3838 1056 3469 \nQ 1056 3159 1242 3001 \nQ 1428 2844 1947 2747 \nL 2328 2669 \nQ 3034 2534 3370 2195 \nQ 3706 1856 3706 1288 \nQ 3706 609 3251 259 \nQ 2797 -91 1919 -91 \nQ 1588 -91 1214 -16 \nQ 841 59 441 206 \nL 441 856 \nQ 825 641 1194 531 \nQ 1563 422 1919 422 \nQ 2459 422 2753 634 \nQ 3047 847 3047 1241 \nQ 3047 1584 2836 1778 \nQ 2625 1972 2144 2069 \nL 1759 2144 \nQ 1053 2284 737 2584 \nQ 422 2884 422 3419 \nQ 422 4038 858 4394 \nQ 1294 4750 2059 4750 \nQ 2388 4750 2728 4690 \nQ 3069 4631 3425 4513 \nz\n\" id=\"DejaVuSans-53\" transform=\"scale(0.015625)\"/>\n      <path d=\"M 2375 4863 \nL 2375 4384 \nL 1825 4384 \nQ 1516 4384 1395 4259 \nQ 1275 4134 1275 3809 \nL 1275 3500 \nL 2222 3500 \nL 2222 3053 \nL 1275 3053 \nL 1275 0 \nL 697 0 \nL 697 3053 \nL 147 3053 \nL 147 3500 \nL 697 3500 \nL 697 3744 \nQ 697 4328 969 4595 \nQ 1241 4863 1831 4863 \nL 2375 4863 \nz\n\" id=\"DejaVuSans-66\" transform=\"scale(0.015625)\"/>\n     </defs>\n     <use xlink:href=\"#DejaVuSans-53\"/>\n     <use x=\"63.476562\" xlink:href=\"#DejaVuSans-63\"/>\n     <use x=\"118.457031\" xlink:href=\"#DejaVuSans-61\"/>\n     <use x=\"179.736328\" xlink:href=\"#DejaVuSans-6c\"/>\n     <use x=\"207.519531\" xlink:href=\"#DejaVuSans-65\"/>\n     <use x=\"269.042969\" xlink:href=\"#DejaVuSans-64\"/>\n     <use x=\"332.519531\" xlink:href=\"#DejaVuSans-20\"/>\n     <use x=\"364.306641\" xlink:href=\"#DejaVuSans-66\"/>\n     <use x=\"399.511719\" xlink:href=\"#DejaVuSans-65\"/>\n     <use x=\"461.035156\" xlink:href=\"#DejaVuSans-61\"/>\n     <use x=\"522.314453\" xlink:href=\"#DejaVuSans-74\"/>\n     <use x=\"561.523438\" xlink:href=\"#DejaVuSans-75\"/>\n     <use x=\"624.902344\" xlink:href=\"#DejaVuSans-72\"/>\n     <use x=\"663.765625\" xlink:href=\"#DejaVuSans-65\"/>\n     <use x=\"725.289062\" xlink:href=\"#DejaVuSans-73\"/>\n    </g>\n   </g>\n  </g>\n </g>\n <defs>\n  <clipPath id=\"p40eb54e74d\">\n   <rect height=\"271.8\" width=\"304.363636\" x=\"39.65\" y=\"22.318125\"/>\n  </clipPath>\n  <clipPath id=\"p0bb3a0bd2a\">\n   <rect height=\"271.8\" width=\"304.363636\" x=\"404.886364\" y=\"22.318125\"/>\n  </clipPath>\n </defs>\n</svg>\n",
      "image/png": "[encoded data removed]"
     },
     "metadata": {
      "needs_background": "light"
     }
    }
   ],
   "source": [
    "# compare boxplots of data\n",
    "fig, axs = plt.subplots(nrows=1, ncols=2, figsize=(12,5))\n",
    "\n",
    "# Unscaled\n",
    "axs[0].boxplot(X_train, labels=['displacement', 'horsepower', 'weight', 'acceleration'], showmeans=True,)\n",
    "axs[0].set_title('Unscaled Features')\n",
    "\n",
    "# Scaled\n",
    "axs[1].boxplot(df, labels=['displacement', 'horsepower', 'weight', 'acceleration'], showmeans=True,)\n",
    "axs[1].set_title('Scaled features')\n",
    "\n",
    "plt.show()"
   ]
  },
  {
   "source": [
    "After standardisati0n, features are now distributed within the same range and have the same mean, so they exert a similar influence when used in learning models.\n",
    "\n",
    "Now let's train a new model with the scaled data:"
   ],
   "cell_type": "markdown",
   "metadata": {}
  },
  {
   "cell_type": "code",
   "execution_count": 34,
   "metadata": {},
   "outputs": [
    {
     "output_type": "stream",
     "name": "stdout",
     "text": [
      "RMSE metrics: 5.026357848273459\nR2 metrics: 0.6334075027239534\n"
     ]
    }
   ],
   "source": [
    "# Train model with unscaled features\n",
    "# We also disable sklearn's default normalization here\n",
    "model2 = LinearRegression(normalize=False)\n",
    "model2.fit(X_train2_scaled,y_train2)\n",
    "\n",
    "# Evaluate using test_set\n",
    "y_hat2 = model2.predict(X_test2_scaled)\n",
    "\n",
    "# Calculate metrics\n",
    "rmse_2 = np.sqrt(mean_squared_error(y_test,y_hat2))\n",
    "r2_2 = r2_score(y_test2,y_hat2)\n",
    "\n",
    "\n",
    "# Get metrics for new model for comparison\n",
    "print(f\"RMSE metrics: {rmse_2}\")\n",
    "print(f\"R2 metrics: {r2_2}\")"
   ]
  },
  {
   "source": [
    "## Model Comparison"
   ],
   "cell_type": "markdown",
   "metadata": {}
  },
  {
   "source": [
    "# # Use a dataframe to create a comparison table of metrics\n",
    "l = [[\"Without Feature Scaling\", rmse, r2],\n",
    "    [\"With Feature Scaling\", rmse_2, r2_2]]\n",
    "\n",
    "pd.DataFrame(l, columns=[\"\", \"RMSE\", \"R2\"])"
   ],
   "cell_type": "code",
   "metadata": {},
   "execution_count": 35,
   "outputs": [
    {
     "output_type": "execute_result",
     "data": {
      "text/plain": [
       "                                RMSE        R2\n",
       "0  Without Feature Scaling  5.026358  0.633408\n",
       "1     With Feature Scaling  5.026358  0.633408"
      ],
      "text/html": "<div>\n<style scoped>\n    .dataframe tbody tr th:only-of-type {\n        vertical-align: middle;\n    }\n\n    .dataframe tbody tr th {\n        vertical-align: top;\n    }\n\n    .dataframe thead th {\n        text-align: right;\n    }\n</style>\n<table border=\"1\" class=\"dataframe\">\n  <thead>\n    <tr style=\"text-align: right;\">\n      <th></th>\n      <th></th>\n      <th>RMSE</th>\n      <th>R2</th>\n    </tr>\n  </thead>\n  <tbody>\n    <tr>\n      <th>0</th>\n      <td>Without Feature Scaling</td>\n      <td>5.026358</td>\n      <td>0.633408</td>\n    </tr>\n    <tr>\n      <th>1</th>\n      <td>With Feature Scaling</td>\n      <td>5.026358</td>\n      <td>0.633408</td>\n    </tr>\n  </tbody>\n</table>\n</div>"
     },
     "metadata": {},
     "execution_count": 35
    }
   ]
  },
  {
   "source": [
    "Scaling data did not seem to improve the performance of the second model, as both models have equal values for `RMSE` and `R2` metrics (it **might** have converged a bit faster, though).\n",
    "\n",
    "This means only that our choice of algorithm doesn't particularly benefit from it, but it still could be beneficial in other regression problems and datasets.\n",
    "\n",
    "As stated in the introduction, scaling is much more relavant when using other algorithms, such as KNN, K-Means and SVM, so we encourage you to understand the concept and how to apply it."
   ],
   "cell_type": "markdown",
   "metadata": {}
  },
  {
   "source": [
    "\n",
    "\n",
    "## Summary\n",
    "\n",
    "In this unit we presented the concept of *Feature Scaling* and how it can be beneficial in models that have features expressed in different units and ranges.\n",
    "\n",
    "You were shown how to apply *Standardisation* (one method to scale data) to your training and test matrices and how to visualize its results by using `boxplots`.\n",
    "\n",
    "Finally, you learned how to compare unscaled and scaled models and decide if this technique is useful to your particular problem."
   ],
   "cell_type": "markdown",
   "metadata": {}
  }
 ]
}