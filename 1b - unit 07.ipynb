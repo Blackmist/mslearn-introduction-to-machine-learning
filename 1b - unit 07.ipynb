{
 "metadata": {
  "language_info": {
   "codemirror_mode": {
    "name": "ipython",
    "version": 3
   },
   "file_extension": ".py",
   "mimetype": "text/x-python",
   "name": "python",
   "nbconvert_exporter": "python",
   "pygments_lexer": "ipython3",
   "version": "3.8.5"
  },
  "orig_nbformat": 2,
  "kernelspec": {
   "name": "python385jvsc74a57bd05fd7d2d989b956829c9ad45cc6f2d78f0054d35d23dba8942e8fbd9b2870e6f3",
   "display_name": "Python 3.8.5 64-bit ('venv')"
  },
  "metadata": {
   "interpreter": {
    "hash": "5fd7d2d989b956829c9ad45cc6f2d78f0054d35d23dba8942e8fbd9b2870e6f3"
   }
  }
 },
 "nbformat": 4,
 "nbformat_minor": 2,
 "cells": [
  {
   "source": [
    "# Exercise: Feature Scaling\n",
    "\n",
    "Definition and exercise content.\n",
    "\n",
    "REFS: https://www.baeldung.com/cs/normalization-vs-standardization\n",
    "\n",
    "https://scikit-learn.org/stable/modules/preprocessing.html#standardization-or-mean-removal-and-variance-scaling\n",
    "\n",
    "\n",
    "https://stats.stackexchange.com/questions/324369/feature-scaling-giving-reduced-output-linear-regression-using-gradient-descent\n",
    "\n",
    "\n",
    "## Preparing data\n",
    "......\n",
    "\n"
   ],
   "cell_type": "markdown",
   "metadata": {}
  },
  {
   "cell_type": "code",
   "execution_count": 36,
   "metadata": {},
   "outputs": [
    {
     "output_type": "stream",
     "name": "stdout",
     "text": [
      "    mpg  cylinders  displacement  horsepower  weight  acceleration  \\\n0  27.0          4          97.0          88    2130          14.5   \n1  26.0          4         121.0         113    2234          12.5   \n2  26.0          4          97.0          46    1835          20.5   \n3  25.0          4         110.0          87    2672          17.5   \n4  25.0          4         104.0          95    2375          17.5   \n\n   model year  origin                      car name  \n0          70       3                  datsun pl510  \n1          70       2                      bmw 2002  \n2          70       2  volkswagen 1131 deluxe sedan  \n3          70       2                   peugeot 504  \n4          70       2                      saab 99e  \n"
     ]
    }
   ],
   "source": [
    "# Import everything we will need for this unit\n",
    "import pandas as pd\n",
    "import numpy as np\n",
    "import operator\n",
    "import matplotlib.pyplot as plt\n",
    "import matplotlib.patches as mpatches\n",
    "\n",
    "from sklearn.linear_model import LinearRegression\n",
    "from sklearn.model_selection import train_test_split\n",
    "from sklearn.metrics import mean_squared_error, r2_score\n",
    "from sklearn.preprocessing import StandardScaler\n",
    "# from sklearn.pipeline import make_pipeline\n",
    "\n",
    "# Load data from our dataset file into a pandas dataframe\n",
    "dataset = pd.read_csv('Data/auto-mpg-cleaned.csv')\n",
    "\n",
    "# Check what's in the dataset\n",
    "print(dataset.head())\n",
    "\n"
   ]
  },
  {
   "source": [
    "Explain dataset, \n",
    "\n",
    "why features need scaling\n",
    "\n",
    "train unscaled model"
   ],
   "cell_type": "markdown",
   "metadata": {}
  },
  {
   "cell_type": "code",
   "execution_count": 37,
   "metadata": {
    "tags": []
   },
   "outputs": [
    {
     "output_type": "execute_result",
     "data": {
      "text/plain": [
       "       displacement  horsepower       weight  acceleration\n",
       "count    313.000000  313.000000   313.000000    313.000000\n",
       "mean     193.891374  104.517572  2984.552716     15.596805\n",
       "std      104.047670   38.378018   849.391248      2.829003\n",
       "min       68.000000   46.000000  1613.000000      8.000000\n",
       "25%      105.000000   76.000000  2226.000000     13.700000\n",
       "50%      146.000000   95.000000  2807.000000     15.500000\n",
       "75%      267.000000  125.000000  3632.000000     17.200000\n",
       "max      455.000000  230.000000  5140.000000     24.800000"
      ],
      "text/html": "<div>\n<style scoped>\n    .dataframe tbody tr th:only-of-type {\n        vertical-align: middle;\n    }\n\n    .dataframe tbody tr th {\n        vertical-align: top;\n    }\n\n    .dataframe thead th {\n        text-align: right;\n    }\n</style>\n<table border=\"1\" class=\"dataframe\">\n  <thead>\n    <tr style=\"text-align: right;\">\n      <th></th>\n      <th>displacement</th>\n      <th>horsepower</th>\n      <th>weight</th>\n      <th>acceleration</th>\n    </tr>\n  </thead>\n  <tbody>\n    <tr>\n      <th>count</th>\n      <td>313.000000</td>\n      <td>313.000000</td>\n      <td>313.000000</td>\n      <td>313.000000</td>\n    </tr>\n    <tr>\n      <th>mean</th>\n      <td>193.891374</td>\n      <td>104.517572</td>\n      <td>2984.552716</td>\n      <td>15.596805</td>\n    </tr>\n    <tr>\n      <th>std</th>\n      <td>104.047670</td>\n      <td>38.378018</td>\n      <td>849.391248</td>\n      <td>2.829003</td>\n    </tr>\n    <tr>\n      <th>min</th>\n      <td>68.000000</td>\n      <td>46.000000</td>\n      <td>1613.000000</td>\n      <td>8.000000</td>\n    </tr>\n    <tr>\n      <th>25%</th>\n      <td>105.000000</td>\n      <td>76.000000</td>\n      <td>2226.000000</td>\n      <td>13.700000</td>\n    </tr>\n    <tr>\n      <th>50%</th>\n      <td>146.000000</td>\n      <td>95.000000</td>\n      <td>2807.000000</td>\n      <td>15.500000</td>\n    </tr>\n    <tr>\n      <th>75%</th>\n      <td>267.000000</td>\n      <td>125.000000</td>\n      <td>3632.000000</td>\n      <td>17.200000</td>\n    </tr>\n    <tr>\n      <th>max</th>\n      <td>455.000000</td>\n      <td>230.000000</td>\n      <td>5140.000000</td>\n      <td>24.800000</td>\n    </tr>\n  </tbody>\n</table>\n</div>"
     },
     "metadata": {},
     "execution_count": 37
    }
   ],
   "source": [
    "# Select only numerical features for training and testing\n",
    "# Convert both X and y to numpy arrays for processing\n",
    "X = dataset[['displacement', 'horsepower', 'weight', 'acceleration']]\n",
    "y = dataset['mpg'].to_numpy()\n",
    "\n",
    "# Split test and Train sets\n",
    "X_train, X_test, y_train, y_test = train_test_split(X,y, test_size=0.2, random_state=0)\n",
    "\n",
    "X_train.describe()\n",
    "\n"
   ]
  },
  {
   "cell_type": "code",
   "execution_count": 38,
   "metadata": {},
   "outputs": [
    {
     "output_type": "stream",
     "name": "stdout",
     "text": [
      "RMSE metrics: 6.252185905467142\nR2 metrics: 0.4327943749210519\n"
     ]
    }
   ],
   "source": [
    "# Train model with unscaled features\n",
    "# We have to set normalize and fit_transform to False\n",
    "# to disable automatic scaling\n",
    "model = LinearRegression(normalize=False, fit_intercept=False)\n",
    "model.fit(X_train,y_train)\n",
    "\n",
    "# Evaluate using test_set\n",
    "y_hat = model.predict(X_test)\n",
    "\n",
    "# Calculate metrics\n",
    "rmse = np.sqrt(mean_squared_error(y_test,y_hat))\n",
    "r2 = r2_score(y_test,y_hat)\n",
    "\n",
    "print(f\"RMSE metrics: {rmse}\")\n",
    "print(f\"R2 metrics: {r2}\")\n"
   ]
  },
  {
   "source": [
    "Show how to scale features, train new  model"
   ],
   "cell_type": "markdown",
   "metadata": {}
  },
  {
   "cell_type": "code",
   "execution_count": 39,
   "metadata": {
    "tags": []
   },
   "outputs": [
    {
     "output_type": "execute_result",
     "data": {
      "text/plain": [
       "       displacement    horsepower        weight  acceleration\n",
       "count  3.130000e+02  3.130000e+02  3.130000e+02  3.130000e+02\n",
       "mean   6.242788e-17  7.377840e-17  1.362063e-16 -3.859178e-16\n",
       "std    1.001601e+00  1.001601e+00  1.001601e+00  1.001601e+00\n",
       "min   -1.211877e+00 -1.527210e+00 -1.617334e+00 -2.689629e+00\n",
       "25%   -8.557012e-01 -7.442603e-01 -8.944846e-01 -6.715590e-01\n",
       "50%   -4.610200e-01 -2.483925e-01 -2.093700e-01 -3.427360e-02\n",
       "75%    7.037706e-01  5.345567e-01  7.634692e-01  5.676070e-01\n",
       "max    2.513528e+00  3.274879e+00  2.541701e+00  3.258367e+00"
      ],
      "text/html": "<div>\n<style scoped>\n    .dataframe tbody tr th:only-of-type {\n        vertical-align: middle;\n    }\n\n    .dataframe tbody tr th {\n        vertical-align: top;\n    }\n\n    .dataframe thead th {\n        text-align: right;\n    }\n</style>\n<table border=\"1\" class=\"dataframe\">\n  <thead>\n    <tr style=\"text-align: right;\">\n      <th></th>\n      <th>displacement</th>\n      <th>horsepower</th>\n      <th>weight</th>\n      <th>acceleration</th>\n    </tr>\n  </thead>\n  <tbody>\n    <tr>\n      <th>count</th>\n      <td>3.130000e+02</td>\n      <td>3.130000e+02</td>\n      <td>3.130000e+02</td>\n      <td>3.130000e+02</td>\n    </tr>\n    <tr>\n      <th>mean</th>\n      <td>6.242788e-17</td>\n      <td>7.377840e-17</td>\n      <td>1.362063e-16</td>\n      <td>-3.859178e-16</td>\n    </tr>\n    <tr>\n      <th>std</th>\n      <td>1.001601e+00</td>\n      <td>1.001601e+00</td>\n      <td>1.001601e+00</td>\n      <td>1.001601e+00</td>\n    </tr>\n    <tr>\n      <th>min</th>\n      <td>-1.211877e+00</td>\n      <td>-1.527210e+00</td>\n      <td>-1.617334e+00</td>\n      <td>-2.689629e+00</td>\n    </tr>\n    <tr>\n      <th>25%</th>\n      <td>-8.557012e-01</td>\n      <td>-7.442603e-01</td>\n      <td>-8.944846e-01</td>\n      <td>-6.715590e-01</td>\n    </tr>\n    <tr>\n      <th>50%</th>\n      <td>-4.610200e-01</td>\n      <td>-2.483925e-01</td>\n      <td>-2.093700e-01</td>\n      <td>-3.427360e-02</td>\n    </tr>\n    <tr>\n      <th>75%</th>\n      <td>7.037706e-01</td>\n      <td>5.345567e-01</td>\n      <td>7.634692e-01</td>\n      <td>5.676070e-01</td>\n    </tr>\n    <tr>\n      <th>max</th>\n      <td>2.513528e+00</td>\n      <td>3.274879e+00</td>\n      <td>2.541701e+00</td>\n      <td>3.258367e+00</td>\n    </tr>\n  </tbody>\n</table>\n</div>"
     },
     "metadata": {},
     "execution_count": 39
    }
   ],
   "source": [
    "\n",
    "# Split test and Train sets\n",
    "X_train2, X_test2, y_train2, y_test2 = train_test_split(X, y, test_size=0.2, random_state=0)\n",
    "\n",
    "scaler = StandardScaler()\n",
    "norm = scaler.fit(X_train2)\n",
    "X_train2_norm = scaler.transform(X_train2)\n",
    "X_test2_norm = scaler.transform(X_test2)\n",
    "\n",
    "\n",
    "df = pd.DataFrame(data=X_train2_norm, index=None, columns=['displacement', 'horsepower', 'weight', 'acceleration'])\n",
    "df.describe()\n",
    "\n"
   ]
  },
  {
   "cell_type": "code",
   "execution_count": null,
   "metadata": {},
   "outputs": [],
   "source": []
  },
  {
   "cell_type": "code",
   "execution_count": 40,
   "metadata": {},
   "outputs": [
    {
     "output_type": "stream",
     "name": "stdout",
     "text": [
      "RMSE metrics: 5.026357848273459\nR2 metrics: 0.6334075027239533\n"
     ]
    }
   ],
   "source": [
    "# Train model with unscaled features\n",
    "model2 = LinearRegression(normalize=False)\n",
    "model2.fit(X_train2_norm,y_train2)\n",
    "\n",
    "# Evaluate using test_set\n",
    "y_hat2 = model2.predict(X_test2_norm)\n",
    "\n",
    "# Calculate metrics\n",
    "rmse_2 = np.sqrt(mean_squared_error(y_test,y_hat2))\n",
    "r2_2 = r2_score(y_test2,y_hat2)\n",
    "\n",
    "print(f\"RMSE metrics: {rmse_2}\")\n",
    "print(f\"R2 metrics: {r2_2}\")\n",
    "\n"
   ]
  },
  {
   "source": [
    "# # Use a dataframe to create a comparison table of metrics\n",
    "l = [[\"Without Feature Scaling\", rmse, r2],\n",
    "    [\"With Feature Scaling\", rmse_2, r2_2]]\n",
    "\n",
    "pd.DataFrame(l, columns=[\"\", \"RMSE\", \"R2\"])"
   ],
   "cell_type": "code",
   "metadata": {},
   "execution_count": 43,
   "outputs": [
    {
     "output_type": "execute_result",
     "data": {
      "text/plain": [
       "                                RMSE        R2\n",
       "0  Without Feature Scaling  6.252186  0.432794\n",
       "1     With Feature Scaling  5.026358  0.633408"
      ],
      "text/html": "<div>\n<style scoped>\n    .dataframe tbody tr th:only-of-type {\n        vertical-align: middle;\n    }\n\n    .dataframe tbody tr th {\n        vertical-align: top;\n    }\n\n    .dataframe thead th {\n        text-align: right;\n    }\n</style>\n<table border=\"1\" class=\"dataframe\">\n  <thead>\n    <tr style=\"text-align: right;\">\n      <th></th>\n      <th></th>\n      <th>RMSE</th>\n      <th>R2</th>\n    </tr>\n  </thead>\n  <tbody>\n    <tr>\n      <th>0</th>\n      <td>Without Feature Scaling</td>\n      <td>6.252186</td>\n      <td>0.432794</td>\n    </tr>\n    <tr>\n      <th>1</th>\n      <td>With Feature Scaling</td>\n      <td>5.026358</td>\n      <td>0.633408</td>\n    </tr>\n  </tbody>\n</table>\n</div>"
     },
     "metadata": {},
     "execution_count": 43
    }
   ]
  },
  {
   "source": [
    "Conclusion"
   ],
   "cell_type": "markdown",
   "metadata": {}
  },
  {
   "source": [
    "\n",
    "\n",
    "## Summary\n",
    "\n",
    ".....\n"
   ],
   "cell_type": "markdown",
   "metadata": {}
  }
 ]
}