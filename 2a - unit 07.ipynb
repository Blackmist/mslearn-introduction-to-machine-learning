{
 "cells": [
  {
   "cell_type": "markdown",
   "id": "edd76bd1",
   "metadata": {},
   "source": [
    "# Exercise: Improving a logistic regression model\n",
    "\n",
    "In the previous exercise, we fit a simple logistic regression model to predict the chance of an avalanche. This time, we will improve its performance by using multiple features intelligently.\n",
    "\n",
    "## Data visualisation\n",
    "\n",
    "Let's load our data."
   ]
  },
  {
   "cell_type": "code",
   "execution_count": 12,
   "id": "4eec3f24",
   "metadata": {
    "scrolled": true
   },
   "outputs": [
    {
     "output_type": "stream",
     "name": "stdout",
     "text": [
      "Train size: 821\nTest size: 274\n     avalanche  no_visitors  surface_hoar  fresh_thickness  wind  weak_layers  \\\n176          0            9      5.142447         9.877195     6            8   \n114          1            3      8.170281         9.136835    34            7   \n869          0            3      1.979579         9.497017    10            8   \n775          1            0      1.999078         9.337908    21            6   \n181          1            9      6.854401         6.099359    22            5   \n\n     tracked_out  \n176            1  \n114            0  \n869            0  \n775            0  \n181            0  \n"
     ]
    }
   ],
   "source": [
    "import pandas\n",
    "import graphing # custom graphing code. See our GitHub repo for details\n",
    "\n",
    "#Import the data from the .csv file\n",
    "dataset = pandas.read_csv('Data/avalanche.csv', delimiter=\"\\t\", index_col=0)\n",
    "\n",
    "# Split our data into training and test\n",
    "import sklearn.model_selection\n",
    "train, test = sklearn.model_selection.train_test_split(dataset, test_size=0.25, random_state=10)\n",
    "\n",
    "print(\"Train size:\", train.shape[0])\n",
    "print(\"Test size:\", test.shape[0])\n",
    "\n",
    "#Let's have a look at the data\n",
    "print(train.head())"
   ]
  },
  {
   "source": [
    "We have numerous features available:\n",
    "\n",
    "* `surface_hoar` is how disturbed the surface of the snow is\n",
    "* `fresh_thickness` is how thick the top layer of snow is, or 0 if there is no fresh snow on top\n",
    "* `wind` is the top wind speed that day, in km/h\n",
    "* `weak_layers` is the number of layers of snow that are not well-bound to other layers\n",
    "* `no_visitors` is the number of hikers who were on the trail that day\n",
    "* `tracked_out` is a `1` or `0`. A `1` means that the snow has been trampled heavily by hikers \n",
    "\n",
    "## Simple logistic regression\n",
    "\n",
    "Let's make a simple logistic regression model and assess its performance with accuracy.\n",
    "\n"
   ],
   "cell_type": "markdown",
   "metadata": {}
  },
  {
   "cell_type": "code",
   "execution_count": 13,
   "metadata": {},
   "outputs": [
    {
     "output_type": "stream",
     "name": "stdout",
     "text": [
      "Optimization terminated successfully.\n         Current function value: 0.616312\n         Iterations 5\nAccuracy: 0.6167883211678832\n"
     ]
    }
   ],
   "source": [
    "import sklearn\n",
    "from sklearn.metrics import accuracy_score\n",
    "import statsmodels.formula.api as smf\n",
    "\n",
    "# Perform logistic regression.\n",
    "model = smf.logit(\"avalanche ~ weak_layers\", train).fit()\n",
    "\n",
    "# Calculate accuracy\n",
    "def calculate_accuracy(model):\n",
    "    '''\n",
    "    Calculates accuracy\n",
    "    '''\n",
    "    # Make estimations and convert to categories\n",
    "    avalanche_predicted = model.predict(test) > 0.5\n",
    "\n",
    "    # Calculate what proportion were predicted correctly\n",
    "    # We can use sklearn to calculate accuracy for us\n",
    "    print(\"Accuracy:\", accuracy_score(test.avalanche, avalanche_predicted))\n",
    "\n",
    "calculate_accuracy(model)"
   ]
  },
  {
   "source": [
    "Let's see how we can improve our model\n",
    "\n",
    "## Utilizing multiple features\n",
    "\n",
    "Most of our features seem like they could be useful, least in theory. Let's try a model with all features we have available."
   ],
   "cell_type": "markdown",
   "metadata": {}
  },
  {
   "source": [
    "# Perform logistic regression.\n",
    "model_all_features = smf.logit(\"avalanche ~ weak_layers + surface_hoar + fresh_thickness + wind + no_visitors + tracked_out\", train).fit()\n",
    "calculate_accuracy(model_all_features)"
   ],
   "cell_type": "code",
   "metadata": {},
   "execution_count": 14,
   "outputs": [
    {
     "output_type": "stream",
     "name": "stdout",
     "text": [
      "Optimization terminated successfully.\n         Current function value: 0.459347\n         Iterations 7\nAccuracy: 0.7846715328467153\n"
     ]
    }
   ]
  },
  {
   "source": [
    "That's a big improvement on the simpler model we've been working with. \n",
    "\n",
    "To understand why, we can look at the summary information"
   ],
   "cell_type": "markdown",
   "metadata": {}
  },
  {
   "cell_type": "code",
   "execution_count": 15,
   "metadata": {},
   "outputs": [
    {
     "output_type": "execute_result",
     "data": {
      "text/plain": [
       "<class 'statsmodels.iolib.summary.Summary'>\n",
       "\"\"\"\n",
       "                           Logit Regression Results                           \n",
       "==============================================================================\n",
       "Dep. Variable:              avalanche   No. Observations:                  821\n",
       "Model:                          Logit   Df Residuals:                      814\n",
       "Method:                           MLE   Df Model:                            6\n",
       "Date:                Fri, 18 Jun 2021   Pseudo R-squ.:                  0.3305\n",
       "Time:                        11:11:52   Log-Likelihood:                -377.12\n",
       "converged:                       True   LL-Null:                       -563.33\n",
       "Covariance Type:            nonrobust   LLR p-value:                 2.372e-77\n",
       "===================================================================================\n",
       "                      coef    std err          z      P>|z|      [0.025      0.975]\n",
       "-----------------------------------------------------------------------------------\n",
       "Intercept          -4.0107      0.443     -9.043      0.000      -4.880      -3.141\n",
       "weak_layers         0.3733      0.034     10.871      0.000       0.306       0.441\n",
       "surface_hoar        0.3306      0.035      9.424      0.000       0.262       0.399\n",
       "fresh_thickness    -0.0220      0.030     -0.732      0.464      -0.081       0.037\n",
       "wind                0.1009      0.009     11.149      0.000       0.083       0.119\n",
       "no_visitors        -0.1060      0.032     -3.262      0.001      -0.170      -0.042\n",
       "tracked_out        -0.0664      0.181     -0.367      0.713      -0.420       0.288\n",
       "===================================================================================\n",
       "\"\"\""
      ],
      "text/html": "<table class=\"simpletable\">\n<caption>Logit Regression Results</caption>\n<tr>\n  <th>Dep. Variable:</th>       <td>avalanche</td>    <th>  No. Observations:  </th>  <td>   821</td>  \n</tr>\n<tr>\n  <th>Model:</th>                 <td>Logit</td>      <th>  Df Residuals:      </th>  <td>   814</td>  \n</tr>\n<tr>\n  <th>Method:</th>                 <td>MLE</td>       <th>  Df Model:          </th>  <td>     6</td>  \n</tr>\n<tr>\n  <th>Date:</th>            <td>Fri, 18 Jun 2021</td> <th>  Pseudo R-squ.:     </th>  <td>0.3305</td>  \n</tr>\n<tr>\n  <th>Time:</th>                <td>11:11:52</td>     <th>  Log-Likelihood:    </th> <td> -377.12</td> \n</tr>\n<tr>\n  <th>converged:</th>             <td>True</td>       <th>  LL-Null:           </th> <td> -563.33</td> \n</tr>\n<tr>\n  <th>Covariance Type:</th>     <td>nonrobust</td>    <th>  LLR p-value:       </th> <td>2.372e-77</td>\n</tr>\n</table>\n<table class=\"simpletable\">\n<tr>\n         <td></td>            <th>coef</th>     <th>std err</th>      <th>z</th>      <th>P>|z|</th>  <th>[0.025</th>    <th>0.975]</th>  \n</tr>\n<tr>\n  <th>Intercept</th>       <td>   -4.0107</td> <td>    0.443</td> <td>   -9.043</td> <td> 0.000</td> <td>   -4.880</td> <td>   -3.141</td>\n</tr>\n<tr>\n  <th>weak_layers</th>     <td>    0.3733</td> <td>    0.034</td> <td>   10.871</td> <td> 0.000</td> <td>    0.306</td> <td>    0.441</td>\n</tr>\n<tr>\n  <th>surface_hoar</th>    <td>    0.3306</td> <td>    0.035</td> <td>    9.424</td> <td> 0.000</td> <td>    0.262</td> <td>    0.399</td>\n</tr>\n<tr>\n  <th>fresh_thickness</th> <td>   -0.0220</td> <td>    0.030</td> <td>   -0.732</td> <td> 0.464</td> <td>   -0.081</td> <td>    0.037</td>\n</tr>\n<tr>\n  <th>wind</th>            <td>    0.1009</td> <td>    0.009</td> <td>   11.149</td> <td> 0.000</td> <td>    0.083</td> <td>    0.119</td>\n</tr>\n<tr>\n  <th>no_visitors</th>     <td>   -0.1060</td> <td>    0.032</td> <td>   -3.262</td> <td> 0.001</td> <td>   -0.170</td> <td>   -0.042</td>\n</tr>\n<tr>\n  <th>tracked_out</th>     <td>   -0.0664</td> <td>    0.181</td> <td>   -0.367</td> <td> 0.713</td> <td>   -0.420</td> <td>    0.288</td>\n</tr>\n</table>"
     },
     "metadata": {},
     "execution_count": 15
    }
   ],
   "source": [
    "model_all_features.summary()"
   ]
  },
  {
   "source": [
    "Take a look at the P column, recalling that values less than 0.05 mean we can be confident that this parameter is helping the model make better predictions.\n",
    "\n",
    "Both `surface_hoar` and `wind` have very small values here, meaning they are useful predictors and probably explain why our model is working better. If we look at the `coef` (which states _parameters_) column we see that these have positive values. This means that higher winds, and greater amounts of surface hoar result in higher avalanche risk.\n",
    "\n",
    "## Simplifying our model\n",
    "\n",
    "Looking at the summary again, we can see that `tracked_out` (how trampled the snow is), and `fresh_thickness` have large p-values. This means they are not useful predictors. Let's see what happens if we remove them from our model:"
   ],
   "cell_type": "markdown",
   "metadata": {}
  },
  {
   "cell_type": "code",
   "execution_count": 16,
   "metadata": {},
   "outputs": [
    {
     "output_type": "stream",
     "name": "stdout",
     "text": [
      "Optimization terminated successfully.\n         Current function value: 0.459760\n         Iterations 7\nAccuracy: 0.781021897810219\n"
     ]
    }
   ],
   "source": [
    "# Perform logistic regression.\n",
    "model_simplified = smf.logit(\"avalanche ~ weak_layers + surface_hoar + wind + no_visitors\", train).fit()\n",
    "calculate_accuracy(model_simplified)"
   ]
  },
  {
   "source": [
    "Our new model works very similarly to the old one! In some circumstances simplifying a model like this can even improve it, as it becomes less likely to overfit.\n",
    "\n",
    "## Careful feature selection\n",
    "\n",
    "Usually, we don't just pick features blindly. Let's think about what we've just done - we removed how much fresh snow was in a model, trying to predict avalanches. Something seems off. Surely avalanches are much _more_ likely after it has snowed? Similarly, the number of people on the track seems unrelated to how many avalanches there were, but we know that people often can trigger avalanches.\n",
    "\n",
    "Let's review our earlier model again:"
   ],
   "cell_type": "markdown",
   "metadata": {}
  },
  {
   "source": [
    "model_all_features.summary()"
   ],
   "cell_type": "code",
   "metadata": {},
   "execution_count": 17,
   "outputs": [
    {
     "output_type": "execute_result",
     "data": {
      "text/plain": [
       "<class 'statsmodels.iolib.summary.Summary'>\n",
       "\"\"\"\n",
       "                           Logit Regression Results                           \n",
       "==============================================================================\n",
       "Dep. Variable:              avalanche   No. Observations:                  821\n",
       "Model:                          Logit   Df Residuals:                      814\n",
       "Method:                           MLE   Df Model:                            6\n",
       "Date:                Fri, 18 Jun 2021   Pseudo R-squ.:                  0.3305\n",
       "Time:                        11:11:52   Log-Likelihood:                -377.12\n",
       "converged:                       True   LL-Null:                       -563.33\n",
       "Covariance Type:            nonrobust   LLR p-value:                 2.372e-77\n",
       "===================================================================================\n",
       "                      coef    std err          z      P>|z|      [0.025      0.975]\n",
       "-----------------------------------------------------------------------------------\n",
       "Intercept          -4.0107      0.443     -9.043      0.000      -4.880      -3.141\n",
       "weak_layers         0.3733      0.034     10.871      0.000       0.306       0.441\n",
       "surface_hoar        0.3306      0.035      9.424      0.000       0.262       0.399\n",
       "fresh_thickness    -0.0220      0.030     -0.732      0.464      -0.081       0.037\n",
       "wind                0.1009      0.009     11.149      0.000       0.083       0.119\n",
       "no_visitors        -0.1060      0.032     -3.262      0.001      -0.170      -0.042\n",
       "tracked_out        -0.0664      0.181     -0.367      0.713      -0.420       0.288\n",
       "===================================================================================\n",
       "\"\"\""
      ],
      "text/html": "<table class=\"simpletable\">\n<caption>Logit Regression Results</caption>\n<tr>\n  <th>Dep. Variable:</th>       <td>avalanche</td>    <th>  No. Observations:  </th>  <td>   821</td>  \n</tr>\n<tr>\n  <th>Model:</th>                 <td>Logit</td>      <th>  Df Residuals:      </th>  <td>   814</td>  \n</tr>\n<tr>\n  <th>Method:</th>                 <td>MLE</td>       <th>  Df Model:          </th>  <td>     6</td>  \n</tr>\n<tr>\n  <th>Date:</th>            <td>Fri, 18 Jun 2021</td> <th>  Pseudo R-squ.:     </th>  <td>0.3305</td>  \n</tr>\n<tr>\n  <th>Time:</th>                <td>11:11:52</td>     <th>  Log-Likelihood:    </th> <td> -377.12</td> \n</tr>\n<tr>\n  <th>converged:</th>             <td>True</td>       <th>  LL-Null:           </th> <td> -563.33</td> \n</tr>\n<tr>\n  <th>Covariance Type:</th>     <td>nonrobust</td>    <th>  LLR p-value:       </th> <td>2.372e-77</td>\n</tr>\n</table>\n<table class=\"simpletable\">\n<tr>\n         <td></td>            <th>coef</th>     <th>std err</th>      <th>z</th>      <th>P>|z|</th>  <th>[0.025</th>    <th>0.975]</th>  \n</tr>\n<tr>\n  <th>Intercept</th>       <td>   -4.0107</td> <td>    0.443</td> <td>   -9.043</td> <td> 0.000</td> <td>   -4.880</td> <td>   -3.141</td>\n</tr>\n<tr>\n  <th>weak_layers</th>     <td>    0.3733</td> <td>    0.034</td> <td>   10.871</td> <td> 0.000</td> <td>    0.306</td> <td>    0.441</td>\n</tr>\n<tr>\n  <th>surface_hoar</th>    <td>    0.3306</td> <td>    0.035</td> <td>    9.424</td> <td> 0.000</td> <td>    0.262</td> <td>    0.399</td>\n</tr>\n<tr>\n  <th>fresh_thickness</th> <td>   -0.0220</td> <td>    0.030</td> <td>   -0.732</td> <td> 0.464</td> <td>   -0.081</td> <td>    0.037</td>\n</tr>\n<tr>\n  <th>wind</th>            <td>    0.1009</td> <td>    0.009</td> <td>   11.149</td> <td> 0.000</td> <td>    0.083</td> <td>    0.119</td>\n</tr>\n<tr>\n  <th>no_visitors</th>     <td>   -0.1060</td> <td>    0.032</td> <td>   -3.262</td> <td> 0.001</td> <td>   -0.170</td> <td>   -0.042</td>\n</tr>\n<tr>\n  <th>tracked_out</th>     <td>   -0.0664</td> <td>    0.181</td> <td>   -0.367</td> <td> 0.713</td> <td>   -0.420</td> <td>    0.288</td>\n</tr>\n</table>"
     },
     "metadata": {},
     "execution_count": 17
    }
   ]
  },
  {
   "source": [
    "Look at the `fresh_thickness` row. We're told that it has a negative coefficient. This means that as thickness increases, avalanches decrease.\n",
    "\n",
    "Similarly, `no_visitors` has a negative coefficient, meaning that fewer hikers means more avalanches.\n",
    "\n",
    "How can this bes? Well, while visitors can cause avalanches if there is a lot of fresh snow, presumably they cannot do so easily if there is no fresh snow. This means that our features are not fully independent.\n",
    "\n",
    "We can tell the model to try to take into account that these features interact, using a multiply sign. Let's try that now."
   ],
   "cell_type": "markdown",
   "metadata": {}
  },
  {
   "cell_type": "code",
   "execution_count": 18,
   "metadata": {},
   "outputs": [
    {
     "output_type": "stream",
     "name": "stdout",
     "text": [
      "Optimization terminated successfully.\n         Current function value: 0.413538\n         Iterations 7\nAccuracy: 0.8357664233576643\n"
     ]
    }
   ],
   "source": [
    "# Create a model with an interaction. Notice the end of the string where\n",
    "# we have a multiply sign between no_visitors and fresh_thickness\n",
    "formula = \"avalanche ~ weak_layers + surface_hoar + wind + no_visitors * fresh_thickness\"\n",
    "model_with_interaction = smf.logit(formula, train).fit()\n",
    "calculate_accuracy(model_with_interaction)"
   ]
  },
  {
   "source": [
    "The model has improved to 84% accuracy! Let's look at the summary information:"
   ],
   "cell_type": "markdown",
   "metadata": {}
  },
  {
   "cell_type": "code",
   "execution_count": 19,
   "metadata": {},
   "outputs": [
    {
     "output_type": "execute_result",
     "data": {
      "text/plain": [
       "<class 'statsmodels.iolib.summary.Summary'>\n",
       "\"\"\"\n",
       "                           Logit Regression Results                           \n",
       "==============================================================================\n",
       "Dep. Variable:              avalanche   No. Observations:                  821\n",
       "Model:                          Logit   Df Residuals:                      814\n",
       "Method:                           MLE   Df Model:                            6\n",
       "Date:                Fri, 18 Jun 2021   Pseudo R-squ.:                  0.3973\n",
       "Time:                        11:11:52   Log-Likelihood:                -339.51\n",
       "converged:                       True   LL-Null:                       -563.33\n",
       "Covariance Type:            nonrobust   LLR p-value:                 1.587e-93\n",
       "===============================================================================================\n",
       "                                  coef    std err          z      P>|z|      [0.025      0.975]\n",
       "-----------------------------------------------------------------------------------------------\n",
       "Intercept                      -0.9606      0.587     -1.636      0.102      -2.111       0.190\n",
       "weak_layers                     0.4327      0.039     11.193      0.000       0.357       0.508\n",
       "surface_hoar                    0.3887      0.039     10.035      0.000       0.313       0.465\n",
       "wind                            0.1204      0.010     11.607      0.000       0.100       0.141\n",
       "no_visitors                    -0.9430      0.114     -8.237      0.000      -1.167      -0.719\n",
       "fresh_thickness                -0.4962      0.069     -7.191      0.000      -0.631      -0.361\n",
       "no_visitors:fresh_thickness     0.1015      0.013      7.835      0.000       0.076       0.127\n",
       "===============================================================================================\n",
       "\"\"\""
      ],
      "text/html": "<table class=\"simpletable\">\n<caption>Logit Regression Results</caption>\n<tr>\n  <th>Dep. Variable:</th>       <td>avalanche</td>    <th>  No. Observations:  </th>  <td>   821</td>  \n</tr>\n<tr>\n  <th>Model:</th>                 <td>Logit</td>      <th>  Df Residuals:      </th>  <td>   814</td>  \n</tr>\n<tr>\n  <th>Method:</th>                 <td>MLE</td>       <th>  Df Model:          </th>  <td>     6</td>  \n</tr>\n<tr>\n  <th>Date:</th>            <td>Fri, 18 Jun 2021</td> <th>  Pseudo R-squ.:     </th>  <td>0.3973</td>  \n</tr>\n<tr>\n  <th>Time:</th>                <td>11:11:52</td>     <th>  Log-Likelihood:    </th> <td> -339.51</td> \n</tr>\n<tr>\n  <th>converged:</th>             <td>True</td>       <th>  LL-Null:           </th> <td> -563.33</td> \n</tr>\n<tr>\n  <th>Covariance Type:</th>     <td>nonrobust</td>    <th>  LLR p-value:       </th> <td>1.587e-93</td>\n</tr>\n</table>\n<table class=\"simpletable\">\n<tr>\n               <td></td>                  <th>coef</th>     <th>std err</th>      <th>z</th>      <th>P>|z|</th>  <th>[0.025</th>    <th>0.975]</th>  \n</tr>\n<tr>\n  <th>Intercept</th>                   <td>   -0.9606</td> <td>    0.587</td> <td>   -1.636</td> <td> 0.102</td> <td>   -2.111</td> <td>    0.190</td>\n</tr>\n<tr>\n  <th>weak_layers</th>                 <td>    0.4327</td> <td>    0.039</td> <td>   11.193</td> <td> 0.000</td> <td>    0.357</td> <td>    0.508</td>\n</tr>\n<tr>\n  <th>surface_hoar</th>                <td>    0.3887</td> <td>    0.039</td> <td>   10.035</td> <td> 0.000</td> <td>    0.313</td> <td>    0.465</td>\n</tr>\n<tr>\n  <th>wind</th>                        <td>    0.1204</td> <td>    0.010</td> <td>   11.607</td> <td> 0.000</td> <td>    0.100</td> <td>    0.141</td>\n</tr>\n<tr>\n  <th>no_visitors</th>                 <td>   -0.9430</td> <td>    0.114</td> <td>   -8.237</td> <td> 0.000</td> <td>   -1.167</td> <td>   -0.719</td>\n</tr>\n<tr>\n  <th>fresh_thickness</th>             <td>   -0.4962</td> <td>    0.069</td> <td>   -7.191</td> <td> 0.000</td> <td>   -0.631</td> <td>   -0.361</td>\n</tr>\n<tr>\n  <th>no_visitors:fresh_thickness</th> <td>    0.1015</td> <td>    0.013</td> <td>    7.835</td> <td> 0.000</td> <td>    0.076</td> <td>    0.127</td>\n</tr>\n</table>"
     },
     "metadata": {},
     "execution_count": 19
    }
   ],
   "source": [
    "model_with_interaction.summary()"
   ]
  },
  {
   "source": [
    "We can see that the interaction term is helpful - the p-value is less than 0.05. The model is also performing better than our previous attempts.\n",
    "\n",
    "## Making predictions with multiple features\n",
    "\n",
    "Very quickly, lets explore what this interaction means by looking at model predictions. \n",
    "\n",
    "We will first graph two independent features in 3D. Let's start with `weak_layers` and `wind`:"
   ],
   "cell_type": "markdown",
   "metadata": {}
  },
  {
   "cell_type": "code",
   "execution_count": 20,
   "metadata": {},
   "outputs": [
    {
     "output_type": "stream",
     "name": "stdout",
     "text": [
      "Creating plot...\nweak_layers    0\nwind           0\ndtype: int64\nweak_layers    10\nwind           40\ndtype: int64\n"
     ]
    },
    {
     "output_type": "display_data",
     "data": {
      "application/vnd.plotly.v1+json": {
       "config": {
        "plotlyServerURL": "https://plot.ly"
       },
       "data": [
        {
         "colorbar": {
          "title": {
           "text": "Probability"
          }
         },
         "type": "surface",
         "x": [
          0,
          0.5263157894736842,
          1.0526315789473684,
          1.5789473684210527,
          2.1052631578947367,
          2.631578947368421,
          3.1578947368421053,
          3.6842105263157894,
          4.2105263157894735,
          4.7368421052631575,
          5.263157894736842,
          5.789473684210526,
          6.315789473684211,
          6.842105263157895,
          7.368421052631579,
          7.894736842105263,
          8.421052631578947,
          8.947368421052632,
          9.473684210526315,
          10
         ],
         "y": [
          0,
          2.1052631578947367,
          4.2105263157894735,
          6.315789473684211,
          8.421052631578947,
          10.526315789473683,
          12.631578947368421,
          14.736842105263158,
          16.842105263157894,
          18.94736842105263,
          21.052631578947366,
          23.157894736842103,
          25.263157894736842,
          27.36842105263158,
          29.473684210526315,
          31.57894736842105,
          33.68421052631579,
          35.78947368421053,
          37.89473684210526,
          40
         ],
         "z": [
          [
           0.01664595769382507,
           0.020814840607851454,
           0.02600019030453691,
           0.03243451515124591,
           0.04039511781818855,
           0.05020815410053435,
           0.06225039288074416,
           0.076946924689372,
           0.09476250165120643,
           0.11618374094289906,
           0.14168936410604616,
           0.17170638939602192,
           0.20655222561309117,
           0.2463662699105276,
           0.29103969552726155,
           0.3401574636647384,
           0.3929699130776832,
           0.44840975304477515,
           0.5051621313818825,
           0.5617817957334988
          ],
          [
           0.021346250874046388,
           0.026660379959860345,
           0.03325250563605881,
           0.041405281377053675,
           0.051450555738321746,
           0.06377077263590879,
           0.07879608612711335,
           0.09699481187948708,
           0.11885441453560695,
           0.14485023834257182,
           0.17540005473580342,
           0.210804704373005,
           0.251178950934364,
           0.2963818573936387,
           0.34596124808260137,
           0.3991297299872238,
           0.45478751969294684,
           0.5115984217991136,
           0.5681112654228486,
           0.6229049297479147
          ],
          [
           0.027336862478350966,
           0.034090398796134416,
           0.042439588961305334,
           0.052721994099017885,
           0.06532569878550111,
           0.08068580151860129,
           0.09927394146533045,
           0.121578033134854,
           0.1480694622664357,
           0.17915599039593866,
           0.21512099616532968,
           0.25605370392682875,
           0.30178033714576596,
           0.35181125964278326,
           0.40532163102136826,
           0.4611801546828428,
           0.5180308686491494,
           0.5744185707699186,
           0.6289346881541373,
           0.6803534544597577
          ],
          [
           0.0349486418445592,
           0.04349856121946093,
           0.05402306260154112,
           0.0669158289368583,
           0.08261677228887329,
           0.10160059922327576,
           0.1243552567179035,
           0.15134756941626798,
           0.18297450739284646,
           0.21950108471615484,
           0.26099008991842865,
           0.30723421187014777,
           0.3577060901897456,
           0.41154379871971775,
           0.46758558341843826,
           0.5244573448590969,
           0.5807017480046247,
           0.6349245385796637,
           0.6859277746666798,
           0.7328041649648122
          ],
          [
           0.04458272717896005,
           0.055354362536169655,
           0.06854182693460961,
           0.08458970286525136,
           0.10397549166090818,
           0.12718673524693108,
           0.15468507326418146,
           0.18685588500277084,
           0.22394491033866598,
           0.2659876173870462,
           0.3127425025115834,
           0.36364427996741894,
           0.41779437764768235,
           0.4740017144933722,
           0.5308757312572931,
           0.5869588642866026,
           0.6408729098191849,
           0.6914489707921982,
           0.7378162846035232,
           0.7794384064287005
          ],
          [
           0.056716502944610885,
           0.0702043625843675,
           0.08660530018906312,
           0.10639932223086013,
           0.1300731076434591,
           0.1580824659554316,
           0.19080036940203474,
           0.22845236871818472,
           0.27104574151765154,
           0.31830417394258315,
           0.3696243187094081,
           0.4240714764669754,
           0.48042644240012156,
           0.5372839193601385,
           0.5931880199809336,
           0.6467782796614668,
           0.6969159942763314,
           0.7427673886102315,
           0.7838337961072347,
           0.8199334554749753
          ],
          [
           0.07190411135523359,
           0.08866427320006474,
           0.10887279055148738,
           0.13301500073263586,
           0.16154021702806493,
           0.19480817230942893,
           0.23302330973331423,
           0.2761638635378257,
           0.3239181351413375,
           0.3756446468476769,
           0.4303731701007751,
           0.4868576502785505,
           0.5436798141289765,
           0.5993873508453103,
           0.6526391761263506,
           0.7023278525986818,
           0.7476569727396458,
           0.7881653993443138,
           0.8237043806463827,
           0.8543826343307096
          ],
          [
           0.09076733229295485,
           0.11139659159602473,
           0.136013028157985,
           0.16505877211442155,
           0.1988794696340386,
           0.23765753631757003,
           0.2813413301334391,
           0.3295832394807804,
           0.3817036568388128,
           0.4366975019886717,
           0.4932932126962611,
           0.5500613366893952,
           0.605555030123668,
           0.6584541785834419,
           0.7076836093736507,
           0.7524845854834106,
           0.7924331895614498,
           0.8274129580459251,
           0.857557460180735,
           0.8831802101483438
          ],
          [
           0.11397141485009538,
           0.13906778926737634,
           0.1686385516265206,
           0.20301440013196403,
           0.242354803365952,
           0.2865774329487216,
           0.33529828513098575,
           0.38779969460651365,
           0.44304248642613187,
           0.49973099845301266,
           0.5564264270055199,
           0.6116892705417272,
           0.6642219187519385,
           0.7129823843392429,
           0.757249827275156,
           0.7966371826481412,
           0.8310595219050168,
           0.8606743545154303,
           0.8858110901652295,
           0.9069032764599655
          ],
          [
           0.1421798679710843,
           0.1722799494275142,
           0.2072130640755323,
           0.2471148166909523,
           0.29187140817481777,
           0.34106201557677496,
           0.39393106109847703,
           0.4494061109827989,
           0.5061688734013625,
           0.5627730465020614,
           0.6177883262003097,
           0.6699410815814569,
           0.7182233532425084,
           0.7619523496275621,
           0.800777435693765,
           0.8346444358063169,
           0.8637338831971929,
           0.8883902080802185,
           0.9090549085911789,
           0.9262113037878472
          ],
          [
           0.17598333149156445,
           0.21147552193875388,
           0.2519372320325445,
           0.2972224362307827,
           0.34687312025207534,
           0.40009601395542255,
           0.4557863389936235,
           0.5126047032756065,
           0.5690991806271593,
           0.6238504943627534,
           0.6756104060141774,
           0.7234057476249417,
           0.766591854205972,
           0.8048540456950112,
           0.8381680913339092,
           0.8667366287937117,
           0.8909182464449444,
           0.9111616839040712,
           0.9279521440586539,
           0.9417720006578866
          ],
          [
           0.2158017931028902,
           0.25682165412669644,
           0.30262964154077293,
           0.3527302352921669,
           0.4062927692894986,
           0.46218111211644264,
           0.5190363565210501,
           0.5754028413493045,
           0.6298741171331825,
           0.6812286856290082,
           0.7285288545113714,
           0.7711680918430945,
           0.8088671482428635,
           0.8416309067323197,
           0.8696831894069272,
           0.8933958942473216,
           0.9132243137232933,
           0.9296550332720764,
           0.9431682550481993,
           0.9542134458753527
          ],
          [
           0.2617676358369627,
           0.3080920924110045,
           0.35863194440457963,
           0.4125195035688897,
           0.46858835294935125,
           0.5254617071156503,
           0.5816820695819706,
           0.6358575830228643,
           0.6867947691689025,
           0.7335920160060941,
           0.7756808614993521,
           0.8128169161930289,
           0.8450333255769138,
           0.8725741775288057,
           0.895823846034714,
           0.9152435085396288,
           0.9313206526727138,
           0.9445330004356005,
           0.955325517723023,
           0.9640978962737138
          ],
          [
           0.3136088010097929,
           0.36457677985897063,
           0.41877435560496246,
           0.4750059677008967,
           0.5318786373760891,
           0.5879349375298792,
           0.6417993284023283,
           0.6923075609528091,
           0.7385946288001815,
           0.7801300091734071,
           0.8167035583235578,
           0.8483758154580293,
           0.8754102189249392,
           0.8982028010687955,
           0.9172199774356151,
           0.9329496781887813,
           0.9458668541081955,
           0.956411813192564,
           0.9649787040389304,
           0.9719112944640012
          ],
          [
           0.37056322359589994,
           0.4250554286378744,
           0.4814318489059053,
           0.5382850407404356,
           0.5941595509512246,
           0.6476978388374044,
           0.6977660211741307,
           0.7435361435940515,
           0.7845154267673812,
           0.8205273179832825,
           0.8516588666810544,
           0.8781919515468614,
           0.9005334625120657,
           0.9191544275397019,
           0.9345427801108466,
           0.9471704257495396,
           0.9574728703739548,
           0.9658386681162755,
           0.9726058582162337,
           0.9780629493614907
          ],
          [
           0.43136079251610376,
           0.487863878179508,
           0.544678824519643,
           0.6003540513305257,
           0.6535516503077713,
           0.7031691660878785,
           0.7484160644395241,
           0.7888370509112101,
           0.8242884717345301,
           0.8548829909844836,
           0.8809200244738328,
           0.9028165366458967,
           0.9210475635083619,
           0.9361006227925329,
           0.9484443173024489,
           0.958509218994293,
           0.9666782445653918,
           0.9732837192447673,
           0.9786087459777619,
           0.9828910582158095
          ],
          [
           0.4942999290017695,
           0.5510579126103022,
           0.6065166179572106,
           0.6593593503070884,
           0.7085160680890588,
           0.7532339480057016,
           0.7930948617505401,
           0.8279873279934331,
           0.8580487202778405,
           0.8835950968847349,
           0.9050527321199293,
           0.9229000870355565,
           0.9376238643724679,
           0.9496891228478452,
           0.9595213804025993,
           0.9674978812793721,
           0.9739452561140353,
           0.9791412527088453,
           0.9833187796263508,
           0.9866710334833123
          ],
          [
           0.5574202481612276,
           0.6126454699054307,
           0.6651195788242044,
           0.7138058556851005,
           0.7579894027730837,
           0.7972888817024618,
           0.8316242256709866,
           0.8611566054011814,
           0.886217837060591,
           0.9072427592325494,
           0.924712696388919,
           0.9391131565167516,
           0.9509054284979732,
           0.9605098675638244,
           0.9682980180398959,
           0.9745908399409995,
           0.9796607789064213,
           0.9837359849930212,
           0.9870055053241357,
           0.9896246930062356
          ],
          [
           0.6187388679110466,
           0.6708310292053968,
           0.7190377133654293,
           0.7626820881604135,
           0.8014191741833104,
           0.8351995328178564,
           0.8642072149077569,
           0.8887889214181258,
           0.9093873292421425,
           0.926486085972001,
           0.9405691441812263,
           0.9520938123033512,
           0.9614751850615483,
           0.9690790865772716,
           0.975220834484881,
           0.9801676274236324,
           0.9841429241199448,
           0.9873316918230046,
           0.9898858066476875,
           0.9919291842124516
          ],
          [
           0.6764924488980052,
           0.7242108813715351,
           0.7673117135887766,
           0.8054858423126382,
           0.8387136452757654,
           0.867201133871246,
           0.8913090335746722,
           0.9114871537087417,
           0.9282209459119151,
           0.9419924653928231,
           0.9532548441728244,
           0.9624178291088816,
           0.9698415106350348,
           0.9758355962389341,
           0.9806620947164298,
           0.9845398413099923,
           0.9876497928747765,
           0.9901404143557498,
           0.9921327621613009,
           0.9937250633679068
          ]
         ]
        }
       ],
       "layout": {
        "scene": {
         "xaxis": {
          "title": {
           "text": "weak_layers"
          }
         },
         "yaxis": {
          "title": {
           "text": "wind"
          }
         },
         "zaxis": {
          "title": {
           "text": "Probability"
          }
         }
        },
        "template": {
         "data": {
          "bar": [
           {
            "error_x": {
             "color": "#2a3f5f"
            },
            "error_y": {
             "color": "#2a3f5f"
            },
            "marker": {
             "line": {
              "color": "white",
              "width": 0.5
             }
            },
            "type": "bar"
           }
          ],
          "barpolar": [
           {
            "marker": {
             "line": {
              "color": "white",
              "width": 0.5
             }
            },
            "type": "barpolar"
           }
          ],
          "box": [
           {
            "boxpoints": "outliers",
            "notched": false,
            "type": "box"
           }
          ],
          "carpet": [
           {
            "aaxis": {
             "endlinecolor": "#2a3f5f",
             "gridcolor": "#C8D4E3",
             "linecolor": "#C8D4E3",
             "minorgridcolor": "#C8D4E3",
             "startlinecolor": "#2a3f5f"
            },
            "baxis": {
             "endlinecolor": "#2a3f5f",
             "gridcolor": "#C8D4E3",
             "linecolor": "#C8D4E3",
             "minorgridcolor": "#C8D4E3",
             "startlinecolor": "#2a3f5f"
            },
            "type": "carpet"
           }
          ],
          "choropleth": [
           {
            "colorbar": {
             "outlinewidth": 0,
             "ticks": ""
            },
            "type": "choropleth"
           }
          ],
          "contour": [
           {
            "colorbar": {
             "outlinewidth": 0,
             "ticks": ""
            },
            "colorscale": [
             [
              0,
              "#0d0887"
             ],
             [
              0.1111111111111111,
              "#46039f"
             ],
             [
              0.2222222222222222,
              "#7201a8"
             ],
             [
              0.3333333333333333,
              "#9c179e"
             ],
             [
              0.4444444444444444,
              "#bd3786"
             ],
             [
              0.5555555555555556,
              "#d8576b"
             ],
             [
              0.6666666666666666,
              "#ed7953"
             ],
             [
              0.7777777777777778,
              "#fb9f3a"
             ],
             [
              0.8888888888888888,
              "#fdca26"
             ],
             [
              1,
              "#f0f921"
             ]
            ],
            "type": "contour"
           }
          ],
          "contourcarpet": [
           {
            "colorbar": {
             "outlinewidth": 0,
             "ticks": ""
            },
            "type": "contourcarpet"
           }
          ],
          "heatmap": [
           {
            "colorbar": {
             "outlinewidth": 0,
             "ticks": ""
            },
            "colorscale": [
             [
              0,
              "#0d0887"
             ],
             [
              0.1111111111111111,
              "#46039f"
             ],
             [
              0.2222222222222222,
              "#7201a8"
             ],
             [
              0.3333333333333333,
              "#9c179e"
             ],
             [
              0.4444444444444444,
              "#bd3786"
             ],
             [
              0.5555555555555556,
              "#d8576b"
             ],
             [
              0.6666666666666666,
              "#ed7953"
             ],
             [
              0.7777777777777778,
              "#fb9f3a"
             ],
             [
              0.8888888888888888,
              "#fdca26"
             ],
             [
              1,
              "#f0f921"
             ]
            ],
            "type": "heatmap"
           }
          ],
          "heatmapgl": [
           {
            "colorbar": {
             "outlinewidth": 0,
             "ticks": ""
            },
            "colorscale": [
             [
              0,
              "#0d0887"
             ],
             [
              0.1111111111111111,
              "#46039f"
             ],
             [
              0.2222222222222222,
              "#7201a8"
             ],
             [
              0.3333333333333333,
              "#9c179e"
             ],
             [
              0.4444444444444444,
              "#bd3786"
             ],
             [
              0.5555555555555556,
              "#d8576b"
             ],
             [
              0.6666666666666666,
              "#ed7953"
             ],
             [
              0.7777777777777778,
              "#fb9f3a"
             ],
             [
              0.8888888888888888,
              "#fdca26"
             ],
             [
              1,
              "#f0f921"
             ]
            ],
            "type": "heatmapgl"
           }
          ],
          "histogram": [
           {
            "marker": {
             "colorbar": {
              "outlinewidth": 0,
              "ticks": ""
             },
             "line": {
              "width": 1
             }
            },
            "type": "histogram"
           }
          ],
          "histogram2d": [
           {
            "colorbar": {
             "outlinewidth": 0,
             "ticks": ""
            },
            "colorscale": [
             [
              0,
              "#0d0887"
             ],
             [
              0.1111111111111111,
              "#46039f"
             ],
             [
              0.2222222222222222,
              "#7201a8"
             ],
             [
              0.3333333333333333,
              "#9c179e"
             ],
             [
              0.4444444444444444,
              "#bd3786"
             ],
             [
              0.5555555555555556,
              "#d8576b"
             ],
             [
              0.6666666666666666,
              "#ed7953"
             ],
             [
              0.7777777777777778,
              "#fb9f3a"
             ],
             [
              0.8888888888888888,
              "#fdca26"
             ],
             [
              1,
              "#f0f921"
             ]
            ],
            "type": "histogram2d"
           }
          ],
          "histogram2dcontour": [
           {
            "colorbar": {
             "outlinewidth": 0,
             "ticks": ""
            },
            "colorscale": [
             [
              0,
              "#0d0887"
             ],
             [
              0.1111111111111111,
              "#46039f"
             ],
             [
              0.2222222222222222,
              "#7201a8"
             ],
             [
              0.3333333333333333,
              "#9c179e"
             ],
             [
              0.4444444444444444,
              "#bd3786"
             ],
             [
              0.5555555555555556,
              "#d8576b"
             ],
             [
              0.6666666666666666,
              "#ed7953"
             ],
             [
              0.7777777777777778,
              "#fb9f3a"
             ],
             [
              0.8888888888888888,
              "#fdca26"
             ],
             [
              1,
              "#f0f921"
             ]
            ],
            "type": "histogram2dcontour"
           }
          ],
          "mesh3d": [
           {
            "colorbar": {
             "outlinewidth": 0,
             "ticks": ""
            },
            "type": "mesh3d"
           }
          ],
          "parcoords": [
           {
            "line": {
             "colorbar": {
              "outlinewidth": 0,
              "ticks": ""
             }
            },
            "type": "parcoords"
           }
          ],
          "pie": [
           {
            "automargin": true,
            "type": "pie"
           }
          ],
          "scatter": [
           {
            "marker": {
             "colorbar": {
              "outlinewidth": 0,
              "ticks": ""
             },
             "opacity": 0.8
            },
            "type": "scatter"
           }
          ],
          "scatter3d": [
           {
            "line": {
             "colorbar": {
              "outlinewidth": 0,
              "ticks": ""
             }
            },
            "marker": {
             "colorbar": {
              "outlinewidth": 0,
              "ticks": ""
             },
             "opacity": 0.8
            },
            "type": "scatter3d"
           }
          ],
          "scattercarpet": [
           {
            "marker": {
             "colorbar": {
              "outlinewidth": 0,
              "ticks": ""
             }
            },
            "type": "scattercarpet"
           }
          ],
          "scattergeo": [
           {
            "marker": {
             "colorbar": {
              "outlinewidth": 0,
              "ticks": ""
             }
            },
            "type": "scattergeo"
           }
          ],
          "scattergl": [
           {
            "marker": {
             "colorbar": {
              "outlinewidth": 0,
              "ticks": ""
             }
            },
            "type": "scattergl"
           }
          ],
          "scattermapbox": [
           {
            "marker": {
             "colorbar": {
              "outlinewidth": 0,
              "ticks": ""
             }
            },
            "type": "scattermapbox"
           }
          ],
          "scatterpolar": [
           {
            "marker": {
             "colorbar": {
              "outlinewidth": 0,
              "ticks": ""
             }
            },
            "type": "scatterpolar"
           }
          ],
          "scatterpolargl": [
           {
            "marker": {
             "colorbar": {
              "outlinewidth": 0,
              "ticks": ""
             }
            },
            "type": "scatterpolargl"
           }
          ],
          "scatterternary": [
           {
            "marker": {
             "colorbar": {
              "outlinewidth": 0,
              "ticks": ""
             }
            },
            "type": "scatterternary"
           }
          ],
          "surface": [
           {
            "colorbar": {
             "outlinewidth": 0,
             "ticks": ""
            },
            "colorscale": [
             [
              0,
              "#0d0887"
             ],
             [
              0.1111111111111111,
              "#46039f"
             ],
             [
              0.2222222222222222,
              "#7201a8"
             ],
             [
              0.3333333333333333,
              "#9c179e"
             ],
             [
              0.4444444444444444,
              "#bd3786"
             ],
             [
              0.5555555555555556,
              "#d8576b"
             ],
             [
              0.6666666666666666,
              "#ed7953"
             ],
             [
              0.7777777777777778,
              "#fb9f3a"
             ],
             [
              0.8888888888888888,
              "#fdca26"
             ],
             [
              1,
              "#f0f921"
             ]
            ],
            "type": "surface"
           }
          ],
          "table": [
           {
            "cells": {
             "fill": {
              "color": "#EBF0F8"
             },
             "line": {
              "color": "white"
             }
            },
            "header": {
             "fill": {
              "color": "#C8D4E3"
             },
             "line": {
              "color": "white"
             }
            },
            "type": "table"
           }
          ]
         },
         "layout": {
          "annotationdefaults": {
           "arrowcolor": "#2a3f5f",
           "arrowhead": 0,
           "arrowwidth": 1
          },
          "autotypenumbers": "strict",
          "coloraxis": {
           "colorbar": {
            "outlinewidth": 0,
            "ticks": ""
           }
          },
          "colorscale": {
           "diverging": [
            [
             0,
             "#8e0152"
            ],
            [
             0.1,
             "#c51b7d"
            ],
            [
             0.2,
             "#de77ae"
            ],
            [
             0.3,
             "#f1b6da"
            ],
            [
             0.4,
             "#fde0ef"
            ],
            [
             0.5,
             "#f7f7f7"
            ],
            [
             0.6,
             "#e6f5d0"
            ],
            [
             0.7,
             "#b8e186"
            ],
            [
             0.8,
             "#7fbc41"
            ],
            [
             0.9,
             "#4d9221"
            ],
            [
             1,
             "#276419"
            ]
           ],
           "sequential": [
            [
             0,
             "#0d0887"
            ],
            [
             0.1111111111111111,
             "#46039f"
            ],
            [
             0.2222222222222222,
             "#7201a8"
            ],
            [
             0.3333333333333333,
             "#9c179e"
            ],
            [
             0.4444444444444444,
             "#bd3786"
            ],
            [
             0.5555555555555556,
             "#d8576b"
            ],
            [
             0.6666666666666666,
             "#ed7953"
            ],
            [
             0.7777777777777778,
             "#fb9f3a"
            ],
            [
             0.8888888888888888,
             "#fdca26"
            ],
            [
             1,
             "#f0f921"
            ]
           ],
           "sequentialminus": [
            [
             0,
             "#0d0887"
            ],
            [
             0.1111111111111111,
             "#46039f"
            ],
            [
             0.2222222222222222,
             "#7201a8"
            ],
            [
             0.3333333333333333,
             "#9c179e"
            ],
            [
             0.4444444444444444,
             "#bd3786"
            ],
            [
             0.5555555555555556,
             "#d8576b"
            ],
            [
             0.6666666666666666,
             "#ed7953"
            ],
            [
             0.7777777777777778,
             "#fb9f3a"
            ],
            [
             0.8888888888888888,
             "#fdca26"
            ],
            [
             1,
             "#f0f921"
            ]
           ]
          },
          "colorway": [
           "#636efa",
           "#EF553B",
           "#00cc96",
           "#ab63fa",
           "#FFA15A",
           "#19d3f3",
           "#FF6692",
           "#B6E880",
           "#FF97FF",
           "#FECB52"
          ],
          "font": {
           "color": "#2a3f5f"
          },
          "geo": {
           "bgcolor": "white",
           "lakecolor": "white",
           "landcolor": "white",
           "showlakes": true,
           "showland": true,
           "subunitcolor": "#C8D4E3"
          },
          "height": 400,
          "hoverlabel": {
           "align": "left"
          },
          "hovermode": "closest",
          "mapbox": {
           "style": "light"
          },
          "margin": {
           "b": 2,
           "l": 2,
           "r": 2,
           "t": 30
          },
          "paper_bgcolor": "white",
          "plot_bgcolor": "white",
          "polar": {
           "angularaxis": {
            "gridcolor": "#EBF0F8",
            "linecolor": "#EBF0F8",
            "ticks": ""
           },
           "bgcolor": "white",
           "radialaxis": {
            "gridcolor": "#EBF0F8",
            "linecolor": "#EBF0F8",
            "ticks": ""
           }
          },
          "scene": {
           "camera": {
            "eye": {
             "x": 1.5,
             "y": 1.5,
             "z": 0.1
            }
           },
           "xaxis": {
            "backgroundcolor": "white",
            "gridcolor": "#DFE8F3",
            "gridwidth": 2,
            "linecolor": "#EBF0F8",
            "showbackground": true,
            "ticks": "",
            "zerolinecolor": "#EBF0F8"
           },
           "yaxis": {
            "backgroundcolor": "white",
            "gridcolor": "#DFE8F3",
            "gridwidth": 2,
            "linecolor": "#EBF0F8",
            "showbackground": true,
            "ticks": "",
            "zerolinecolor": "#EBF0F8"
           },
           "zaxis": {
            "backgroundcolor": "white",
            "gridcolor": "#DFE8F3",
            "gridwidth": 2,
            "linecolor": "#EBF0F8",
            "showbackground": true,
            "ticks": "",
            "zerolinecolor": "#EBF0F8"
           }
          },
          "shapedefaults": {
           "line": {
            "color": "#2a3f5f"
           }
          },
          "ternary": {
           "aaxis": {
            "gridcolor": "#DFE8F3",
            "linecolor": "#A2B1C6",
            "ticks": ""
           },
           "baxis": {
            "gridcolor": "#DFE8F3",
            "linecolor": "#A2B1C6",
            "ticks": ""
           },
           "bgcolor": "white",
           "caxis": {
            "gridcolor": "#DFE8F3",
            "linecolor": "#A2B1C6",
            "ticks": ""
           }
          },
          "title": {
           "x": 0.5
          },
          "xaxis": {
           "automargin": true,
           "gridcolor": "#EBF0F8",
           "linecolor": "#EBF0F8",
           "linewidth": 2,
           "showline": true,
           "ticks": "",
           "title": {
            "standoff": 15
           },
           "zerolinecolor": "#EBF0F8",
           "zerolinewidth": 2
          },
          "yaxis": {
           "automargin": true,
           "gridcolor": "#EBF0F8",
           "linecolor": "#EBF0F8",
           "linewidth": 2,
           "showline": true,
           "ticks": "",
           "title": {
            "standoff": 15
           },
           "zerolinecolor": "#EBF0F8",
           "zerolinewidth": 2
          }
         }
        },
        "title": {
         "text": "Model Prediction"
        }
       }
      }
     },
     "metadata": {}
    }
   ],
   "source": [
    "# You don't need to understand this block of code\n",
    "# The important thing is that you explore the graph\n",
    "# that it creates\n",
    "from m2a_logistic_surface import logistic_to_surface_plot\n",
    "\n",
    "logistic_to_surface_plot(model_with_interaction, [\"weak_layers\", \"wind\"], test)"
   ]
  },
  {
   "source": [
    "The graph is interactive - rotate it and explore how there is a clear s-shaped relationship between the features and probability.\n",
    "\n",
    "Let's now look at the features that we have said can interact:"
   ],
   "cell_type": "markdown",
   "metadata": {}
  },
  {
   "cell_type": "code",
   "execution_count": 21,
   "metadata": {},
   "outputs": [
    {
     "output_type": "stream",
     "name": "stdout",
     "text": [
      "Creating plot...\nno_visitors        0.000000\nfresh_thickness    0.413701\ndtype: float64\nno_visitors         9.00000\nfresh_thickness    17.17583\ndtype: float64\n"
     ]
    },
    {
     "output_type": "display_data",
     "data": {
      "application/vnd.plotly.v1+json": {
       "config": {
        "plotlyServerURL": "https://plot.ly"
       },
       "data": [
        {
         "colorbar": {
          "title": {
           "text": "Probability"
          }
         },
         "type": "surface",
         "x": [
          0,
          0.47368421052631576,
          0.9473684210526315,
          1.4210526315789473,
          1.894736842105263,
          2.3684210526315788,
          2.8421052631578947,
          3.31578947368421,
          3.789473684210526,
          4.263157894736842,
          4.7368421052631575,
          5.2105263157894735,
          5.684210526315789,
          6.157894736842105,
          6.63157894736842,
          7.105263157894736,
          7.578947368421052,
          8.052631578947368,
          8.526315789473683,
          9
         ],
         "y": [
          0.4137014307004687,
          1.2959187122253057,
          2.1781359937501428,
          3.0603532752749802,
          3.9425705567998173,
          4.824787838324655,
          5.707005119849492,
          6.589222401374329,
          7.471439682899166,
          8.353656964424003,
          9.23587424594884,
          10.118091527473677,
          11.000308808998515,
          11.882526090523351,
          12.764743372048189,
          13.646960653573025,
          14.529177935097863,
          15.4113952166227,
          16.29361249814754,
          17.175829779672377
         ],
         "z": [
          [
           0.99044918008353,
           0.9854392371316607,
           0.9778600417499922,
           0.9664699447106148,
           0.9495225928648762,
           0.9246769998260712,
           0.8890313166146229,
           0.8394457433886225,
           0.77335186529354,
           0.6900944442979231,
           0.5923735767580229,
           0.48675605667711797,
           0.3823081645994714,
           0.28770895395160245,
           0.2086120942316286,
           0.1467795382116592,
           0.10093661725478216,
           0.0682660152505166,
           0.045633319963444,
           0.030260497637880822
          ],
          [
           0.9852805799553711,
           0.9785303897364478,
           0.9687827037145869,
           0.9548137161707445,
           0.9350132513097364,
           0.9073779610227782,
           0.8696294712482958,
           0.8195558525936686,
           0.7556535479978903,
           0.6780119636373163,
           0.5891143092897568,
           0.4939902474396435,
           0.3992993054992532,
           0.31158259783381004,
           0.23557830435770682,
           0.1734427528770639,
           0.12501566386065824,
           0.0886595891349281,
           0.06212561403997517,
           0.04315665661218301
          ],
          [
           0.9773787812881171,
           0.9684483644175702,
           0.9561505644008693,
           0.939359618670887,
           0.9166991944073006,
           0.8865932077592884,
           0.8474175942462411,
           0.7977954769159216,
           0.7370431335968359,
           0.6656866223244289,
           0.5858472013833484,
           0.5012269555332393,
           0.4165363650661544,
           0.33650137432733,
           0.2648636669745739,
           0.20379259420751397,
           0.15385591367802243,
           0.11439746629010669,
           0.08405341946170569,
           0.06120192945481751
          ],
          [
           0.9653841059371395,
           0.9538551336028975,
           0.9387300859192841,
           0.9190680908910762,
           0.8938101642972095,
           0.8618543811722701,
           0.8221951187646509,
           0.7741341492141387,
           0.7175450997272509,
           0.6531308525319148,
           0.5825725226493614,
           0.5084631496155106,
           0.4339799433101539,
           0.3623640314854629,
           0.2963780766870717,
           0.23792449347860894,
           0.18792049132653876,
           0.1464067202312642,
           0.1127900675847383,
           0.08611348547981076
          ],
          [
           0.9473718388209147,
           0.9329793598287851,
           0.9150040266384514,
           0.8927617469677955,
           0.8655542010259725,
           0.8327370775944402,
           0.7938177047393369,
           0.7485766208337944,
           0.6971952760168533,
           0.6403582882366237,
           0.5792905453283064,
           0.515695799205134,
           0.45158862910337405,
           0.38904889763222755,
           0.32995916547696685,
           0.27579281341728645,
           0.2274993490812108,
           0.18549640569261372,
           0.14974516047982783,
           0.11987028947390022
          ],
          [
           0.9207563007618521,
           0.9036137806867807,
           0.8832331606674777,
           0.8592145314224402,
           0.8311995580229821,
           0.7989145434534148,
           0.7622210807346387,
           0.7211687938868457,
           0.676041254250963,
           0.6273837265502263,
           0.5760015442048455,
           0.5229218797560146,
           0.4693193773048235,
           0.4164155330306058,
           0.3653693867823846,
           0.3171797598812927,
           0.2726157370111061,
           0.2321839310081356,
           0.19613170529318627,
           0.16447829081559817
          ],
          [
           0.8823520755898336,
           0.8632671463983729,
           0.8416418887665547,
           0.817320206019015,
           0.7901942261324283,
           0.7602220040536133,
           0.7274449057833644,
           0.6920025121277957,
           0.6541425113595657,
           0.6142230766317984,
           0.5727057965201443,
           0.5301383777103422,
           0.48712791982637765,
           0.4443072436018359,
           0.40229810356759327,
           0.3616757489144153,
           0.32293902053633794,
           0.2864890722561513,
           0.2526182031264578,
           0.2215086183563411
          ],
          [
           0.8287965183619299,
           0.8095904930850266,
           0.7887789891168763,
           0.766349293388957,
           0.7423158854941225,
           0.7167241812762751,
           0.6896534540273161,
           0.6612185699355548,
           0.6315702058556375,
           0.60089329626284,
           0.5694035818824219,
           0.5373422955126232,
           0.5049692025311007,
           0.47255438926119664,
           0.44036933428144465,
           0.40867788194663407,
           0.37772774902666983,
           0.3477431323775786,
           0.3189188591151189,
           0.29141635254737447
          ],
          [
           0.7575601053938384,
           0.7411602762959258,
           0.7240551734504721,
           0.7062676825184353,
           0.6878279485334936,
           0.6687735088959358,
           0.6491492736840156,
           0.6290073385291833,
           0.6084066207882166,
           0.5874123163854292,
           0.566095182175762,
           0.54453065656702,
           0.522797838926923,
           0.5009783554384432,
           0.4791551450183895,
           0.45741120321088086,
           0.43582832426040374,
           0.41448588166901595,
           0.3934596854405721,
           0.37282095008562877
          ],
          [
           0.6685371538019934,
           0.658510651791547,
           0.6483403924658071,
           0.6380337333213337,
           0.6275985090473764,
           0.61704301327976,
           0.6063759770448288,
           0.5956065439621948,
           0.5847442423142707,
           0.5737989541298099,
           0.5627808814672377,
           0.5517005101206618,
           0.5405685710064142,
           0.5293959995200486,
           0.5181938931822546,
           0.5069734679165434,
           0.4957460133212742,
           0.48452284731320183,
           0.4733152705288942,
           0.4621345208739372
          ],
          [
           0.5655710296385343,
           0.5649608876032274,
           0.564350548717092,
           0.5637400147670191,
           0.5631292875422444,
           0.5625183688343288,
           0.5619072604371376,
           0.5612959641468193,
           0.5606844817617868,
           0.5600728150826949,
           0.5594609659124208,
           0.5588489360560429,
           0.5582367273208201,
           0.5576243415161697,
           0.5570117804536501,
           0.5563990459469358,
           0.5557861398117988,
           0.555173063866085,
           0.5545598199296982,
           0.5539464098245717
          ],
          [
           0.45661701763568113,
           0.4665442920983227,
           0.4764981327761915,
           0.48647067810594863,
           0.49645400707896137,
           0.5064401643389815,
           0.516421185512006,
           0.5263891225971771,
           0.536336069246878,
           0.5462541857654657,
           0.5561357236593343,
           0.565973049576174,
           0.5757586684782886,
           0.5854852459035069,
           0.595145629177505,
           0.6047328674529245,
           0.6142402304635326,
           0.623661225895397,
           0.6329896152916025,
           0.6422194284220826
          ],
          [
           0.3516618839290426,
           0.37066460005206536,
           0.3900763550791043,
           0.40984266744288766,
           0.42990460718255596,
           0.4501994408995729,
           0.4706613784209343,
           0.49122240348843643,
           0.5118131668926814,
           0.5323639174957342,
           0.5528054447509141,
           0.5730700057667878,
           0.5930922107166634,
           0.6128098424089137,
           0.6321645889597727,
           0.6511026725248611,
           0.6695753616706152,
           0.6875393598966937,
           0.7049570677503123,
           0.7217967206240489
          ],
          [
           0.2593182452049234,
           0.28399909527999,
           0.31004567871082045,
           0.3373555538040808,
           0.365795617939829,
           0.3952033378213841,
           0.42538948212563116,
           0.45614233899519907,
           0.48723326769756414,
           0.518423302990068,
           0.5494704210260515,
           0.5801370040206278,
           0.6101970189946818,
           0.6394424573644634,
           0.6676886617368445,
           0.6947782811650304,
           0.7205837287113261,
           0.7450081467880811,
           0.7679850002023199,
           0.7894765028768312
          ],
          [
           0.18432916123876447,
           0.21080930528163222,
           0.23997433190837605,
           0.2717847165949878,
           0.3061134545956835,
           0.34273744405277184,
           0.38133513684963966,
           0.42149206507117026,
           0.4627149603957811,
           0.5044539472241175,
           0.5461309460192836,
           0.5871712923096762,
           0.6270349621284823,
           0.6652438708953695,
           0.7014024578981098,
           0.7352099727942767,
           0.7664642273101304,
           0.7950577538804511,
           0.8209681116773465,
           0.844244426616096
          ],
          [
           0.12729830320347718,
           0.15246492285961247,
           0.18157176764508726,
           0.21482687373595583,
           0.2522951238501689,
           0.2938525680375955,
           0.3391503311694824,
           0.38759805689019045,
           0.4383756498134951,
           0.49047763419368395,
           0.5427873148592041,
           0.5941701712920427,
           0.6435704238148234,
           0.6900937727677964,
           0.7330633349025443,
           0.7720430702833635,
           0.8068306583075947,
           0.8374273497797222,
           0.8639946652907262,
           0.8868072398124105
          ],
          [
           0.08605109388601194,
           0.10805719708169013,
           0.13486057596189424,
           0.16706716538727837,
           0.2051413618520175,
           0.2492955562289806,
           0.29937396844707126,
           0.3547582162378358,
           0.41432932530163114,
           0.4765161913122091,
           0.5394398241656673,
           0.6011309982411995,
           0.659770564860186,
           0.7138923539334422,
           0.7625038557026498,
           0.8051107334039288,
           0.8416611852659907,
           0.8724428355653436,
           0.8979658645564409,
           0.9188569459616382
          ],
          [
           0.0572914243378503,
           0.0754327007459806,
           0.09871686183763864,
           0.1281917395933663,
           0.16485746944286922,
           0.20949040646222392,
           0.26241026737329914,
           0.3232321983504671,
           0.3906844665021606,
           0.4625913532335427,
           0.5360887719458589,
           0.6080511907862608,
           0.6756055335023508,
           0.736561034176427,
           0.7896291817449365,
           0.8344104028195284,
           0.8712138541994164,
           0.9008098528897741,
           0.9241962578413474,
           0.9424212111107133
          ],
          [
           0.03774672216054455,
           0.052082986831560554,
           0.07145983009533927,
           0.09730558273492024,
           0.13117866242567197,
           0.17456305764519428,
           0.22852187290623246,
           0.2932345727938618,
           0.36754216632399866,
           0.44872462690187026,
           0.532734457489316,
           0.614928230453065,
           0.691048622294414,
           0.7580423822832726,
           0.8144104805279218,
           0.8600707371383154,
           0.8959327521910541,
           0.9234221408540753,
           0.9441032312968476,
           0.9594443568634643
          ],
          [
           0.02469494171814495,
           0.03568208589846692,
           0.05130044891370545,
           0.0732359188149695,
           0.103527212998301,
           0.14439529627003034,
           0.19783607252309493,
           0.264931068664465,
           0.34499453653606355,
           0.43493715960289764,
           0.5293771812619645,
           0.621759665996911,
           0.7060763715510662,
           0.7782993291185383,
           0.8368756443471574,
           0.8823154875872372,
           0.916362640394202,
           0.941215919123868,
           0.9590142345085426,
           0.9715863560479974
          ]
         ]
        }
       ],
       "layout": {
        "scene": {
         "xaxis": {
          "title": {
           "text": "no_visitors"
          }
         },
         "yaxis": {
          "title": {
           "text": "fresh_thickness"
          }
         },
         "zaxis": {
          "title": {
           "text": "Probability"
          }
         }
        },
        "template": {
         "data": {
          "bar": [
           {
            "error_x": {
             "color": "#2a3f5f"
            },
            "error_y": {
             "color": "#2a3f5f"
            },
            "marker": {
             "line": {
              "color": "white",
              "width": 0.5
             }
            },
            "type": "bar"
           }
          ],
          "barpolar": [
           {
            "marker": {
             "line": {
              "color": "white",
              "width": 0.5
             }
            },
            "type": "barpolar"
           }
          ],
          "box": [
           {
            "boxpoints": "outliers",
            "notched": false,
            "type": "box"
           }
          ],
          "carpet": [
           {
            "aaxis": {
             "endlinecolor": "#2a3f5f",
             "gridcolor": "#C8D4E3",
             "linecolor": "#C8D4E3",
             "minorgridcolor": "#C8D4E3",
             "startlinecolor": "#2a3f5f"
            },
            "baxis": {
             "endlinecolor": "#2a3f5f",
             "gridcolor": "#C8D4E3",
             "linecolor": "#C8D4E3",
             "minorgridcolor": "#C8D4E3",
             "startlinecolor": "#2a3f5f"
            },
            "type": "carpet"
           }
          ],
          "choropleth": [
           {
            "colorbar": {
             "outlinewidth": 0,
             "ticks": ""
            },
            "type": "choropleth"
           }
          ],
          "contour": [
           {
            "colorbar": {
             "outlinewidth": 0,
             "ticks": ""
            },
            "colorscale": [
             [
              0,
              "#0d0887"
             ],
             [
              0.1111111111111111,
              "#46039f"
             ],
             [
              0.2222222222222222,
              "#7201a8"
             ],
             [
              0.3333333333333333,
              "#9c179e"
             ],
             [
              0.4444444444444444,
              "#bd3786"
             ],
             [
              0.5555555555555556,
              "#d8576b"
             ],
             [
              0.6666666666666666,
              "#ed7953"
             ],
             [
              0.7777777777777778,
              "#fb9f3a"
             ],
             [
              0.8888888888888888,
              "#fdca26"
             ],
             [
              1,
              "#f0f921"
             ]
            ],
            "type": "contour"
           }
          ],
          "contourcarpet": [
           {
            "colorbar": {
             "outlinewidth": 0,
             "ticks": ""
            },
            "type": "contourcarpet"
           }
          ],
          "heatmap": [
           {
            "colorbar": {
             "outlinewidth": 0,
             "ticks": ""
            },
            "colorscale": [
             [
              0,
              "#0d0887"
             ],
             [
              0.1111111111111111,
              "#46039f"
             ],
             [
              0.2222222222222222,
              "#7201a8"
             ],
             [
              0.3333333333333333,
              "#9c179e"
             ],
             [
              0.4444444444444444,
              "#bd3786"
             ],
             [
              0.5555555555555556,
              "#d8576b"
             ],
             [
              0.6666666666666666,
              "#ed7953"
             ],
             [
              0.7777777777777778,
              "#fb9f3a"
             ],
             [
              0.8888888888888888,
              "#fdca26"
             ],
             [
              1,
              "#f0f921"
             ]
            ],
            "type": "heatmap"
           }
          ],
          "heatmapgl": [
           {
            "colorbar": {
             "outlinewidth": 0,
             "ticks": ""
            },
            "colorscale": [
             [
              0,
              "#0d0887"
             ],
             [
              0.1111111111111111,
              "#46039f"
             ],
             [
              0.2222222222222222,
              "#7201a8"
             ],
             [
              0.3333333333333333,
              "#9c179e"
             ],
             [
              0.4444444444444444,
              "#bd3786"
             ],
             [
              0.5555555555555556,
              "#d8576b"
             ],
             [
              0.6666666666666666,
              "#ed7953"
             ],
             [
              0.7777777777777778,
              "#fb9f3a"
             ],
             [
              0.8888888888888888,
              "#fdca26"
             ],
             [
              1,
              "#f0f921"
             ]
            ],
            "type": "heatmapgl"
           }
          ],
          "histogram": [
           {
            "marker": {
             "colorbar": {
              "outlinewidth": 0,
              "ticks": ""
             },
             "line": {
              "width": 1
             }
            },
            "type": "histogram"
           }
          ],
          "histogram2d": [
           {
            "colorbar": {
             "outlinewidth": 0,
             "ticks": ""
            },
            "colorscale": [
             [
              0,
              "#0d0887"
             ],
             [
              0.1111111111111111,
              "#46039f"
             ],
             [
              0.2222222222222222,
              "#7201a8"
             ],
             [
              0.3333333333333333,
              "#9c179e"
             ],
             [
              0.4444444444444444,
              "#bd3786"
             ],
             [
              0.5555555555555556,
              "#d8576b"
             ],
             [
              0.6666666666666666,
              "#ed7953"
             ],
             [
              0.7777777777777778,
              "#fb9f3a"
             ],
             [
              0.8888888888888888,
              "#fdca26"
             ],
             [
              1,
              "#f0f921"
             ]
            ],
            "type": "histogram2d"
           }
          ],
          "histogram2dcontour": [
           {
            "colorbar": {
             "outlinewidth": 0,
             "ticks": ""
            },
            "colorscale": [
             [
              0,
              "#0d0887"
             ],
             [
              0.1111111111111111,
              "#46039f"
             ],
             [
              0.2222222222222222,
              "#7201a8"
             ],
             [
              0.3333333333333333,
              "#9c179e"
             ],
             [
              0.4444444444444444,
              "#bd3786"
             ],
             [
              0.5555555555555556,
              "#d8576b"
             ],
             [
              0.6666666666666666,
              "#ed7953"
             ],
             [
              0.7777777777777778,
              "#fb9f3a"
             ],
             [
              0.8888888888888888,
              "#fdca26"
             ],
             [
              1,
              "#f0f921"
             ]
            ],
            "type": "histogram2dcontour"
           }
          ],
          "mesh3d": [
           {
            "colorbar": {
             "outlinewidth": 0,
             "ticks": ""
            },
            "type": "mesh3d"
           }
          ],
          "parcoords": [
           {
            "line": {
             "colorbar": {
              "outlinewidth": 0,
              "ticks": ""
             }
            },
            "type": "parcoords"
           }
          ],
          "pie": [
           {
            "automargin": true,
            "type": "pie"
           }
          ],
          "scatter": [
           {
            "marker": {
             "colorbar": {
              "outlinewidth": 0,
              "ticks": ""
             },
             "opacity": 0.8
            },
            "type": "scatter"
           }
          ],
          "scatter3d": [
           {
            "line": {
             "colorbar": {
              "outlinewidth": 0,
              "ticks": ""
             }
            },
            "marker": {
             "colorbar": {
              "outlinewidth": 0,
              "ticks": ""
             },
             "opacity": 0.8
            },
            "type": "scatter3d"
           }
          ],
          "scattercarpet": [
           {
            "marker": {
             "colorbar": {
              "outlinewidth": 0,
              "ticks": ""
             }
            },
            "type": "scattercarpet"
           }
          ],
          "scattergeo": [
           {
            "marker": {
             "colorbar": {
              "outlinewidth": 0,
              "ticks": ""
             }
            },
            "type": "scattergeo"
           }
          ],
          "scattergl": [
           {
            "marker": {
             "colorbar": {
              "outlinewidth": 0,
              "ticks": ""
             }
            },
            "type": "scattergl"
           }
          ],
          "scattermapbox": [
           {
            "marker": {
             "colorbar": {
              "outlinewidth": 0,
              "ticks": ""
             }
            },
            "type": "scattermapbox"
           }
          ],
          "scatterpolar": [
           {
            "marker": {
             "colorbar": {
              "outlinewidth": 0,
              "ticks": ""
             }
            },
            "type": "scatterpolar"
           }
          ],
          "scatterpolargl": [
           {
            "marker": {
             "colorbar": {
              "outlinewidth": 0,
              "ticks": ""
             }
            },
            "type": "scatterpolargl"
           }
          ],
          "scatterternary": [
           {
            "marker": {
             "colorbar": {
              "outlinewidth": 0,
              "ticks": ""
             }
            },
            "type": "scatterternary"
           }
          ],
          "surface": [
           {
            "colorbar": {
             "outlinewidth": 0,
             "ticks": ""
            },
            "colorscale": [
             [
              0,
              "#0d0887"
             ],
             [
              0.1111111111111111,
              "#46039f"
             ],
             [
              0.2222222222222222,
              "#7201a8"
             ],
             [
              0.3333333333333333,
              "#9c179e"
             ],
             [
              0.4444444444444444,
              "#bd3786"
             ],
             [
              0.5555555555555556,
              "#d8576b"
             ],
             [
              0.6666666666666666,
              "#ed7953"
             ],
             [
              0.7777777777777778,
              "#fb9f3a"
             ],
             [
              0.8888888888888888,
              "#fdca26"
             ],
             [
              1,
              "#f0f921"
             ]
            ],
            "type": "surface"
           }
          ],
          "table": [
           {
            "cells": {
             "fill": {
              "color": "#EBF0F8"
             },
             "line": {
              "color": "white"
             }
            },
            "header": {
             "fill": {
              "color": "#C8D4E3"
             },
             "line": {
              "color": "white"
             }
            },
            "type": "table"
           }
          ]
         },
         "layout": {
          "annotationdefaults": {
           "arrowcolor": "#2a3f5f",
           "arrowhead": 0,
           "arrowwidth": 1
          },
          "autotypenumbers": "strict",
          "coloraxis": {
           "colorbar": {
            "outlinewidth": 0,
            "ticks": ""
           }
          },
          "colorscale": {
           "diverging": [
            [
             0,
             "#8e0152"
            ],
            [
             0.1,
             "#c51b7d"
            ],
            [
             0.2,
             "#de77ae"
            ],
            [
             0.3,
             "#f1b6da"
            ],
            [
             0.4,
             "#fde0ef"
            ],
            [
             0.5,
             "#f7f7f7"
            ],
            [
             0.6,
             "#e6f5d0"
            ],
            [
             0.7,
             "#b8e186"
            ],
            [
             0.8,
             "#7fbc41"
            ],
            [
             0.9,
             "#4d9221"
            ],
            [
             1,
             "#276419"
            ]
           ],
           "sequential": [
            [
             0,
             "#0d0887"
            ],
            [
             0.1111111111111111,
             "#46039f"
            ],
            [
             0.2222222222222222,
             "#7201a8"
            ],
            [
             0.3333333333333333,
             "#9c179e"
            ],
            [
             0.4444444444444444,
             "#bd3786"
            ],
            [
             0.5555555555555556,
             "#d8576b"
            ],
            [
             0.6666666666666666,
             "#ed7953"
            ],
            [
             0.7777777777777778,
             "#fb9f3a"
            ],
            [
             0.8888888888888888,
             "#fdca26"
            ],
            [
             1,
             "#f0f921"
            ]
           ],
           "sequentialminus": [
            [
             0,
             "#0d0887"
            ],
            [
             0.1111111111111111,
             "#46039f"
            ],
            [
             0.2222222222222222,
             "#7201a8"
            ],
            [
             0.3333333333333333,
             "#9c179e"
            ],
            [
             0.4444444444444444,
             "#bd3786"
            ],
            [
             0.5555555555555556,
             "#d8576b"
            ],
            [
             0.6666666666666666,
             "#ed7953"
            ],
            [
             0.7777777777777778,
             "#fb9f3a"
            ],
            [
             0.8888888888888888,
             "#fdca26"
            ],
            [
             1,
             "#f0f921"
            ]
           ]
          },
          "colorway": [
           "#636efa",
           "#EF553B",
           "#00cc96",
           "#ab63fa",
           "#FFA15A",
           "#19d3f3",
           "#FF6692",
           "#B6E880",
           "#FF97FF",
           "#FECB52"
          ],
          "font": {
           "color": "#2a3f5f"
          },
          "geo": {
           "bgcolor": "white",
           "lakecolor": "white",
           "landcolor": "white",
           "showlakes": true,
           "showland": true,
           "subunitcolor": "#C8D4E3"
          },
          "height": 400,
          "hoverlabel": {
           "align": "left"
          },
          "hovermode": "closest",
          "mapbox": {
           "style": "light"
          },
          "margin": {
           "b": 2,
           "l": 2,
           "r": 2,
           "t": 30
          },
          "paper_bgcolor": "white",
          "plot_bgcolor": "white",
          "polar": {
           "angularaxis": {
            "gridcolor": "#EBF0F8",
            "linecolor": "#EBF0F8",
            "ticks": ""
           },
           "bgcolor": "white",
           "radialaxis": {
            "gridcolor": "#EBF0F8",
            "linecolor": "#EBF0F8",
            "ticks": ""
           }
          },
          "scene": {
           "camera": {
            "eye": {
             "x": 1.5,
             "y": 1.5,
             "z": 0.1
            }
           },
           "xaxis": {
            "backgroundcolor": "white",
            "gridcolor": "#DFE8F3",
            "gridwidth": 2,
            "linecolor": "#EBF0F8",
            "showbackground": true,
            "ticks": "",
            "zerolinecolor": "#EBF0F8"
           },
           "yaxis": {
            "backgroundcolor": "white",
            "gridcolor": "#DFE8F3",
            "gridwidth": 2,
            "linecolor": "#EBF0F8",
            "showbackground": true,
            "ticks": "",
            "zerolinecolor": "#EBF0F8"
           },
           "zaxis": {
            "backgroundcolor": "white",
            "gridcolor": "#DFE8F3",
            "gridwidth": 2,
            "linecolor": "#EBF0F8",
            "showbackground": true,
            "ticks": "",
            "zerolinecolor": "#EBF0F8"
           }
          },
          "shapedefaults": {
           "line": {
            "color": "#2a3f5f"
           }
          },
          "ternary": {
           "aaxis": {
            "gridcolor": "#DFE8F3",
            "linecolor": "#A2B1C6",
            "ticks": ""
           },
           "baxis": {
            "gridcolor": "#DFE8F3",
            "linecolor": "#A2B1C6",
            "ticks": ""
           },
           "bgcolor": "white",
           "caxis": {
            "gridcolor": "#DFE8F3",
            "linecolor": "#A2B1C6",
            "ticks": ""
           }
          },
          "title": {
           "x": 0.5
          },
          "xaxis": {
           "automargin": true,
           "gridcolor": "#EBF0F8",
           "linecolor": "#EBF0F8",
           "linewidth": 2,
           "showline": true,
           "ticks": "",
           "title": {
            "standoff": 15
           },
           "zerolinecolor": "#EBF0F8",
           "zerolinewidth": 2
          },
          "yaxis": {
           "automargin": true,
           "gridcolor": "#EBF0F8",
           "linecolor": "#EBF0F8",
           "linewidth": 2,
           "showline": true,
           "ticks": "",
           "title": {
            "standoff": 15
           },
           "zerolinecolor": "#EBF0F8",
           "zerolinewidth": 2
          }
         }
        },
        "title": {
         "text": "Model Prediction"
        }
       }
      }
     },
     "metadata": {}
    }
   ],
   "source": [
    "logistic_to_surface_plot(model_with_interaction, [\"no_visitors\", \"fresh_thickness\"], test)"
   ]
  },
  {
   "source": [
    "It looks nothing like the old at all! From any side, we can see an s-shape, but these combine in strange ways.\n",
    "\n",
    "We can see that the risk goes up on days with lots of visitors _and_ lots of snow. There is no real risk of avalanche when there is a lot of snow but no visitors, or when there are a lot of visitors but no snow.\n",
    "\n",
    "The fact that it shows high risk when there is no fresh snow and no visitors could be due to rain, which keeps visitors and snow clouds away but results in avalanches of the older snow. To confirm this, we'd need to explore the data in more depth, but we'll stop here for now.\n",
    "\n",
    "## Summary\n",
    "\n",
    "Well done! Let's recap. We've:\n",
    "\n",
    "* improved our simple model by adding more features. \n",
    "* practiced interpreting our model coefficients (parameters) from the model summary\n",
    "* eliminated unnecessary features\n",
    "* explored how sometimes it's important to think about what your data really mean\n",
    "* created a model that combined features to give superior result"
   ],
   "cell_type": "markdown",
   "metadata": {}
  }
 ],
 "metadata": {
  "kernelspec": {
   "name": "python3",
   "display_name": "Python 3.7.10 64-bit ('ml_crash_course': conda)"
  },
  "language_info": {
   "codemirror_mode": {
    "name": "ipython",
    "version": 3
   },
   "file_extension": ".py",
   "mimetype": "text/x-python",
   "name": "python",
   "nbconvert_exporter": "python",
   "pygments_lexer": "ipython3",
   "version": "3.7.10"
  },
  "interpreter": {
   "hash": "a970c7e51787c6ef7f3c805442fbb5a30ae2745635e1d2514e62d936ba85c55c"
  }
 },
 "nbformat": 4,
 "nbformat_minor": 5
}