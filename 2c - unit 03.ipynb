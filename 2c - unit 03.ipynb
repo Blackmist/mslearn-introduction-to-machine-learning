{
 "cells": [
  {
   "cell_type": "markdown",
   "id": "70d0b5f9",
   "metadata": {},
   "source": [
    "# Exercise: Build a confusion matrix\n",
    "\n",
    "\n",
    "* build a model to predict objects based on the scenario (We want to find hikers)\n",
    "* NB the data will be very biased. Don't try to solve this. The focus here is only exploring the results with a confusion matrix\n",
    "* See the content doc for context.\n",
    "\n",
    "## Data visualization\n",
    "\n",
    "Let's start this exercise by loading in and having a look at our data:"
   ]
  },
  {
   "cell_type": "code",
   "execution_count": null,
   "id": "4eec3f24",
   "metadata": {
    "scrolled": true
   },
   "outputs": [],
   "source": [
    "import pandas\n",
    "\n",
    "#Import the data from the .csv file\n",
    "dataset = pandas.read_csv('Data/snow_objects.csv', delimiter=\"\\t\")\n",
    "\n",
    "#Let's have a look at the data\n",
    "dataset"
   ]
  },
  {
   "cell_type": "markdown",
   "id": "774c01eb",
   "metadata": {},
   "source": [
    "## Data Exploration\n",
    "\n",
    "SOME SIMPLE data exploration - boxplots or similar"
   ]
  },
  {
   "cell_type": "code",
   "execution_count": null,
   "metadata": {},
   "outputs": [],
   "source": [
    "import graphing # custom graphing code. See our GitHub repo for details\n",
    "\n",
    "# NB there are some extreme values which you need to account for to graph things properly.\n",
    "# If this requires editing graphing.py, please make the changes on that branch and merge into this branch\n",
    "graphing.multiple_histogram(dataset, label_x=\"size\", label_group=\"label\")\n",
    "\n",
    "# ETC"
   ]
  },
  {
   "source": [
    "We can notice that:\n",
    "\n",
    "ANYTHING WORTH NOTING. KEEP IT SHORT. IT MIGHT BE JUST THAT, FOR EXAMPLE, TREES AND ROCKS ARE OBVIOUSLY DIFFERENT FROM PEOPLE AND ANIMALS\n",
    "\n",
    "## Building a classification model\n",
    "\n",
    "FIRST TRY TO DO IT WITH RANDOM FOREST JUST AS AN EXAMPLE. SEE `2c - dataset generation.py` for an example. "
   ],
   "cell_type": "markdown",
   "metadata": {}
  },
  {
   "cell_type": "code",
   "execution_count": null,
   "metadata": {},
   "outputs": [],
   "source": [
    "# Here we import a function that splits datasets according to a given ratio\n",
    "from sklearn.model_selection import train_test_split\n",
    "\n",
    "# Split the dataset in an 70/30 train/test ratio. \n",
    "train, test = train_test_split(dataset, test_size=0.3, random_state=2)\n",
    "print(train.shape)\n",
    "print(test.shape)"
   ]
  },
  {
   "source": [
    "OK, lets train our model, using the `train` dataset we've just created:"
   ],
   "cell_type": "markdown",
   "metadata": {}
  },
  {
   "cell_type": "code",
   "execution_count": null,
   "id": "d6a82f68",
   "metadata": {},
   "outputs": [],
   "source": [
    "# Create the model\n",
    "random_forest = RandomForestClassifier(n_estimators=1, random_state=1, verbose=False)\n",
    "\n",
    "# Train the model\n",
    "random_forest.fit(train[features], train.label)\n",
    "\n",
    "print(\"Model trained!\")"
   ]
  },
  {
   "source": [
    "## Assessing our model\n",
    "\n",
    "CONTENT - NOTE ACCURACY. EXPLAIN WHAT THIS IS WITHOUT TALKING ABOUT TP/FP/TN/FN "
   ],
   "cell_type": "markdown",
   "metadata": {}
  },
  {
   "cell_type": "code",
   "execution_count": null,
   "metadata": {},
   "outputs": [],
   "source": [
    "# TODO"
   ]
  },
  {
   "source": [
    "NOTE HOW THAT MAKES IT HARD TO UNDERSTAND WHAT KIND OF ERRORS IT IS MAKING\n"
   ],
   "cell_type": "markdown",
   "metadata": {}
  },
  {
   "source": [
    "## Building a confusion matrix\n",
    "\n",
    "WALKTHROUGH ON HOW TO BUILD A CONFUSION MATRIX. YOU MIGHT NEED A FEW CELLS. SKLEARN PROVIDES A WAY TO DO THIS. IF THERE'S AN EASY WAY THAT USES PLOTLY THAT WOULD BE BETTER AS MATPLOT LIB NEEDS LOTS OF CODE. DON'T HIDE THIS CODE IN CODE BEHIND AS THEY NEED TO LEARN HOW TO DO IT"
   ],
   "cell_type": "markdown",
   "metadata": {}
  },
  {
   "cell_type": "code",
   "execution_count": null,
   "metadata": {},
   "outputs": [],
   "source": []
  },
  {
   "source": [
    "COMMENT ON WHAT EACH CELL MEANS. NOTE THEY HAVE COVERED THIS THEORY ALREADY IN CONTENT. SO, FOCUS ON WHAT IT MEANS FOR THIS SCENARIO (ESSENTIALLY, THE MODEL LOOKS TO DO REALLY WELL WITH ACCURACY, BUT WE CAN SEE THAT IT'S ONLY BECAUSE IT CAN PREDICT TREES AND ROCKS WELL. IT TENDS TO MUDDLE HUMANS WITH ANIMALS)"
   ],
   "cell_type": "markdown",
   "metadata": {}
  },
  {
   "source": [
    "## Summary\n",
    "\n",
    "TODO"
   ],
   "cell_type": "markdown",
   "metadata": {}
  }
 ],
 "metadata": {
  "kernelspec": {
   "name": "python3",
   "display_name": "Python 3.7.10 64-bit ('ml_crash_course': conda)"
  },
  "language_info": {
   "codemirror_mode": {
    "name": "ipython",
    "version": 3
   },
   "file_extension": ".py",
   "mimetype": "text/x-python",
   "name": "python",
   "nbconvert_exporter": "python",
   "pygments_lexer": "ipython3",
   "version": "3.7.10"
  },
  "interpreter": {
   "hash": "a970c7e51787c6ef7f3c805442fbb5a30ae2745635e1d2514e62d936ba85c55c"
  }
 },
 "nbformat": 4,
 "nbformat_minor": 5
}