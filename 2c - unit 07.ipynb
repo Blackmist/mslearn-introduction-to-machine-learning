{
 "cells": [
  {
   "cell_type": "markdown",
   "id": "70d0b5f9",
   "metadata": {},
   "source": [
    "# Exercise: More metrics derived from confusion matrices\n",
    "\n",
    "* Please make sure unit 3 and 5 are done first so you can copy+paste critical code and we can be consistent in our message\n",
    "* Please also read previous content in the word doc\n",
    "* This is a short unit! You can be explicit about this in the introduction.\n",
    "* Copy code used to build the model used in unit 5\n",
    "* Build a confusion matrix (again, copy code)\n",
    "* Manually calculate the following metrics. These will be introduced in the content. The goal here is to explain these in the context of your results:\n",
    "* Accuracy\n",
    "* Sensitivity/Recall\n",
    "* Specificity\n",
    "* Precision\n",
    "* False positive rate"
   ]
  },
  {
   "cell_type": "code",
   "execution_count": null,
   "id": "4eec3f24",
   "metadata": {
    "scrolled": true
   },
   "outputs": [],
   "source": [
    "import pandas\n",
    "\n",
    "#Import the data from the .csv file\n",
    "dataset = pandas.read_csv('Data/snow_objects.csv', delimiter=\"\\t\")\n",
    "\n",
    "#Let's have a look at the data\n",
    "dataset"
   ]
  },
  {
   "source": [
    "TODO - everything else! Up to you, please try to keep it at a reasonable length by maximising code-reuse within this unit and from previous modules where possible."
   ],
   "cell_type": "markdown",
   "metadata": {}
  }
 ],
 "metadata": {
  "kernelspec": {
   "name": "python3",
   "display_name": "Python 3.7.10 64-bit ('ml_crash_course': conda)"
  },
  "language_info": {
   "codemirror_mode": {
    "name": "ipython",
    "version": 3
   },
   "file_extension": ".py",
   "mimetype": "text/x-python",
   "name": "python",
   "nbconvert_exporter": "python",
   "pygments_lexer": "ipython3",
   "version": "3.7.10"
  },
  "interpreter": {
   "hash": "a970c7e51787c6ef7f3c805442fbb5a30ae2745635e1d2514e62d936ba85c55c"
  }
 },
 "nbformat": 4,
 "nbformat_minor": 5
}