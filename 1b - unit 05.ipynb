{
 "metadata": {
  "language_info": {
   "codemirror_mode": {
    "name": "ipython",
    "version": 3
   },
   "file_extension": ".py",
   "mimetype": "text/x-python",
   "name": "python",
   "nbconvert_exporter": "python",
   "pygments_lexer": "ipython3",
   "version": "3.8.5"
  },
  "orig_nbformat": 2,
  "kernelspec": {
   "name": "python385jvsc74a57bd05fd7d2d989b956829c9ad45cc6f2d78f0054d35d23dba8942e8fbd9b2870e6f3",
   "display_name": "Python 3.8.5 64-bit ('venv')"
  },
  "metadata": {
   "interpreter": {
    "hash": "5fd7d2d989b956829c9ad45cc6f2d78f0054d35d23dba8942e8fbd9b2870e6f3"
   }
  }
 },
 "nbformat": 4,
 "nbformat_minor": 2,
 "cells": [
  {
   "source": [
    "# Exercise: Learning Rate\n",
    "\n",
    "Unit 5 - exercise 14 - Build model, adjust learning rate, see change in training\n",
    "\n",
    "What we’re trying to teach:\n",
    "\n",
    "- Learning rate\n",
    "- See change in training speed\n",
    "- Put learning rate too high\n",
    "- Put it too low\n",
    "- Tune it just right\n",
    "\n",
    "\n",
    "## Preparing data\n",
    "In this unit we are using fictional investment banking dataset, that correlates the amount of money accrued according to the age of accounts.\n",
    "\n"
   ],
   "cell_type": "markdown",
   "metadata": {}
  },
  {
   "cell_type": "code",
   "execution_count": 61,
   "metadata": {},
   "outputs": [
    {
     "output_type": "stream",
     "name": "stdout",
     "text": [
      "                             Account ID  Account Age  Total Accrued\n0  106440e8-775d-4357-8485-d3923036b6c1           48          41239\n1  b2c6c687-9c1a-4171-86d2-3ccf3759931d           12            920\n2  db5f9ba8-0b3c-4fed-87fd-665bb273cbda           43          27851\n3  73aa1fe8-dece-4aa5-a763-ddee06ef5aab           25           4304\n4  213b5e44-60ce-447a-b7c3-12b465828af8           31          12805\n<class 'pandas.core.frame.DataFrame'>\nRangeIndex: 1200 entries, 0 to 1199\nData columns (total 3 columns):\n #   Column         Non-Null Count  Dtype \n---  ------         --------------  ----- \n 0   Account ID     1200 non-null   object\n 1   Account Age    1200 non-null   int64 \n 2   Total Accrued  1200 non-null   int64 \ndtypes: int64(2), object(1)\nmemory usage: 28.2+ KB\nNone\n"
     ]
    }
   ],
   "source": [
    "# Import everything we will need for this unit\n",
    "import pandas as pd\n",
    "import numpy as np\n",
    "import operator\n",
    "import time\n",
    "import matplotlib.pyplot as plt\n",
    "import matplotlib.patches as mpatches\n",
    "import PolynomialLinearRegression as plr\n",
    "from sklearn.linear_model import LinearRegression\n",
    "from sklearn.metrics import mean_squared_error, r2_score\n",
    "from sklearn.preprocessing import PolynomialFeatures\n",
    "\n",
    "\n",
    "\n",
    "# Load data from our dataset file into a pandas dataframe\n",
    "dataset = pd.read_csv('Data/investments.csv', index_col=False, sep=\",\",header=0)\n",
    "\n",
    "# Check what's in the dataset\n",
    "print(dataset.head())\n",
    "print(dataset.info())\n",
    "\n"
   ]
  },
  {
   "source": [
    "## Hyperparameters\n",
    "\n",
    "........\n",
    "### Learning Rate\n",
    "The value that determines the \"step size\" taken in each iteration when minimizing the cost function (we will take a deeper look at this in the next Unit).\n",
    "\n",
    "\n",
    "\n",
    "\n",
    "\n",
    "In the following exercises we will use a custom implementation of Polynomial Linear Regression that let's us set the hyperparameters. We will then compare the results to the previous model and see if **tuning** hyperparams can improve performance.\n",
    "\n",
    "TIME IT"
   ],
   "cell_type": "markdown",
   "metadata": {}
  },
  {
   "cell_type": "code",
   "execution_count": 62,
   "metadata": {
    "tags": []
   },
   "outputs": [
    {
     "output_type": "stream",
     "name": "stdout",
     "text": [
      "RMSE metrics: 1720.2644273858323\nR2 metrics: 0.9797168087459343\nTraining Time: 69.77483899936487 ms\n"
     ]
    }
   ],
   "source": [
    "# Train model with a very high Learning Rate\n",
    "X = dataset[\"Account Age\"].values.reshape(-1,1)\n",
    "y = dataset[\"Total Accrued\"].values\n",
    "\n",
    "# Initialize and train model\n",
    "# setting values for learning rate and number of iterations\n",
    "custom_model_0 = plr.PolynomialLinearRegression()\n",
    "t0 = time.perf_counter()\n",
    "weights, J_history = custom_model_0.fit(X, y, learning_rate=0.4, num_iters=1000)\n",
    "t1 = time.perf_counter()\n",
    "\n",
    "# Generate predictions based on original dataset\n",
    "y_hat = custom_model_0.predict(X)\n",
    "\n",
    "rmse_0 = np.sqrt(mean_squared_error(y,y_hat))\n",
    "r2_0 = r2_score(y,y_hat)\n",
    "delta_0 = (t1 - t0) * 1000\n",
    "print(f\"RMSE metrics: {rmse_0}\")\n",
    "print(f\"R2 metrics: {r2_0}\")\n",
    "print(f\"Training Time: {delta_0} ms\")\n",
    "\n"
   ]
  },
  {
   "cell_type": "code",
   "execution_count": 63,
   "metadata": {},
   "outputs": [
    {
     "output_type": "stream",
     "name": "stdout",
     "text": [
      "RMSE metrics: 15906.324312199453\nR2 metrics: -0.7341455029257367\nTraining Time: 138.19188900015433 ms\n"
     ]
    }
   ],
   "source": [
    "# use a very low Learning Rate\n",
    "\n",
    "custom_model_1 = plr.PolynomialLinearRegression()\n",
    "t2 = time.perf_counter()\n",
    "weights2, J_history2 = custom_model_1.fit(X, y, learning_rate=0.0000005, num_iters=1000)\n",
    "t3 = time.perf_counter()\n",
    "\n",
    "# Generate predictions based on original dataset\n",
    "y_hat_1 = custom_model_1.predict(X)\n",
    "\n",
    "rmse_1 = np.sqrt(mean_squared_error(y,y_hat_1))\n",
    "r2_1 = r2_score(y,y_hat_1)\n",
    "delta_1 = (t3 - t2) * 1000\n",
    "print(f\"RMSE metrics: {rmse_1}\")\n",
    "print(f\"R2 metrics: {r2_1}\")\n",
    "print(f\"Training Time: {delta_1} ms\")"
   ]
  },
  {
   "cell_type": "code",
   "execution_count": 64,
   "metadata": {},
   "outputs": [
    {
     "output_type": "stream",
     "name": "stdout",
     "text": [
      "RMSE metrics: 1867.6236495128403\nR2 metrics: 0.9760930266473363\nTraining Time: 83.1930670001384 ms\n"
     ]
    }
   ],
   "source": [
    "# Try an optimal Learning Rate\n",
    "\n",
    "custom_model_2 = plr.PolynomialLinearRegression()\n",
    "t4 = time.perf_counter()\n",
    "weights3, J_history3 = custom_model_2.fit(X, y, learning_rate=0.01, num_iters=1000)\n",
    "t5 = time.perf_counter()\n",
    "\n",
    "# Generate predictions based on original dataset\n",
    "y_hat_2 = custom_model_2.predict(X)\n",
    "\n",
    "rmse_2 = np.sqrt(mean_squared_error(y,y_hat_2))\n",
    "r2_2 = r2_score(y,y_hat_2)\n",
    "delta_2 = (t5 - t4) * 1000\n",
    "print(f\"RMSE metrics: {rmse_2}\")\n",
    "print(f\"R2 metrics: {r2_2}\")\n",
    "print(f\"Training Time: {delta_2} ms\")"
   ]
  },
  {
   "source": [
    "Draw a conclusion"
   ],
   "cell_type": "markdown",
   "metadata": {}
  },
  {
   "source": [
    "\n",
    "\n",
    "## Summary\n",
    "\n",
    "In this exercise ....."
   ],
   "cell_type": "markdown",
   "metadata": {}
  }
 ]
}