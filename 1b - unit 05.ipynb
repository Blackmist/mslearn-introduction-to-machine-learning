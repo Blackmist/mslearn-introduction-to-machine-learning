{
 "metadata": {
  "language_info": {
   "codemirror_mode": {
    "name": "ipython",
    "version": 3
   },
   "file_extension": ".py",
   "mimetype": "text/x-python",
   "name": "python",
   "nbconvert_exporter": "python",
   "pygments_lexer": "ipython3",
   "version": "3.8.5"
  },
  "orig_nbformat": 2,
  "kernelspec": {
   "name": "python385jvsc74a57bd05fd7d2d989b956829c9ad45cc6f2d78f0054d35d23dba8942e8fbd9b2870e6f3",
   "display_name": "Python 3.8.5 64-bit ('venv')"
  },
  "metadata": {
   "interpreter": {
    "hash": "5fd7d2d989b956829c9ad45cc6f2d78f0054d35d23dba8942e8fbd9b2870e6f3"
   }
  }
 },
 "nbformat": 4,
 "nbformat_minor": 2,
 "cells": [
  {
   "source": [
    "# Exercise: Learning Rate\n",
    "\n",
    "Unit 5 - exercise 14 - Build model, adjust learning rate, see change in training\n",
    "\n",
    "What we’re trying to teach:\n",
    "\n",
    "- Learning rate\n",
    "- See change in training speed\n",
    "- Put learning rate too high\n",
    "- Put it too low\n",
    "- Tune it just right\n",
    "\n",
    "\n",
    "## Preparing data\n",
    "In this unit we are using fictional investment banking dataset, that correlates the amount of money accrued according to the age of accounts.\n",
    "\n"
   ],
   "cell_type": "markdown",
   "metadata": {}
  },
  {
   "cell_type": "code",
   "execution_count": 6,
   "metadata": {},
   "outputs": [
    {
     "output_type": "stream",
     "name": "stdout",
     "text": [
      "                             Account ID  Account Age  Total Accrued\n0  12cb0823-0069-4da2-8758-13b93c7789f3           43          27870\n1  19afd83c-f7d7-40a0-9de2-d503444e9e5e           18           2616\n2  5faf069d-70fd-49f9-a81b-030f97c5dcae           45          31158\n3  e6700ec6-8d29-44a5-9df8-ab4a3fa361be           10            758\n4  8c858376-1fed-4911-846f-c99ed170a80c           30          10468\n<class 'pandas.core.frame.DataFrame'>\nRangeIndex: 7200 entries, 0 to 7199\nData columns (total 3 columns):\n #   Column         Non-Null Count  Dtype \n---  ------         --------------  ----- \n 0   Account ID     7200 non-null   object\n 1   Account Age    7200 non-null   int64 \n 2   Total Accrued  7200 non-null   int64 \ndtypes: int64(2), object(1)\nmemory usage: 168.9+ KB\nNone\n"
     ]
    }
   ],
   "source": [
    "# Import everything we will need for this unit\n",
    "import pandas as pd\n",
    "import numpy as np\n",
    "import operator\n",
    "import time\n",
    "import matplotlib.pyplot as plt\n",
    "import matplotlib.patches as mpatches\n",
    "import PolynomialLinearRegression as plr\n",
    "from sklearn.linear_model import LinearRegression\n",
    "from sklearn.metrics import mean_squared_error, r2_score\n",
    "from sklearn.preprocessing import PolynomialFeatures\n",
    "\n",
    "\n",
    "\n",
    "# Load data from our dataset file into a pandas dataframe\n",
    "dataset = pd.read_csv('Data/investments_extended.csv', index_col=False, sep=\",\",header=0)\n",
    "\n",
    "# Check what's in the dataset\n",
    "print(dataset.head())\n",
    "print(dataset.info())\n",
    "\n"
   ]
  },
  {
   "source": [
    "## Hyperparameters\n",
    "\n",
    "........\n",
    "### Learning Rate\n",
    "The value that determines the \"step size\" taken in each iteration when minimizing the cost function (we will take a deeper look at this in the next Unit).\n",
    "\n",
    "\n",
    "\n",
    "\n",
    "\n",
    "In the following exercises we will use a custom implementation of Polynomial Linear Regression that let's us set the hyperparameters. We will then compare the results to the previous model and see if **tuning** hyperparams can improve performance.\n",
    "\n",
    "TIME IT"
   ],
   "cell_type": "markdown",
   "metadata": {}
  },
  {
   "cell_type": "code",
   "execution_count": 7,
   "metadata": {
    "tags": []
   },
   "outputs": [
    {
     "output_type": "stream",
     "name": "stdout",
     "text": [
      "RMSE metrics: 1851.4200866304325\nR2 metrics: 0.9764228961220857\nTraining Time: 725.122654000188 ms\n"
     ]
    }
   ],
   "source": [
    "# Train model with a very high Learning Rate\n",
    "X = dataset[\"Account Age\"].values.reshape(-1,1)\n",
    "y = dataset[\"Total Accrued\"].values\n",
    "\n",
    "# Initialize and train model\n",
    "# setting values for learning rate and number of iterations\n",
    "custom_model_0 = plr.PolynomialLinearRegression()\n",
    "t0 = time.perf_counter()\n",
    "weights, J_history = custom_model_0.fit(X, y, learning_rate=0.1, num_iters=500)\n",
    "t1 = time.perf_counter()\n",
    "\n",
    "# Generate predictions based on original dataset\n",
    "y_hat = custom_model_0.predict(X)\n",
    "\n",
    "rmse_0 = np.sqrt(mean_squared_error(y,y_hat))\n",
    "r2_0 = r2_score(y,y_hat)\n",
    "delta_0 = (t1 - t0) * 1000\n",
    "print(f\"RMSE metrics: {rmse_0}\")\n",
    "print(f\"R2 metrics: {r2_0}\")\n",
    "print(f\"Training Time: {delta_0} ms\")\n",
    "\n"
   ]
  },
  {
   "cell_type": "code",
   "execution_count": 8,
   "metadata": {},
   "outputs": [
    {
     "output_type": "stream",
     "name": "stdout",
     "text": [
      "RMSE metrics: 15939.802794863803\nR2 metrics: -0.747617571275125\nTraining Time: 251.12061000027097 ms\n"
     ]
    }
   ],
   "source": [
    "# use a very low Learning Rate\n",
    "\n",
    "custom_model_1 = plr.PolynomialLinearRegression()\n",
    "t2 = time.perf_counter()\n",
    "weights2, J_history2 = custom_model_1.fit(X, y, learning_rate=0.0000001, num_iters=500)\n",
    "t3 = time.perf_counter()\n",
    "\n",
    "# Generate predictions based on original dataset\n",
    "y_hat_1 = custom_model_1.predict(X)\n",
    "\n",
    "rmse_1 = np.sqrt(mean_squared_error(y,y_hat_1))\n",
    "r2_1 = r2_score(y,y_hat_1)\n",
    "delta_1 = (t3 - t2) * 1000\n",
    "print(f\"RMSE metrics: {rmse_1}\")\n",
    "print(f\"R2 metrics: {r2_1}\")\n",
    "print(f\"Training Time: {delta_1} ms\")"
   ]
  },
  {
   "cell_type": "code",
   "execution_count": 9,
   "metadata": {},
   "outputs": [
    {
     "output_type": "stream",
     "name": "stdout",
     "text": [
      "RMSE metrics: 1976.9371894155915\nR2 metrics: 0.9731177102961686\nTraining Time: 292.9743139998209 ms\n"
     ]
    }
   ],
   "source": [
    "# Try an optimal Learning Rate\n",
    "\n",
    "custom_model_2 = plr.PolynomialLinearRegression()\n",
    "t4 = time.perf_counter()\n",
    "weights3, J_history3 = custom_model_2.fit(X, y, learning_rate=0.01, num_iters=500)\n",
    "t5 = time.perf_counter()\n",
    "\n",
    "# Generate predictions based on original dataset\n",
    "y_hat_2 = custom_model_2.predict(X)\n",
    "\n",
    "rmse_2 = np.sqrt(mean_squared_error(y,y_hat_2))\n",
    "r2_2 = r2_score(y,y_hat_2)\n",
    "delta_2 = (t5 - t4) * 1000\n",
    "print(f\"RMSE metrics: {rmse_2}\")\n",
    "print(f\"R2 metrics: {r2_2}\")\n",
    "print(f\"Training Time: {delta_2} ms\")"
   ]
  },
  {
   "source": [
    "Draw a conclusion"
   ],
   "cell_type": "markdown",
   "metadata": {}
  },
  {
   "source": [
    "\n",
    "\n",
    "## Summary\n",
    "\n",
    "In this exercise ....."
   ],
   "cell_type": "markdown",
   "metadata": {}
  }
 ]
}