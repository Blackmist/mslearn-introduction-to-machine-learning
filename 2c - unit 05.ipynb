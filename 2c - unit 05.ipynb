{
 "cells": [
  {
   "cell_type": "markdown",
   "id": "70d0b5f9",
   "metadata": {},
   "source": [
    "# Exercise: Imbalanced data model bias\n",
    "\n",
    "* Please make sure unit 3 is done first so you can copy+paste critical code and we can be consistent in our message\n",
    "* Please also read previous content in the word doc\n",
    "* Make a model using default settings that predicts hiker or non-hiker (ie binary classification). There a  rough example down the bottom of 2c dataset generation\n",
    "* We want to build some confusion matrices for biased data/models. Again, there's an example in 2c dataset generation. The related code is ugly though, so please try to be tidier than I have. You might want to copy accuracy-related metrics from the 2b Unit 3\n",
    "* Demonstrate it all looks ok on the snow_objects.csv data, but when it needs to process data that is differently distributed (snow_objects_balanced), it doesn't do well. \n",
    "* We want to change weighting of the labels in the cost function to avoid bias \n",
    "* OR\n",
    "* We want to resample our data to deal with the imbalances\n",
    "(whichever is easier). If the unit is not too long, do both."
   ]
  },
  {
   "cell_type": "code",
   "execution_count": null,
   "id": "4eec3f24",
   "metadata": {
    "scrolled": true
   },
   "outputs": [],
   "source": [
    "import pandas\n",
    "\n",
    "#Import the data from the .csv file\n",
    "dataset = pandas.read_csv('Data/snow_objects.csv', delimiter=\"\\t\")\n",
    "\n",
    "#Let's have a look at the data\n",
    "dataset"
   ]
  },
  {
   "source": [
    "TABULATE OR GRAPH THE LABEL FREQUENCIES"
   ],
   "cell_type": "markdown",
   "metadata": {}
  },
  {
   "cell_type": "code",
   "execution_count": null,
   "metadata": {},
   "outputs": [],
   "source": []
  },
  {
   "source": [
    "TODO - everything else! Up to you, please try to keep it ata reasonable length by maximising code-reuse within this unit and from previous modules where possible."
   ],
   "cell_type": "markdown",
   "metadata": {}
  }
 ],
 "metadata": {
  "kernelspec": {
   "name": "python3",
   "display_name": "Python 3.7.10 64-bit ('ml_crash_course': conda)"
  },
  "language_info": {
   "codemirror_mode": {
    "name": "ipython",
    "version": 3
   },
   "file_extension": ".py",
   "mimetype": "text/x-python",
   "name": "python",
   "nbconvert_exporter": "python",
   "pygments_lexer": "ipython3",
   "version": "3.7.10"
  },
  "interpreter": {
   "hash": "a970c7e51787c6ef7f3c805442fbb5a30ae2745635e1d2514e62d936ba85c55c"
  }
 },
 "nbformat": 4,
 "nbformat_minor": 5
}