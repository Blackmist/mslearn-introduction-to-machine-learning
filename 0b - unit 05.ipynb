{
 "cells": [
  {
   "cell_type": "markdown",
   "id": "6aee698d",
   "metadata": {},
   "source": [
    "# Exercise: Linear regression using different regression methods"
   ]
  },
  {
   "cell_type": "markdown",
   "id": "f981496b",
   "metadata": {},
   "source": [
    "In this exercise, we will have a look at two different methods used in linear regression."
   ]
  },
  {
   "cell_type": "markdown",
   "id": "98fe99e5",
   "metadata": {},
   "source": [
    "## Loading the data"
   ]
  },
  {
   "cell_type": "markdown",
   "id": "ede17fa3",
   "metadata": {},
   "source": [
    "Let's start by having a look at the data."
   ]
  },
  {
   "cell_type": "code",
   "execution_count": 1,
   "id": "a7dc4683",
   "metadata": {},
   "outputs": [
    {
     "name": "stdout",
     "output_type": "stream",
     "text": [
      "    shoe_length  height\n",
      "0            24     167\n",
      "1            18     148\n",
      "2            28     180\n",
      "3            31     198\n",
      "4            16     153\n",
      "5            34     207\n",
      "6            25     183\n",
      "7            19     157\n",
      "8            25     167\n",
      "9            33     188\n",
      "10           19     152\n",
      "11           29     184\n",
      "12           29     174\n",
      "13           32     191\n",
      "14           19     164\n",
      "15           25     176\n",
      "16           24     177\n",
      "17           15     145\n",
      "18           16     171\n",
      "19           33     200\n",
      "20           28     175\n",
      "21           18     149\n",
      "22           15     149\n",
      "23           19     149\n",
      "24           26     175\n",
      "25           24     183\n",
      "26           28     190\n",
      "27           16     172\n",
      "28           22     175\n",
      "29           31     175\n",
      "30           21     164\n",
      "31           19     150\n",
      "32           21     175\n",
      "33           37     199\n",
      "34           11     150\n",
      "35           37     200\n",
      "36           22     177\n",
      "37           22     167\n",
      "38           20     160\n",
      "39           39     190\n",
      "40           11     149\n",
      "41           33     188\n",
      "42           26     170\n",
      "43           38     198\n",
      "44           12     179\n",
      "45           29     179\n",
      "46           21     173\n",
      "47           19     149\n",
      "48           15     168\n",
      "49           37     207\n",
      "50           25     173\n",
      "51           22     149\n",
      "52           13     148\n",
      "53           26     149\n",
      "54           23     173\n",
      "55           27     187\n",
      "56           23     188\n",
      "57           19     177\n",
      "58           20     187\n",
      "59           36     178\n"
     ]
    }
   ],
   "source": [
    "from sklearn.model_selection import train_test_split\n",
    "from sklearn.linear_model import LinearRegression, Ridge\n",
    "from sklearn.metrics import mean_squared_error\n",
    "from sklearn.preprocessing import StandardScaler\n",
    "from numpy import  reshape, array\n",
    "import pandas as pd\n",
    "import matplotlib.pyplot as graph\n",
    "\n",
    "\n",
    "\n",
    "data = {\n",
    "    'shoe_length' : [24, 18, 28, 31, 16, 34, 25, 19, 25, 33,\n",
    "                    19, 29, 29, 32, 19, 25, 24, 15, 16, 33,\n",
    "                    28, 18, 15, 19, 26, 24, 28, 16, 22, 31,\n",
    "                    21, 19, 21, 37, 11, 37, 22, 22, 20, 39,\n",
    "                    11, 33, 26, 38, 12, 29, 21, 19, 15, 37,\n",
    "                    25, 22, 13, 26, 23, 27, 23, 19, 20, 36,\n",
    "                    ],\n",
    "    'height': [167, 148, 180, 198, 153, 207, 183, 157, 167, 188,\n",
    "               152, 184, 174, 191, 164, 176, 177, 145, 171, 200,\n",
    "               175, 149, 149, 149, 175, 183, 190, 172, 175, 175,\n",
    "               164, 150, 175, 199, 150, 200, 177, 167, 160, 190,\n",
    "               149, 188, 170, 198, 179, 179, 173, 149, 168, 207,\n",
    "               173, 149, 148, 149, 173, 187, 188, 177, 187, 178]\n",
    "}\n",
    "\n",
    "\n",
    "# Convert it into a table using pandas\n",
    "dataset = pd.DataFrame(data)\n",
    "\n",
    "# Print the data\n",
    "print(dataset)"
   ]
  },
  {
   "cell_type": "markdown",
   "id": "66544805",
   "metadata": {},
   "source": [
    "## First method: Ordinary Least Squares Regression"
   ]
  },
  {
   "cell_type": "markdown",
   "id": "ddecb338",
   "metadata": {},
   "source": [
    "The first method we'll look at is called \"Ordinary Least Squares Regression\". It works by minimizing the residual sum of squares between the actual and predicted labels of the dataset. We will use the RMSE value to gauge the quality of the regression."
   ]
  },
  {
   "cell_type": "code",
   "execution_count": 2,
   "id": "58a56759",
   "metadata": {},
   "outputs": [
    {
     "name": "stdout",
     "output_type": "stream",
     "text": [
      "RMSE Ordinary Least Squares: 10.618463582658775\n"
     ]
    }
   ],
   "source": [
    "X = array(dataset['shoe_length'])\n",
    "y = array(dataset['height'])\n",
    "\n",
    "#reshape arrays for the fitting processes\n",
    "\n",
    "X = X.reshape(-1,1)\n",
    "y = y.reshape(-1,1)\n",
    "\n",
    "model_ols = LinearRegression().fit(X,y)\n",
    "y_ols_pred = model_ols.predict(X)\n",
    "rmse_ols = mean_squared_error(y, y_ols_pred, squared=False)\n",
    "print(f\"RMSE Ordinary Least Squares: {rmse_ols}\")"
   ]
  },
  {
   "cell_type": "markdown",
   "id": "c8694563",
   "metadata": {},
   "source": [
    "## Second method: Ridge Regression"
   ]
  },
  {
   "cell_type": "markdown",
   "id": "3ea4da5f",
   "metadata": {},
   "source": [
    "The second method we'll look at is called \"Ridge Regression\". Similarly to the \"Ordinary Least Squares\" method, this method works by minimizing the residual sum of squares between the actual and predicted labels of the dataset, but is differentiated from it by the inclusion of an additional penalty term in the cost function. Again, we will use the RMSE value to gauge the quality of the regression."
   ]
  },
  {
   "cell_type": "code",
   "execution_count": 26,
   "id": "71d741ff",
   "metadata": {},
   "outputs": [
    {
     "name": "stdout",
     "output_type": "stream",
     "text": [
      "RMSE Ridge: 10.618464417697345\n"
     ]
    }
   ],
   "source": [
    "model_ridge = Ridge().fit(X,y)\n",
    "y_ridge_pred = model_ridge.predict(X)\n",
    "rmse_ridge = mean_squared_error(y, y_ridge_pred, squared=False)\n",
    "print(f\"RMSE Ridge: {rmse_ridge}\")\n"
   ]
  },
  {
   "cell_type": "markdown",
   "id": "5145f572",
   "metadata": {},
   "source": [
    "## Visualization"
   ]
  },
  {
   "cell_type": "markdown",
   "id": "c14afd58",
   "metadata": {},
   "source": [
    "The RMSE values obtained from the two models seem very close. Let's plot the regression lines of these two models so we can get a better idea of how they fitted the data."
   ]
  },
  {
   "cell_type": "code",
   "execution_count": 27,
   "id": "16275dcf",
   "metadata": {},
   "outputs": [
    {
     "data": {
      "image/png": "[encoded data removed]",
      "text/plain": [
       "<Figure size 432x288 with 1 Axes>"
      ]
     },
     "metadata": {
      "needs_background": "light"
     },
     "output_type": "display_data"
    }
   ],
   "source": [
    "# Show a graph of the result\n",
    "# Don't worry about how this is done for now\n",
    "%matplotlib inline\n",
    "intercept_ols = model_ols.intercept_\n",
    "slope_ols = model_ols.coef_\n",
    "line_ols = slope_ols * X + intercept_ols\n",
    "intercept_ridge = model_ridge.intercept_\n",
    "slope_ridge = model_ridge.coef_\n",
    "line_ridge = slope_ridge * X + intercept_ridge\n",
    "graph.scatter(X, y,  color='black')\n",
    "graph.plot(X, line_ols, '-', c = 'blue', linewidth = 3)\n",
    "graph.plot(X, line_ridge, '-', c = 'orange', linewidth = 1)\n",
    "graph.ylabel('Person height')\n",
    "graph.xlabel(\"Shoe length\")\n",
    "graph.title('height as a function of shoe length')\n",
    "graph.show()"
   ]
  },
  {
   "cell_type": "markdown",
   "id": "9ba5aab8",
   "metadata": {},
   "source": [
    "The plot confirms what the RMSE values told us previously. While both methods perform very similary on our dataset, it is important to note this may not be the case for other datasets, and that the choice of which regression method to use should be made accordingly."
   ]
  },
  {
   "cell_type": "markdown",
   "id": "cbd18e0c",
   "metadata": {},
   "source": [
    "## Summary"
   ]
  },
  {
   "cell_type": "markdown",
   "id": "9c101e1e",
   "metadata": {},
   "source": [
    "In this exercise, you learned about the differences between \"Ordinary Least Squares Regression\" and \"Ridge Regression\", and how to use them to fit a regression line to a given dataset."
   ]
  }
 ],
 "metadata": {
  "kernelspec": {
   "display_name": "Python 3",
   "language": "python",
   "name": "python3"
  },
  "language_info": {
   "codemirror_mode": {
    "name": "ipython",
    "version": 3
   },
   "file_extension": ".py",
   "mimetype": "text/x-python",
   "name": "python",
   "nbconvert_exporter": "python",
   "pygments_lexer": "ipython3",
   "version": "3.7.7"
  }
 },
 "nbformat": 4,
 "nbformat_minor": 5
}
