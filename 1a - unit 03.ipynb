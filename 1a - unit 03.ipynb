{
 "cells": [
  {
   "cell_type": "markdown",
   "id": "2b794793",
   "metadata": {},
   "source": [
    "# Exercise: Train a simple linear regression model\n",
    "In this exercise, we will train a simple linear regression model."
   ]
  },
  {
   "cell_type": "markdown",
   "id": "2e3cd4a0",
   "metadata": {},
   "source": [
    "## Loading data\n",
    "Let's begin by having a look at our data."
   ]
  },
  {
   "cell_type": "code",
   "execution_count": 3,
   "id": "81e35372",
   "metadata": {},
   "outputs": [
    {
     "name": "stdout",
     "output_type": "stream",
     "text": [
      "    shoe_length  height\n",
      "0            24     167\n",
      "1            18     148\n",
      "2            28     180\n",
      "3            31     198\n",
      "4            16     153\n",
      "5            34     207\n",
      "6            25     183\n",
      "7            19     157\n",
      "8            25     167\n",
      "9            33     188\n",
      "10           19     152\n",
      "11           29     184\n",
      "12           29     174\n",
      "13           32     191\n",
      "14           19     164\n",
      "15           25     176\n",
      "16           24     177\n",
      "17           15     145\n",
      "18           16     171\n",
      "19           33     200\n",
      "20           28     175\n",
      "21           18     149\n",
      "22           15     149\n",
      "23           19     149\n",
      "24           26     175\n",
      "25           24     183\n",
      "26           28     190\n",
      "27           16     172\n",
      "28           22     175\n",
      "29           31     175\n"
     ]
    }
   ],
   "source": [
    "import pandas as pd\n",
    "import matplotlib.pyplot as graph\n",
    "from matplotlib import cm\n",
    "\n",
    "from sklearn.model_selection import train_test_split\n",
    "from sklearn.linear_model import LinearRegression\n",
    "from sklearn.metrics import mean_squared_error\n",
    "from sklearn.preprocessing import StandardScaler\n",
    "from numpy import  reshape, array\n",
    "import joblib\n",
    "\n",
    "import pandas\n",
    "\n",
    "# Make a dictionary of data for shoe sizes in cm\n",
    "# and person height in cm\n",
    "data = {\n",
    "    'shoe_length' : [24, 18, 28, 31, 16, 34, 25, 19, 25, 33,\n",
    "                    19, 29, 29, 32, 19, 25, 24, 15, 16, 33,\n",
    "                    28, 18, 15, 19, 26, 24, 28, 16, 22, 31,\n",
    "                    ],\n",
    "    'height': [167, 148, 180, 198, 153, 207, 183, 157, 167, 188,\n",
    "               152, 184, 174, 191, 164, 176, 177, 145, 171, 200,\n",
    "               175, 149, 149, 149, 175, 183, 190, 172, 175, 175]\n",
    "}\n",
    "\n",
    "# Convert it into a table using pandas\n",
    "dataset = pandas.DataFrame(data)\n",
    "\n",
    "# Print the data\n",
    "print(dataset)"
   ]
  },
  {
   "cell_type": "markdown",
   "id": "2bc850b5",
   "metadata": {},
   "source": [
    "The y values, or labels, are represented by the 'shoe_length' column. These are the values we are training our model to predict, based on the values contained in the 'height' column"
   ]
  },
  {
   "cell_type": "markdown",
   "id": "699cede9",
   "metadata": {},
   "source": [
    "## Data visualization\n",
    "Let's have a look at how the labels are distributed."
   ]
  },
  {
   "cell_type": "code",
   "execution_count": 15,
   "id": "ba77cb78",
   "metadata": {},
   "outputs": [
    {
     "data": {
      "image/png": "[encoded data removed]",
      "text/plain": [
       "<Figure size 432x288 with 2 Axes>"
      ]
     },
     "metadata": {
      "needs_background": "light"
     },
     "output_type": "display_data"
    }
   ],
   "source": [
    "%matplotlib inline\n",
    "\n",
    "xval = dataset['shoe_length']\n",
    "\n",
    "# Create a figure for 2 subplots (2 rows, 1 column)\n",
    "fig, ax = graph.subplots(2, 1)\n",
    "\n",
    "# Plot the histogram   \n",
    "ax[0].hist(xval, bins='auto')\n",
    "ax[0].set_ylabel('people')\n",
    "\n",
    "# Add lines for the mean and median\n",
    "ax[0].axvline(xval.mean(), color='green', linestyle='dashed', linewidth=2)\n",
    "ax[0].axvline(xval.median(), color='red', linestyle='dashed', linewidth=2)\n",
    "\n",
    "# Plot the boxplot   \n",
    "ax[1].boxplot(xval, vert=False)\n",
    "ax[1].set_xlabel('shoe length')\n",
    "\n",
    "# Add a title to the Figure\n",
    "fig.suptitle('shoe_length')\n",
    "\n",
    "graph.show()\n",
    "\n"
   ]
  },
  {
   "cell_type": "markdown",
   "id": "e70e197d",
   "metadata": {},
   "source": [
    "The mean and median values tell us that the majority of people in this dataset have a shoe length of under 24cm or so. We can also note an absence of outliers, meaning that none of the people in this dataset have exceptionally big or small feet. "
   ]
  },
  {
   "cell_type": "markdown",
   "id": "8b611423",
   "metadata": {},
   "source": [
    "It can also be useful to plot the relation between the labels and features, to gain a more in-depth understanding of how they relate to each other."
   ]
  },
  {
   "cell_type": "code",
   "execution_count": 12,
   "id": "0dc1cb35",
   "metadata": {},
   "outputs": [
    {
     "data": {
      "image/png": "[encoded data removed]",
      "text/plain": [
       "<Figure size 432x288 with 1 Axes>"
      ]
     },
     "metadata": {
      "needs_background": "light"
     },
     "output_type": "display_data"
    }
   ],
   "source": [
    "yval = dataset['shoe_length']\n",
    "%matplotlib inline\n",
    "graph.scatter(xval, yval,  color='steelblue')\n",
    "graph.ylabel('height')\n",
    "graph.xlabel('shoe length')\n",
    "graph.title('height as a function of shoe length')\n",
    "graph.show()"
   ]
  },
  {
   "cell_type": "markdown",
   "id": "2dcd2709",
   "metadata": {},
   "source": [
    "We can see that there is a positive correlation between a person's shoe length and their height. Intuitively, this makes sense, as we would expect taller people to have larger feet."
   ]
  },
  {
   "cell_type": "markdown",
   "id": "87640a4f",
   "metadata": {},
   "source": [
    "## Simple linear regression\n",
    "Let's further examine the relationship between our labels and features by fitting a line to the dataset. We will do this by fitting a simple linear regression model to the dataset."
   ]
  },
  {
   "cell_type": "code",
   "execution_count": 21,
   "id": "30f5b169",
   "metadata": {},
   "outputs": [
    {
     "data": {
      "image/png": "[encoded data removed]",
      "text/plain": [
       "<Figure size 432x288 with 1 Axes>"
      ]
     },
     "metadata": {
      "needs_background": "light"
     },
     "output_type": "display_data"
    }
   ],
   "source": [
    "X = array(dataset['shoe_length'])\n",
    "y = array(dataset['height'])\n",
    "\n",
    "#reshape arrays for 'LinearRegression'\n",
    "\n",
    "X = X.reshape(-1,1)\n",
    "y = y.reshape(-1,1)\n",
    "\n",
    "model = LinearRegression().fit(X,y)\n",
    "\n",
    "y_pred = model.predict(X)\n",
    "\n",
    "# Show a graph of the result\n",
    "# Don't worry about how this is done for now\n",
    "%matplotlib inline\n",
    "intercept = model.intercept_\n",
    "slope = model.coef_\n",
    "line = slope * X + intercept\n",
    "graph.scatter(X, y,  color='steelblue')\n",
    "graph.plot(X, line, '-', c = 'orange')\n",
    "graph.ylabel('height')\n",
    "graph.xlabel('shoe length')\n",
    "graph.title('height as a function of shoe length')\n",
    "graph.show()\n"
   ]
  },
  {
   "cell_type": "markdown",
   "id": "9d71dbb2",
   "metadata": {},
   "source": [
    "The line seems to fit the data quite well, validating our hypothesis that there is a positive correlation between a person's shoe length and height."
   ]
  },
  {
   "cell_type": "markdown",
   "id": "8d0f92d2",
   "metadata": {},
   "source": [
    "## Summary\n",
    "We covered the following concepts in this exercise:\n",
    "\n",
    "- Quickly visualize a dataset.\n",
    "- Build a Single Linear Regression Model.\n"
   ]
  }
 ],
 "metadata": {
  "kernelspec": {
   "display_name": "Python 3",
   "language": "python",
   "name": "python3"
  },
  "language_info": {
   "codemirror_mode": {
    "name": "ipython",
    "version": 3
   },
   "file_extension": ".py",
   "mimetype": "text/x-python",
   "name": "python",
   "nbconvert_exporter": "python",
   "pygments_lexer": "ipython3",
   "version": "3.7.7"
  }
 },
 "nbformat": 4,
 "nbformat_minor": 5
}
