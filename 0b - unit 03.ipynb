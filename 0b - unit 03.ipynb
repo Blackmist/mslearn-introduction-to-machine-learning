{
 "metadata": {
  "language_info": {
   "codemirror_mode": {
    "name": "ipython",
    "version": 3
   },
   "file_extension": ".py",
   "mimetype": "text/x-python",
   "name": "python",
   "nbconvert_exporter": "python",
   "pygments_lexer": "ipython3",
   "version": "3.8.5"
  },
  "orig_nbformat": 2,
  "kernelspec": {
   "name": "pythonjvsc74a57bd05fd7d2d989b956829c9ad45cc6f2d78f0054d35d23dba8942e8fbd9b2870e6f3",
   "display_name": "Python 3.8.5  ('venv': venv)"
  },
  "metadata": {
   "interpreter": {
    "hash": "5fd7d2d989b956829c9ad45cc6f2d78f0054d35d23dba8942e8fbd9b2870e6f3"
   }
  }
 },
 "nbformat": 4,
 "nbformat_minor": 2,
 "cells": [
  {
   "source": [
    "# Exercise: Focus on the Data\n",
    "\n",
    "Briefly reminder of why we need to split data into train and test sets.\n",
    "\n",
    "## Preparing data\n",
    "\n",
    "Explain what's in our dataset and how we can understand it better by looking at it.\n"
   ],
   "cell_type": "markdown",
   "metadata": {}
  },
  {
   "cell_type": "code",
   "execution_count": 1,
   "metadata": {},
   "outputs": [
    {
     "output_type": "execute_result",
     "data": {
      "text/plain": [
       "   weight  cocoa_percent  sugar_percent  milk_percent  customer_happiness\n",
       "0     185             65             11            24                  47\n",
       "1     247             44             34            22                  55\n",
       "2     133             33             21            47                  35\n",
       "3     145             30             38            32                  34\n",
       "4     110             22             70             7                  40"
      ],
      "text/html": "<div>\n<style scoped>\n    .dataframe tbody tr th:only-of-type {\n        vertical-align: middle;\n    }\n\n    .dataframe tbody tr th {\n        vertical-align: top;\n    }\n\n    .dataframe thead th {\n        text-align: right;\n    }\n</style>\n<table border=\"1\" class=\"dataframe\">\n  <thead>\n    <tr style=\"text-align: right;\">\n      <th></th>\n      <th>weight</th>\n      <th>cocoa_percent</th>\n      <th>sugar_percent</th>\n      <th>milk_percent</th>\n      <th>customer_happiness</th>\n    </tr>\n  </thead>\n  <tbody>\n    <tr>\n      <th>0</th>\n      <td>185</td>\n      <td>65</td>\n      <td>11</td>\n      <td>24</td>\n      <td>47</td>\n    </tr>\n    <tr>\n      <th>1</th>\n      <td>247</td>\n      <td>44</td>\n      <td>34</td>\n      <td>22</td>\n      <td>55</td>\n    </tr>\n    <tr>\n      <th>2</th>\n      <td>133</td>\n      <td>33</td>\n      <td>21</td>\n      <td>47</td>\n      <td>35</td>\n    </tr>\n    <tr>\n      <th>3</th>\n      <td>145</td>\n      <td>30</td>\n      <td>38</td>\n      <td>32</td>\n      <td>34</td>\n    </tr>\n    <tr>\n      <th>4</th>\n      <td>110</td>\n      <td>22</td>\n      <td>70</td>\n      <td>7</td>\n      <td>40</td>\n    </tr>\n  </tbody>\n</table>\n</div>"
     },
     "metadata": {},
     "execution_count": 1
    }
   ],
   "source": [
    "import pandas as pd\n",
    "\n",
    "# Load data from our dataset file into a pandas dataframe\n",
    "dataset = pd.read_csv('Data/chocolate data.txt', index_col=False, sep=\"\\t\",header=0)\n",
    "\n",
    "# Let's take a look at the data\n",
    "dataset.head()\n"
   ]
  },
  {
   "source": [
    "We can use the `dataset.head()` to show just the headers and first rows our our dataset (we don't want to print everything if we have thousands of rows).\n",
    "\n",
    "But how much data is there?\n",
    "\n"
   ],
   "cell_type": "markdown",
   "metadata": {}
  },
  {
   "cell_type": "code",
   "execution_count": 2,
   "metadata": {},
   "outputs": [
    {
     "output_type": "execute_result",
     "data": {
      "text/plain": [
       "(100, 5)"
      ]
     },
     "metadata": {},
     "execution_count": 2
    }
   ],
   "source": [
    "dataset.shape"
   ]
  },
  {
   "source": [
    "The `shape` property of a dataset let's us know how many rows and columns it has.\n",
    "\n",
    "## Splitting Data into Train and Test Sets\n",
    "We are going to split our dataset into training and test sets using a 70/30 split.\n",
    "That means that 70% of our data will be used only to train out model, while the other 30% will be used to evaluate how well it performs.\n",
    "\n",
    "We also randomly shuffle our data before the split (we will explain why in a later chapter)."
   ],
   "cell_type": "markdown",
   "metadata": {}
  },
  {
   "cell_type": "code",
   "execution_count": 3,
   "metadata": {},
   "outputs": [
    {
     "output_type": "stream",
     "name": "stdout",
     "text": [
      "The shape for X_train is (70, 4)\nThe shape for y_train is (70,)\nThe shape for X_test is (30, 4)\nThe shape for y_test is (30,)\n"
     ]
    }
   ],
   "source": [
    "# Dataset 70/30 split here:\n",
    "import sklearn.model_selection as model_selection\n",
    "from sklearn.linear_model import LinearRegression\n",
    "\n",
    "# First we need to separate features and labels\n",
    "# X holds everything but the column with the labels\n",
    "X = dataset[[\"weight\", \"cocoa_percent\", \"sugar_percent\", \"milk_percent\"]]\n",
    "\n",
    "# y should have labels only\n",
    "y = dataset[\"customer_happiness\"]\n",
    "\n",
    "# This code randomly shuffles our data, then splits it into train and test datasets an a 70/30 ratio\n",
    "X_train, X_test, y_train, y_test = model_selection.train_test_split(X, y, train_size=0.70,test_size=0.30, random_state=101)\n",
    "\n",
    "# Let's check the shapes of the resulting sets\n",
    "print(f\"The shape for X_train is {X_train.shape}\")\n",
    "print(f\"The shape for y_train is {y_train.shape}\")\n",
    "print(f\"The shape for X_test is {X_test.shape}\")\n",
    "print(f\"The shape for y_test is {y_test.shape}\")\n"
   ]
  },
  {
   "source": [
    "As you can see we have 70 rows in the train sets, and 30 rows in the test sets.\n",
    "\n",
    "\n",
    "\n",
    "## Building a New Model\n",
    "To build our model we are goint to use the Linear Regression algorithm.\n"
   ],
   "cell_type": "markdown",
   "metadata": {}
  },
  {
   "cell_type": "code",
   "execution_count": 4,
   "metadata": {},
   "outputs": [],
   "source": [
    "# Training our model using linear regression, training features and labels\n",
    "model = LinearRegression().fit(X_train, y_train)"
   ]
  },
  {
   "source": [
    "\n",
    "It really is that simple!\n",
    "\n",
    "\n",
    "\n",
    "## Testing the Model\n",
    "There are two things we need to test on our new model:\n",
    "\n",
    " 1. Does it generate predictions at all? (this is basically checking with there are syntax errors in our code).\n",
    " 2. Are the predictions **reasonably** close to the values we expect?"
   ],
   "cell_type": "markdown",
   "metadata": {}
  },
  {
   "cell_type": "code",
   "execution_count": 5,
   "metadata": {},
   "outputs": [
    {
     "output_type": "stream",
     "name": "stdout",
     "text": [
      "    Predicted  Expected\n16  37.105292        48\n1   56.540508        55\n43  54.664053        47\n67  15.186745        10\n89  44.588821        52\n21  38.066163        43\n97  22.350649        19\n51  24.281470        19\n6   42.255609        41\n41  52.478854        49\n"
     ]
    }
   ],
   "source": [
    "from sklearn import metrics\n",
    "\n",
    "# To evaluate the model, we can make predictions using our test data\n",
    "y_pred = model.predict(X_test)\n",
    "\n",
    "# Builds a dataframe with Predicted and Expected values for comparison\n",
    "results_dataset = pd.DataFrame({'Predicted': y_pred, 'Expected': y_test})\n",
    "\n",
    "# Print the first ten rows so we can get a glimpse of how it performed\n",
    "print(results_dataset[:10])\n"
   ]
  },
  {
   "source": [
    "The output above shows that:\n",
    "\n",
    "1. The code works.\n",
    "2. The predictions are within the range of the values we expected.\n",
    "\n",
    "But can we get better, more accurate results?\n",
    "\n",
    "A better way to evaluate the model is to calculate its Mean Squared Error (MSE).\n",
    "\n",
    "We can make adjustments to the model later and measure the MRE again. If we get a lower MRE it leans that our model is improving and making better predictions."
   ],
   "cell_type": "markdown",
   "metadata": {}
  },
  {
   "cell_type": "code",
   "execution_count": 6,
   "metadata": {},
   "outputs": [
    {
     "output_type": "stream",
     "name": "stdout",
     "text": [
      "The mean squared error for this model is 41.37942823989544.\n"
     ]
    }
   ],
   "source": [
    "# Now calculate the model's Mean Squared Error\n",
    "mse = metrics.mean_squared_error(y_test, y_pred)\n",
    "\n",
    "print(f\"The mean squared error for this model is {mse}.\")"
   ]
  },
  {
   "source": [
    "## Summary\n",
    "You've reached a few goals on this exercise:\n",
    "\n",
    "- Quicky isualize data and shapes in your datasets.\n",
    "- Shuffle and split datasets into train and test sets.\n",
    "- Build a Linear Regression model.\n",
    "- Evaluate the model, by visually comparing results with the expected values and by calculating its Mean Squared Error (MSE)."
   ],
   "cell_type": "markdown",
   "metadata": {}
  }
 ]
}