{
 "cells": [
  {
   "cell_type": "markdown",
   "id": "edd76bd1",
   "metadata": {},
   "source": [
    "# Exercise: Fitting a Polynomial Curve"
   ]
  },
  {
   "cell_type": "markdown",
   "id": "70d0b5f9",
   "metadata": {},
   "source": [
    "In this exercise, we will ...\n",
    "\n",
    "Recall our in our previous exercise how... (see the protein meal content bit, and remind them how a straight line wasn't quite right)"
   ]
  },
  {
   "cell_type": "markdown",
   "id": "3f30ffbd",
   "metadata": {},
   "source": [
    "## Data visualisation"
   ]
  },
  {
   "cell_type": "markdown",
   "id": "b0e9f803",
   "metadata": {},
   "source": [
    "Let's start this exercise by loading in and having a look at our data.\n",
    "\n",
    "* See pox_outbreak_patients.csv.\n",
    "* Rename this csv file to dog_illness.csv\n",
    "* Update the filename in unit 05 and 03 (don't change anything else in these units)\n",
    "* In this code, load this file and show it in the normal way"
   ]
  },
  {
   "cell_type": "code",
   "execution_count": null,
   "id": "4eec3f24",
   "metadata": {
    "scrolled": true
   },
   "outputs": [],
   "source": [
    "import pandas as pd\n",
    "\n",
    "#Import the data from the .csv file\n"
   ]
  },
  {
   "cell_type": "markdown",
   "id": "774c01eb",
   "metadata": {},
   "source": [
    "# Simple Linear Regression\n",
    "\n",
    "Re-run the regression from the previous unit for temperature vs protein content. You'll see that it's not linear.\n"
   ]
  },
  {
   "cell_type": "code",
   "execution_count": null,
   "metadata": {},
   "outputs": [],
   "source": [
    "# eyeball the relationship\n",
    "\n",
    "import graphing\n",
    "\n",
    "Make graph here."
   ]
  },
  {
   "source": [
    "looks like... let;s fit the model..."
   ],
   "cell_type": "markdown",
   "metadata": {}
  },
  {
   "cell_type": "code",
   "execution_count": null,
   "id": "c616fed5",
   "metadata": {},
   "outputs": [],
   "source": [
    "import graphing\n",
    "\n",
    "Make graph here. See the previous exercise for how to show the trendline"
   ]
  },
  {
   "cell_type": "markdown",
   "id": "f032ba4e",
   "metadata": {},
   "source": [
    "Note that the straight line doesn't really work. say how you can see that (the residuals will not be normally distributed, but don't use fancy language like that). Let's calculate and R2 anyway"
   ]
  },
  {
   "cell_type": "code",
   "execution_count": null,
   "metadata": {},
   "outputs": [],
   "source": []
  },
  {
   "source": [
    "some comment about it being reasonable, but lets try to find a tighter relationship "
   ],
   "cell_type": "markdown",
   "metadata": {}
  },
  {
   "source": [
    "## Simple Polynomial Regression\n",
    "\n",
    "Something about fitting a polynomial."
   ],
   "cell_type": "markdown",
   "metadata": {}
  },
  {
   "cell_type": "code",
   "execution_count": null,
   "id": "8f4f0423",
   "metadata": {},
   "outputs": [],
   "source": [
    "Fit a quadratic polynomial. Try to use statsmodels if you can, because it makes everything consistent and simpler. If you can do so without manipulating the data manually, that would be best."
   ]
  },
  {
   "source": [
    "Comment that it looks better. Say we should check using R<sup>2</sup>. <--- note that `R<sup>2</sup>` in markdown gives you your nice formatting"
   ],
   "cell_type": "markdown",
   "metadata": {}
  },
  {
   "cell_type": "code",
   "execution_count": null,
   "metadata": {},
   "outputs": [],
   "source": []
  },
  {
   "source": [
    "oh yeah, cool that's better! We can now tell our vet to prioritise dogs who ate a high protein diet the night before. "
   ],
   "cell_type": "markdown",
   "metadata": {}
  },
  {
   "cell_type": "markdown",
   "id": "334a71ce",
   "metadata": {},
   "source": [
    "## Extrapolating\n",
    "\n",
    "What happens when we extrapolate our data - so we can see if dogs that ate meals even higher in protein are expected to get even sicker\n",
    "\n",
    "Extrapolate below so the range is 0 - 100 for linear, and do the same for polynomial. You can do this using the x_range argument. See 1a- unit 06 figures.py"
   ]
  },
  {
   "cell_type": "code",
   "execution_count": null,
   "metadata": {},
   "outputs": [],
   "source": []
  },
  {
   "cell_type": "markdown",
   "id": "e7b6a979",
   "metadata": {},
   "source": [
    "It expects temperature to go down, but linear expects to keep increasing.\n",
    "\n",
    "Eyeballing the earlier graphs, we have no reason to believe it will drop \n",
    "\n",
    "Lesson: it's not usually clever to extrapolate with polynomials unless you have an a-priori reason do so (which noone ever does, so just don't do it, kids)\n",
    "\n",
    "## Summary\n",
    "\n",
    "2-ish sentence summary"
   ]
  }
 ],
 "metadata": {
  "kernelspec": {
   "display_name": "Python 3",
   "language": "python",
   "name": "python3"
  },
  "language_info": {
   "codemirror_mode": {
    "name": "ipython",
    "version": 3
   },
   "file_extension": ".py",
   "mimetype": "text/x-python",
   "name": "python",
   "nbconvert_exporter": "python",
   "pygments_lexer": "ipython3",
   "version": "3.7.7"
  }
 },
 "nbformat": 4,
 "nbformat_minor": 5
}