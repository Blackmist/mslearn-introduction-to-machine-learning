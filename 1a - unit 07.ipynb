{
 "cells": [
  {
   "cell_type": "markdown",
   "id": "edd76bd1",
   "metadata": {},
   "source": [
    "# Exercise: Optimize a multiple linear regression model"
   ]
  },
  {
   "cell_type": "markdown",
   "id": "70d0b5f9",
   "metadata": {},
   "source": [
    "In this exercise, we will optimize the performance of our *multiple linear regression model* by working on the dataset."
   ]
  },
  {
   "cell_type": "markdown",
   "id": "3f30ffbd",
   "metadata": {},
   "source": [
    "## Data preparation"
   ]
  },
  {
   "cell_type": "markdown",
   "id": "b0e9f803",
   "metadata": {},
   "source": [
    "Let's start this exercise by loading in and having a look at our data."
   ]
  },
  {
   "cell_type": "code",
   "execution_count": 1,
   "id": "4eec3f24",
   "metadata": {
    "scrolled": true
   },
   "outputs": [],
   "source": [
    "import pandas as pd\n",
    "import matplotlib.pyplot as graph\n",
    "from matplotlib import cm\n",
    "from mpl_toolkits.mplot3d import Axes3D\n",
    "from sklearn.model_selection import train_test_split\n",
    "from sklearn.linear_model import LinearRegression\n",
    "from sklearn.metrics import r2_score\n",
    "from sklearn.preprocessing import StandardScaler\n",
    "from numpy import reshape, array, percentile, subtract, where, concatenate, shape, quantile\n",
    "import joblib\n",
    "\n",
    "#Import the data from the .csv file\n",
    "dataset = pd.read_csv('Data/auto-mpg-cleaned.csv') \n"
   ]
  },
  {
   "cell_type": "markdown",
   "id": "774c01eb",
   "metadata": {},
   "source": [
    "The *y values*, or *labels*, are represented by the `mpg` column. These are the values we are training our model to predict. There are 8 features for each label, which means that each *y value* is defined as a function of these 8 *x values*.\n",
    "The features can be split into two types: *numerical* and *categorical*. Let's have a look at the *categorical variables* and see if we can turn them into *numerical variables*."
   ]
  },
  {
   "cell_type": "code",
   "execution_count": 2,
   "id": "c616fed5",
   "metadata": {},
   "outputs": [
    {
     "name": "stdout",
     "output_type": "stream",
     "text": [
      "# unique cylinders: 5\n",
      "# unique origin: 3\n",
      "# unique car names: 301\n",
      "     cylinders  origin                      car name\n",
      "0            4       3                  datsun pl510\n",
      "1            4       2                      bmw 2002\n",
      "2            4       2  volkswagen 1131 deluxe sedan\n",
      "3            4       2                   peugeot 504\n",
      "4            4       2                      saab 99e\n",
      "..         ...     ...                           ...\n",
      "387          4       1      chevrolet cavalier wagon\n",
      "388          4       1    chrysler lebaron medallion\n",
      "389          6       1         buick century limited\n",
      "390          4       1          ford fairmont futura\n",
      "391          6       1                ford granada l\n",
      "\n",
      "[392 rows x 3 columns]\n"
     ]
    }
   ],
   "source": [
    "#Let's use pandas' concatenate function to create our categorical features subset\n",
    "categorical_features = pd.concat([dataset.iloc[:,1],dataset.iloc[:,7:]],axis=1)\n",
    "\n",
    "#How many different unique categories are there for each feature?\n",
    "unique_cylinders = categorical_features['cylinders'].unique()\n",
    "unique_origin = categorical_features['origin'].unique()\n",
    "unique_car_name = categorical_features['car name'].unique()\n",
    "\n",
    "print(f\"# unique cylinders: {len(unique_cylinders)}\")\n",
    "print(f\"# unique origin: {len(unique_origin)}\")\n",
    "print(f\"# unique car names: {len(unique_car_name)}\")\n",
    "\n",
    "print(categorical_features)\n"
   ]
  },
  {
   "cell_type": "markdown",
   "id": "f032ba4e",
   "metadata": {},
   "source": [
    "We can see that there are 301 unique car models out of a total 392 entries in the dataset. This would suggest that the `car name` is not a very useful metric. What if we split extract the car manufacturer from the this column, and use that as a feature instead? "
   ]
  },
  {
   "cell_type": "code",
   "execution_count": 3,
   "id": "67c0f5f6",
   "metadata": {},
   "outputs": [
    {
     "name": "stdout",
     "output_type": "stream",
     "text": [
      "# unique manufacturer: 37\n",
      "0          datsun\n",
      "1             bmw\n",
      "2      volkswagen\n",
      "3         peugeot\n",
      "4            saab\n",
      "          ...    \n",
      "387     chevrolet\n",
      "388      chrysler\n",
      "389         buick\n",
      "390          ford\n",
      "391          ford\n",
      "Name: 0, Length: 392, dtype: object\n",
      "     cylinders  origin           0\n",
      "0            4       3      datsun\n",
      "1            4       2         bmw\n",
      "2            4       2  volkswagen\n",
      "3            4       2     peugeot\n",
      "4            4       2        saab\n",
      "..         ...     ...         ...\n",
      "387          4       1   chevrolet\n",
      "388          4       1    chrysler\n",
      "389          6       1       buick\n",
      "390          4       1        ford\n",
      "391          6       1        ford\n",
      "\n",
      "[392 rows x 3 columns]\n",
      "None\n"
     ]
    }
   ],
   "source": [
    "manufacturer = dataset['car name'].str.split(expand=True).iloc[:,0]\n",
    "unique_manufacturer = manufacturer.unique()\n",
    "print(f\"# unique manufacturer: {len(unique_manufacturer)}\")\n",
    "print(manufacturer)\n",
    "\n",
    "#Join manufacturers column to categorical variables and drop the car name column\n",
    "\n",
    "categorical_features = pd.concat([categorical_features,manufacturer],axis=1)\n",
    "categorical_features = categorical_features.drop('car name', axis = 1)\n",
    "print(categorical_features)\n",
    "\n",
    "print(categorical_features.rename(columns={0:'manufacturer'},inplace=True))"
   ]
  },
  {
   "cell_type": "code",
   "execution_count": 4,
   "id": "734f0ed2",
   "metadata": {},
   "outputs": [
    {
     "name": "stdout",
     "output_type": "stream",
     "text": [
      "Index(['cylinders', 'origin', 'manufacturer'], dtype='object')\n"
     ]
    }
   ],
   "source": [
    "print(categorical_features.columns)"
   ]
  },
  {
   "cell_type": "markdown",
   "id": "4473e8ae",
   "metadata": {},
   "source": [
    "We can use these 37 `manufacturer` values as features instead! It's not unreasonable to assume that certain manufacturers may place a stronger emphasis on mpg performance than others.\n",
    "Now, all we need is to convert these categorical variables to numerical variables using *one hot encoding*."
   ]
  },
  {
   "cell_type": "code",
   "execution_count": 5,
   "id": "8f4f0423",
   "metadata": {},
   "outputs": [
    {
     "name": "stdout",
     "output_type": "stream",
     "text": [
      "      mpg  displacement  horsepower  weight  acceleration  model year  \\\n",
      "0    27.0          97.0          88    2130          14.5          70   \n",
      "1    26.0         121.0         113    2234          12.5          70   \n",
      "2    26.0          97.0          46    1835          20.5          70   \n",
      "3    25.0         110.0          87    2672          17.5          70   \n",
      "4    25.0         104.0          95    2375          17.5          70   \n",
      "..    ...           ...         ...     ...           ...         ...   \n",
      "387  27.0         112.0          88    2640          18.6          82   \n",
      "388  26.0         156.0          92    2585          14.5          82   \n",
      "389  25.0         181.0         110    2945          16.4          82   \n",
      "390  24.0         140.0          92    2865          16.4          82   \n",
      "391  22.0         232.0         112    2835          14.7          82   \n",
      "\n",
      "     cylinders_3  cylinders_4  cylinders_5  cylinders_6  ...  \\\n",
      "0              0            1            0            0  ...   \n",
      "1              0            1            0            0  ...   \n",
      "2              0            1            0            0  ...   \n",
      "3              0            1            0            0  ...   \n",
      "4              0            1            0            0  ...   \n",
      "..           ...          ...          ...          ...  ...   \n",
      "387            0            1            0            0  ...   \n",
      "388            0            1            0            0  ...   \n",
      "389            0            0            0            1  ...   \n",
      "390            0            1            0            0  ...   \n",
      "391            0            0            0            1  ...   \n",
      "\n",
      "     manufacturer_renault  manufacturer_saab  manufacturer_subaru  \\\n",
      "0                       0                  0                    0   \n",
      "1                       0                  0                    0   \n",
      "2                       0                  0                    0   \n",
      "3                       0                  0                    0   \n",
      "4                       0                  1                    0   \n",
      "..                    ...                ...                  ...   \n",
      "387                     0                  0                    0   \n",
      "388                     0                  0                    0   \n",
      "389                     0                  0                    0   \n",
      "390                     0                  0                    0   \n",
      "391                     0                  0                    0   \n",
      "\n",
      "     manufacturer_toyota  manufacturer_toyouta  manufacturer_triumph  \\\n",
      "0                      0                     0                     0   \n",
      "1                      0                     0                     0   \n",
      "2                      0                     0                     0   \n",
      "3                      0                     0                     0   \n",
      "4                      0                     0                     0   \n",
      "..                   ...                   ...                   ...   \n",
      "387                    0                     0                     0   \n",
      "388                    0                     0                     0   \n",
      "389                    0                     0                     0   \n",
      "390                    0                     0                     0   \n",
      "391                    0                     0                     0   \n",
      "\n",
      "     manufacturer_vokswagen  manufacturer_volkswagen  manufacturer_volvo  \\\n",
      "0                         0                        0                   0   \n",
      "1                         0                        0                   0   \n",
      "2                         0                        1                   0   \n",
      "3                         0                        0                   0   \n",
      "4                         0                        0                   0   \n",
      "..                      ...                      ...                 ...   \n",
      "387                       0                        0                   0   \n",
      "388                       0                        0                   0   \n",
      "389                       0                        0                   0   \n",
      "390                       0                        0                   0   \n",
      "391                       0                        0                   0   \n",
      "\n",
      "     manufacturer_vw  \n",
      "0                  0  \n",
      "1                  0  \n",
      "2                  0  \n",
      "3                  0  \n",
      "4                  0  \n",
      "..               ...  \n",
      "387                0  \n",
      "388                0  \n",
      "389                0  \n",
      "390                0  \n",
      "391                0  \n",
      "\n",
      "[392 rows x 51 columns]\n"
     ]
    }
   ],
   "source": [
    "\n",
    "#One hot encoding\n",
    "categorical_features['cylinders'] = categorical_features['cylinders'].astype('category')\n",
    "categorical_features['origin'] = categorical_features['origin'].astype('category')\n",
    "categorical_features['manufacturer'] = categorical_features['manufacturer'].astype('category')\n",
    "\n",
    "enc_categorical_features = pd.get_dummies(categorical_features)\n",
    "\n",
    "#Join to main dataset\n",
    "\n",
    "dataset = dataset.drop(['cylinders','origin','car name'], axis = 1)\n",
    "dataset = pd.concat([dataset,enc_categorical_features], axis=1)\n",
    "print(dataset)"
   ]
  },
  {
   "cell_type": "markdown",
   "id": "334a71ce",
   "metadata": {},
   "source": [
    "## Model performance"
   ]
  },
  {
   "cell_type": "markdown",
   "id": "e7b6a979",
   "metadata": {},
   "source": [
    "Ok, let's test model performance!"
   ]
  },
  {
   "cell_type": "code",
   "execution_count": 6,
   "id": "ffec871e",
   "metadata": {},
   "outputs": [
    {
     "name": "stdout",
     "output_type": "stream",
     "text": [
      "R2 score: 0.7525953593910831\n"
     ]
    },
    {
     "data": {
      "text/plain": [
       "['./cars_model_1.pkl']"
      ]
     },
     "execution_count": 6,
     "metadata": {},
     "output_type": "execute_result"
    }
   ],
   "source": [
    "X = array(dataset.drop(['mpg'], axis=1))\n",
    "y = array(dataset['mpg'])\n",
    "\n",
    "#random_state for reproducibilty\n",
    "X_train, X_test, y_train, y_test = train_test_split(X,y, test_size=0.2, random_state=0)\n",
    "\n",
    "#reshape arrays for 'LinearRegression'\n",
    "\n",
    "y_train = y_train.reshape(-1,1)\n",
    "y_test = y_test.reshape(-1,1)\n",
    "\n",
    "model = LinearRegression().fit(X_train,y_train)\n",
    "\n",
    "y_pred = model.predict(X_test)\n",
    "\n",
    "rms = r2_score(y_test,y_pred)\n",
    "print(f\"R2 score: {rms}\")\n",
    "\n",
    "# Save the model as a pickle file\n",
    "filename_1 = './cars_model_1.pkl'\n",
    "joblib.dump(model, filename_1)"
   ]
  },
  {
   "cell_type": "markdown",
   "id": "0202cd41",
   "metadata": {},
   "source": [
    "Here, we are gauging the performance of our model using the *R2* metric. The *R2* metric is a measure of how well the data points match our fitted model. The closer the *R2* value is to 1, the better our model explains the data points."
   ]
  },
  {
   "cell_type": "markdown",
   "id": "8b767509",
   "metadata": {},
   "source": [
    "## Further optimization"
   ]
  },
  {
   "cell_type": "markdown",
   "id": "97bc7dec",
   "metadata": {},
   "source": [
    "Let's see if we can optimize this model further. Let's start by having a look at the feature names again."
   ]
  },
  {
   "cell_type": "code",
   "execution_count": 7,
   "id": "977b6145",
   "metadata": {
    "scrolled": true
   },
   "outputs": [
    {
     "name": "stdout",
     "output_type": "stream",
     "text": [
      "['mpg' 'displacement' 'horsepower' 'weight' 'acceleration' 'model year'\n",
      " 'cylinders_3' 'cylinders_4' 'cylinders_5' 'cylinders_6' 'cylinders_8'\n",
      " 'origin_1' 'origin_2' 'origin_3' 'manufacturer_amc' 'manufacturer_audi'\n",
      " 'manufacturer_bmw' 'manufacturer_buick' 'manufacturer_cadillac'\n",
      " 'manufacturer_capri' 'manufacturer_chevroelt' 'manufacturer_chevrolet'\n",
      " 'manufacturer_chevy' 'manufacturer_chrysler' 'manufacturer_datsun'\n",
      " 'manufacturer_dodge' 'manufacturer_fiat' 'manufacturer_ford'\n",
      " 'manufacturer_hi' 'manufacturer_honda' 'manufacturer_maxda'\n",
      " 'manufacturer_mazda' 'manufacturer_mercedes' 'manufacturer_mercedes-benz'\n",
      " 'manufacturer_mercury' 'manufacturer_nissan' 'manufacturer_oldsmobile'\n",
      " 'manufacturer_opel' 'manufacturer_peugeot' 'manufacturer_plymouth'\n",
      " 'manufacturer_pontiac' 'manufacturer_renault' 'manufacturer_saab'\n",
      " 'manufacturer_subaru' 'manufacturer_toyota' 'manufacturer_toyouta'\n",
      " 'manufacturer_triumph' 'manufacturer_vokswagen' 'manufacturer_volkswagen'\n",
      " 'manufacturer_volvo' 'manufacturer_vw']\n"
     ]
    }
   ],
   "source": [
    "print(dataset.columns.values)"
   ]
  },
  {
   "cell_type": "markdown",
   "id": "76d5b00a",
   "metadata": {},
   "source": [
    "It seems that there are some mistakes in the names of the car manufacturers, leading to some extra, unneeded, features. Let's fix that by combining them."
   ]
  },
  {
   "cell_type": "code",
   "execution_count": 8,
   "id": "a20fed1b",
   "metadata": {},
   "outputs": [],
   "source": [
    "#sum the columns\n",
    "dataset[\"manufacturer_volkswagen\"] = dataset[\"manufacturer_volkswagen\"] + dataset[\"manufacturer_vokswagen\"] + dataset['manufacturer_vw']\n",
    "dataset[\"manufacturer_toyota\"] = dataset[\"manufacturer_toyota\"] + dataset[\"manufacturer_toyouta\"]\n",
    "dataset[\"manufacturer_chevrolet\"] = dataset[\"manufacturer_chevrolet\"] + dataset[\"manufacturer_chevroelt\"] + dataset[\"manufacturer_chevy\"]\n",
    "dataset[\"manufacturer_mazda\"] = dataset[\"manufacturer_mazda\"] + dataset[\"manufacturer_maxda\"]\n",
    "dataset[\"manufacturer_mercedes-benz\"] = dataset[\"manufacturer_mercedes-benz\"] + dataset[\"manufacturer_mercedes\"]\n",
    "\n",
    "#drop the unneeded columns\n",
    "dataset = dataset.drop(['manufacturer_vokswagen','manufacturer_vw','manufacturer_toyouta','manufacturer_chevroelt','manufacturer_chevy','manufacturer_maxda','manufacturer_mercedes'], axis = 1)\n"
   ]
  },
  {
   "cell_type": "code",
   "execution_count": 9,
   "id": "e97369e4",
   "metadata": {},
   "outputs": [
    {
     "name": "stdout",
     "output_type": "stream",
     "text": [
      "R2 score: 0.76854834172345\n"
     ]
    },
    {
     "data": {
      "text/plain": [
       "['./cars_model_2.pkl']"
      ]
     },
     "execution_count": 9,
     "metadata": {},
     "output_type": "execute_result"
    }
   ],
   "source": [
    "X = array(dataset.drop(['mpg'], axis=1))\n",
    "y = array(dataset['mpg'])\n",
    "\n",
    "#random_state for reproducibilty\n",
    "X_train, X_test, y_train, y_test = train_test_split(X,y, test_size=0.2, random_state=0)\n",
    "\n",
    "#reshape arrays for 'LinearRegression'\n",
    "\n",
    "y_train = y_train.reshape(-1,1)\n",
    "y_test = y_test.reshape(-1,1)\n",
    "\n",
    "model = LinearRegression().fit(X_train,y_train)\n",
    "\n",
    "y_pred = model.predict(X_test)\n",
    "\n",
    "rms = r2_score(y_test,y_pred)\n",
    "print(f\"R2 score: {rms}\")\n",
    "\n",
    "# Save the model as a pickle file\n",
    "filename_2 = './cars_model_2.pkl'\n",
    "joblib.dump(model, filename_2)"
   ]
  },
  {
   "cell_type": "markdown",
   "id": "33290333",
   "metadata": {},
   "source": [
    "The *R2* score obtained by this model is closer to 1 than the previous model. By just simply looking at the dataset, we were able to spot small, easy to fix mistakes that were negatively impacting our model's performance. Let's see if we can use some statisitcal techniques to improve performance even more!"
   ]
  },
  {
   "cell_type": "markdown",
   "id": "9705c533",
   "metadata": {},
   "source": [
    "## Outlier removal"
   ]
  },
  {
   "cell_type": "markdown",
   "id": "d38d189b",
   "metadata": {},
   "source": [
    "We tend to assume that most of the values of our data fall within a certain range, but sometimes, maybe due to a measurement error, some vales are completely different from the rest. We call these values *outliers*, and it is important to deal with them to reduce their imapct on our predictions. There exists a variety of different ways to treat *outliers*, but this time we will just remove any rows containing them from the dataset.  "
   ]
  },
  {
   "cell_type": "code",
   "execution_count": 10,
   "id": "a721f689",
   "metadata": {
    "scrolled": true
   },
   "outputs": [],
   "source": [
    "#We don't include the one hot encoded columns, just the original numerical features\n",
    "\n",
    "ol_dataset = dataset.iloc[:,1:5]\n",
    "\n",
    "Q1 = ol_dataset.quantile(0.25)\n",
    "Q3 = ol_dataset.quantile(0.75)\n",
    "IQR = Q3 - Q1\n",
    "\n",
    "#Sensitivity is 1.5x\n",
    "Q1_bound = Q1 - 1.5 * IQR\n",
    "Q3_bound = Q3 + 1.5 * IQR\n",
    "\n",
    "dataset = dataset[~((ol_dataset < Q1_bound) |(ol_dataset > Q3_bound)).any(axis=1)]\n",
    "\n"
   ]
  },
  {
   "cell_type": "code",
   "execution_count": 11,
   "id": "09928d4d",
   "metadata": {},
   "outputs": [
    {
     "name": "stdout",
     "output_type": "stream",
     "text": [
      "R2 score: 0.779201794911517\n"
     ]
    },
    {
     "data": {
      "text/plain": [
       "['./cars_model_3.pkl']"
      ]
     },
     "execution_count": 11,
     "metadata": {},
     "output_type": "execute_result"
    }
   ],
   "source": [
    "X = array(dataset.drop(['mpg'], axis=1))\n",
    "y = array(dataset['mpg'])\n",
    "\n",
    "#random_state for reproducibilty\n",
    "X_train, X_test, y_train, y_test = train_test_split(X,y, test_size=0.2, random_state=0)\n",
    "\n",
    "#reshape arrays for 'LinearRegression'\n",
    "\n",
    "y_train = y_train.reshape(-1,1)\n",
    "y_test = y_test.reshape(-1,1)\n",
    "\n",
    "model = LinearRegression().fit(X_train,y_train)\n",
    "\n",
    "y_pred = model.predict(X_test)\n",
    "\n",
    "rms = r2_score(y_test,y_pred)\n",
    "print(f\"R2 score: {rms}\")\n",
    "\n",
    "# Save the model as a pickle file\n",
    "filename_3 = './cars_model_3.pkl'\n",
    "joblib.dump(model, filename_3)"
   ]
  },
  {
   "cell_type": "markdown",
   "id": "a7fcc2e5",
   "metadata": {},
   "source": [
    "Removing the *outliers* from our dataset has further improved our *R2* score. By removing the points outside of our defined range for each feature in the dataset, we are able make sure that our model only takes into account relevant data points.  \n"
   ]
  },
  {
   "cell_type": "markdown",
   "id": "e0a83150",
   "metadata": {},
   "source": [
    "## Summary\n",
    "We covered the following concepts in this exercise:\n",
    "\n",
    "- Improve the a model's performance by working on the data: we used one hot encoding, manually cleaned up the data, and removed outliers\n",
    "- Covered the concept of the R2 score, and how it can be used to gauge a model's performance\n"
   ]
  }
 ],
 "metadata": {
  "kernelspec": {
   "display_name": "Python 3",
   "language": "python",
   "name": "python3"
  },
  "language_info": {
   "codemirror_mode": {
    "name": "ipython",
    "version": 3
   },
   "file_extension": ".py",
   "mimetype": "text/x-python",
   "name": "python",
   "nbconvert_exporter": "python",
   "pygments_lexer": "ipython3",
   "version": "3.7.7"
  }
 },
 "nbformat": 4,
 "nbformat_minor": 5
}
